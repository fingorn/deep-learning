{
 "cells": [
  {
   "cell_type": "markdown",
   "metadata": {
    "collapsed": true
   },
   "source": [
    "# Image Classification\n",
    "In this project, you'll classify images from the [CIFAR-10 dataset](https://www.cs.toronto.edu/~kriz/cifar.html).  The dataset consists of airplanes, dogs, cats, and other objects. You'll preprocess the images, then train a convolutional neural network on all the samples. The images need to be normalized and the labels need to be one-hot encoded.  You'll get to apply what you learned and build a convolutional, max pooling, dropout, and fully connected layers.  At the end, you'll get to see your neural network's predictions on the sample images.\n",
    "## Get the Data\n",
    "Run the following cell to download the [CIFAR-10 dataset for python](https://www.cs.toronto.edu/~kriz/cifar-10-python.tar.gz)."
   ]
  },
  {
   "cell_type": "code",
<<<<<<< HEAD
   "execution_count": 2,
   "metadata": {
    "collapsed": false
   },
   "outputs": [
    {
     "name": "stdout",
     "output_type": "stream",
     "text": [
      "All files found!\n"
     ]
    }
   ],
=======
   "execution_count": null,
   "metadata": {},
   "outputs": [],
>>>>>>> upstream/master
   "source": [
    "\"\"\"\n",
    "DON'T MODIFY ANYTHING IN THIS CELL THAT IS BELOW THIS LINE\n",
    "\"\"\"\n",
    "from urllib.request import urlretrieve\n",
    "from os.path import isfile, isdir\n",
    "from tqdm import tqdm\n",
    "import problem_unittests as tests\n",
    "import tarfile\n",
    "\n",
    "cifar10_dataset_folder_path = 'cifar-10-batches-py'\n",
    "\n",
    "# Use Floyd's cifar-10 dataset if present\n",
    "floyd_cifar10_location = '/cifar/cifar-10-python.tar.gz'\n",
    "if isfile(floyd_cifar10_location):\n",
    "    tar_gz_path = floyd_cifar10_location\n",
    "else:\n",
    "    tar_gz_path = 'cifar-10-python.tar.gz'\n",
    "\n",
    "class DLProgress(tqdm):\n",
    "    last_block = 0\n",
    "\n",
    "    def hook(self, block_num=1, block_size=1, total_size=None):\n",
    "        self.total = total_size\n",
    "        self.update((block_num - self.last_block) * block_size)\n",
    "        self.last_block = block_num\n",
    "\n",
    "if not isfile(tar_gz_path):\n",
    "    with DLProgress(unit='B', unit_scale=True, miniters=1, desc='CIFAR-10 Dataset') as pbar:\n",
    "        urlretrieve(\n",
    "            'https://www.cs.toronto.edu/~kriz/cifar-10-python.tar.gz',\n",
    "            tar_gz_path,\n",
    "            pbar.hook)\n",
    "\n",
    "if not isdir(cifar10_dataset_folder_path):\n",
    "    with tarfile.open(tar_gz_path) as tar:\n",
    "        tar.extractall()\n",
    "        tar.close()\n",
    "\n",
    "\n",
    "tests.test_folder_path(cifar10_dataset_folder_path)"
   ]
  },
  {
   "cell_type": "markdown",
   "metadata": {},
   "source": [
    "## Explore the Data\n",
    "The dataset is broken into batches to prevent your machine from running out of memory.  The CIFAR-10 dataset consists of 5 batches, named `data_batch_1`, `data_batch_2`, etc.. Each batch contains the labels and images that are one of the following:\n",
    "* airplane\n",
    "* automobile\n",
    "* bird\n",
    "* cat\n",
    "* deer\n",
    "* dog\n",
    "* frog\n",
    "* horse\n",
    "* ship\n",
    "* truck\n",
    "\n",
    "Understanding a dataset is part of making predictions on the data.  Play around with the code cell below by changing the `batch_id` and `sample_id`. The `batch_id` is the id for a batch (1-5). The `sample_id` is the id for a image and label pair in the batch.\n",
    "\n",
    "Ask yourself \"What are all possible labels?\", \"What is the range of values for the image data?\", \"Are the labels in order or random?\".  Answers to questions like these will help you preprocess the data and end up with better predictions."
   ]
  },
  {
   "cell_type": "code",
<<<<<<< HEAD
   "execution_count": 3,
   "metadata": {
    "collapsed": false
   },
   "outputs": [
    {
     "name": "stdout",
     "output_type": "stream",
     "text": [
      "\n",
      "Stats of batch 1:\n",
      "Samples: 10000\n",
      "Label Counts: {0: 1005, 1: 974, 2: 1032, 3: 1016, 4: 999, 5: 937, 6: 1030, 7: 1001, 8: 1025, 9: 981}\n",
      "First 20 Labels: [6, 9, 9, 4, 1, 1, 2, 7, 8, 3, 4, 7, 7, 2, 9, 9, 9, 3, 2, 6]\n",
      "\n",
      "Example of Image 5:\n",
      "Image - Min Value: 0 Max Value: 252\n",
      "Image - Shape: (32, 32, 3)\n",
      "Label - Label Id: 1 Name: automobile\n"
     ]
    },
    {
     "data": {
      "image/png": "iVBORw0KGgoAAAANSUhEUgAAAfoAAAH0CAYAAADVH+85AAAABHNCSVQICAgIfAhkiAAAAAlwSFlz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\nrkJggg==\n",
      "text/plain": [
       "<matplotlib.figure.Figure at 0xa333278>"
      ]
     },
     "metadata": {
      "image/png": {
       "height": 250,
       "width": 253
      }
     },
     "output_type": "display_data"
    }
   ],
=======
   "execution_count": null,
   "metadata": {},
   "outputs": [],
>>>>>>> upstream/master
   "source": [
    "%matplotlib inline\n",
    "%config InlineBackend.figure_format = 'retina'\n",
    "\n",
    "import helper\n",
    "import numpy as np\n",
    "\n",
    "# Explore the dataset\n",
    "batch_id = 1\n",
    "sample_id = 5\n",
    "helper.display_stats(cifar10_dataset_folder_path, batch_id, sample_id)"
   ]
  },
  {
   "cell_type": "code",
   "execution_count": 4,
   "metadata": {
    "collapsed": true
   },
   "outputs": [],
   "source": [
    "from IPython.core.interactiveshell import InteractiveShell\n",
    "InteractiveShell.ast_node_interactivity = 'all'"
   ]
  },
  {
   "cell_type": "markdown",
   "metadata": {},
   "source": [
    "## Implement Preprocess Functions\n",
    "### Normalize\n",
    "In the cell below, implement the `normalize` function to take in image data, `x`, and return it as a normalized Numpy array. The values should be in the range of 0 to 1, inclusive.  The return object should be the same shape as `x`."
   ]
  },
  {
   "cell_type": "code",
<<<<<<< HEAD
   "execution_count": 5,
   "metadata": {
    "collapsed": false
   },
   "outputs": [
    {
     "data": {
      "text/plain": [
       "\"\\nDON'T MODIFY ANYTHING IN THIS CELL THAT IS BELOW THIS LINE\\n\""
      ]
     },
     "execution_count": 5,
     "metadata": {},
     "output_type": "execute_result"
    },
    {
     "name": "stdout",
     "output_type": "stream",
     "text": [
      "Tests Passed\n"
     ]
    }
   ],
=======
   "execution_count": null,
   "metadata": {},
   "outputs": [],
>>>>>>> upstream/master
   "source": [
    "def normalize(x):\n",
    "    \"\"\"\n",
    "    Normalize a list of sample image data in the range of 0 to 1\n",
    "    : x: List of image data.  The image shape is (32, 32, 3)\n",
    "    : return: Numpy array of normalize data\n",
    "    \"\"\"\n",
    "    # TODO: Implement Function\n",
    "    return x/255.0\n",
    "\n",
    "\n",
    "\"\"\"\n",
    "DON'T MODIFY ANYTHING IN THIS CELL THAT IS BELOW THIS LINE\n",
    "\"\"\"\n",
    "tests.test_normalize(normalize)"
   ]
  },
  {
   "cell_type": "markdown",
   "metadata": {},
   "source": [
    "### One-hot encode\n",
    "Just like the previous code cell, you'll be implementing a function for preprocessing.  This time, you'll implement the `one_hot_encode` function. The input, `x`, are a list of labels.  Implement the function to return the list of labels as One-Hot encoded Numpy array.  The possible values for labels are 0 to 9. The one-hot encoding function should return the same encoding for each value between each call to `one_hot_encode`.  Make sure to save the map of encodings outside the function.\n",
    "\n",
    "Hint: Don't reinvent the wheel."
   ]
  },
  {
   "cell_type": "code",
<<<<<<< HEAD
   "execution_count": 6,
   "metadata": {
    "collapsed": false
   },
   "outputs": [
    {
     "data": {
      "text/plain": [
       "\"\\nDON'T MODIFY ANYTHING IN THIS CELL THAT IS BELOW THIS LINE\\n\""
      ]
     },
     "execution_count": 6,
     "metadata": {},
     "output_type": "execute_result"
    },
    {
     "name": "stdout",
     "output_type": "stream",
     "text": [
      "Tests Passed\n"
     ]
    }
   ],
=======
   "execution_count": null,
   "metadata": {},
   "outputs": [],
>>>>>>> upstream/master
   "source": [
    "from sklearn import preprocessing\n",
    "lb = None\n",
    "def one_hot_encode(x):\n",
    "    \"\"\"\n",
    "    One hot encode a list of sample labels. Return a one-hot encoded vector for each label.\n",
    "    : x: List of sample Labels\n",
    "    : return: Numpy array of one-hot encoded labels\n",
    "    \"\"\"\n",
    "    # TODO: Implement Function\n",
    "    global lb\n",
    "    if not lb:\n",
    "        lb = preprocessing.LabelBinarizer()\n",
    "        lb.fit(x)\n",
    "        \n",
    "    return lb.transform(x)\n",
    "\n",
    "\n",
    "\"\"\"\n",
    "DON'T MODIFY ANYTHING IN THIS CELL THAT IS BELOW THIS LINE\n",
    "\"\"\"\n",
    "tests.test_one_hot_encode(one_hot_encode)"
   ]
  },
  {
   "cell_type": "markdown",
   "metadata": {},
   "source": [
    "### Randomize Data\n",
    "As you saw from exploring the data above, the order of the samples are randomized.  It doesn't hurt to randomize it again, but you don't need to for this dataset."
   ]
  },
  {
   "cell_type": "markdown",
   "metadata": {},
   "source": [
    "## Preprocess all the data and save it\n",
    "Running the code cell below will preprocess all the CIFAR-10 data and save it to file. The code below also uses 10% of the training data for validation."
   ]
  },
  {
   "cell_type": "code",
<<<<<<< HEAD
   "execution_count": 7,
   "metadata": {
    "collapsed": false
   },
   "outputs": [
    {
     "data": {
      "text/plain": [
       "\"\\nDON'T MODIFY ANYTHING IN THIS CELL\\n\""
      ]
     },
     "execution_count": 7,
     "metadata": {},
     "output_type": "execute_result"
    }
   ],
=======
   "execution_count": null,
   "metadata": {},
   "outputs": [],
>>>>>>> upstream/master
   "source": [
    "\"\"\"\n",
    "DON'T MODIFY ANYTHING IN THIS CELL\n",
    "\"\"\"\n",
    "# Preprocess Training, Validation, and Testing Data\n",
    "helper.preprocess_and_save_data(cifar10_dataset_folder_path, normalize, one_hot_encode)"
   ]
  },
  {
   "cell_type": "markdown",
   "metadata": {},
   "source": [
    "# Check Point\n",
    "This is your first checkpoint.  If you ever decide to come back to this notebook or have to restart the notebook, you can start from here.  The preprocessed data has been saved to disk."
   ]
  },
  {
   "cell_type": "code",
   "execution_count": 8,
   "metadata": {
    "collapsed": false
   },
   "outputs": [
    {
     "data": {
      "text/plain": [
       "\"\\nDON'T MODIFY ANYTHING IN THIS CELL\\n\""
      ]
     },
     "execution_count": 8,
     "metadata": {},
     "output_type": "execute_result"
    }
   ],
   "source": [
    "\"\"\"\n",
    "DON'T MODIFY ANYTHING IN THIS CELL\n",
    "\"\"\"\n",
    "import pickle\n",
    "import problem_unittests as tests\n",
    "import helper\n",
    "\n",
    "# Load the Preprocessed Validation data\n",
    "valid_features, valid_labels = pickle.load(open('preprocess_validation.p', mode='rb'))"
   ]
  },
  {
   "cell_type": "markdown",
   "metadata": {},
   "source": [
    "## Build the network\n",
    "For the neural network, you'll build each layer into a function.  Most of the code you've seen has been outside of functions. To test your code more thoroughly, we require that you put each layer in a function.  This allows us to give you better feedback and test for simple mistakes using our unittests before you submit your project.\n",
    "\n",
    ">**Note:** If you're finding it hard to dedicate enough time for this course each week, we've provided a small shortcut to this part of the project. In the next couple of problems, you'll have the option to use classes from the [TensorFlow Layers](https://www.tensorflow.org/api_docs/python/tf/layers) or [TensorFlow Layers (contrib)](https://www.tensorflow.org/api_guides/python/contrib.layers) packages to build each layer, except the layers you build in the \"Convolutional and Max Pooling Layer\" section.  TF Layers is similar to Keras's and TFLearn's abstraction to layers, so it's easy to pickup.\n",
    "\n",
    ">However, if you would like to get the most out of this course, try to solve all the problems _without_ using anything from the TF Layers packages. You **can** still use classes from other packages that happen to have the same name as ones you find in TF Layers! For example, instead of using the TF Layers version of the `conv2d` class, [tf.layers.conv2d](https://www.tensorflow.org/api_docs/python/tf/layers/conv2d), you would want to use the TF Neural Network version of `conv2d`, [tf.nn.conv2d](https://www.tensorflow.org/api_docs/python/tf/nn/conv2d). \n",
    "\n",
    "Let's begin!\n",
    "\n",
    "### Input\n",
    "The neural network needs to read the image data, one-hot encoded labels, and dropout keep probability. Implement the following functions\n",
    "* Implement `neural_net_image_input`\n",
    " * Return a [TF Placeholder](https://www.tensorflow.org/api_docs/python/tf/placeholder)\n",
    " * Set the shape using `image_shape` with batch size set to `None`.\n",
    " * Name the TensorFlow placeholder \"x\" using the TensorFlow `name` parameter in the [TF Placeholder](https://www.tensorflow.org/api_docs/python/tf/placeholder).\n",
    "* Implement `neural_net_label_input`\n",
    " * Return a [TF Placeholder](https://www.tensorflow.org/api_docs/python/tf/placeholder)\n",
    " * Set the shape using `n_classes` with batch size set to `None`.\n",
    " * Name the TensorFlow placeholder \"y\" using the TensorFlow `name` parameter in the [TF Placeholder](https://www.tensorflow.org/api_docs/python/tf/placeholder).\n",
    "* Implement `neural_net_keep_prob_input`\n",
    " * Return a [TF Placeholder](https://www.tensorflow.org/api_docs/python/tf/placeholder) for dropout keep probability.\n",
    " * Name the TensorFlow placeholder \"keep_prob\" using the TensorFlow `name` parameter in the [TF Placeholder](https://www.tensorflow.org/api_docs/python/tf/placeholder).\n",
    "\n",
    "These names will be used at the end of the project to load your saved model.\n",
    "\n",
    "Note: `None` for shapes in TensorFlow allow for a dynamic size."
   ]
  },
  {
   "cell_type": "code",
<<<<<<< HEAD
   "execution_count": 26,
   "metadata": {
    "collapsed": false
   },
   "outputs": [
    {
     "data": {
      "text/plain": [
       "\"\\nDON'T MODIFY ANYTHING IN THIS CELL THAT IS BELOW THIS LINE\\n\""
      ]
     },
     "execution_count": 26,
     "metadata": {},
     "output_type": "execute_result"
    },
    {
     "name": "stdout",
     "output_type": "stream",
     "text": [
      "Image Input Tests Passed.\n",
      "Label Input Tests Passed.\n",
      "Keep Prob Tests Passed.\n"
     ]
    }
   ],
=======
   "execution_count": null,
   "metadata": {},
   "outputs": [],
>>>>>>> upstream/master
   "source": [
    "import tensorflow as tf\n",
    "\n",
    "def neural_net_image_input(image_shape):\n",
    "    \"\"\"\n",
    "    Return a Tensor for a batch of image input\n",
    "    : image_shape: Shape of the images\n",
    "    : return: Tensor for image input.\n",
    "    \"\"\"\n",
    "    return tf.placeholder(tf.float32, [None, image_shape[0], image_shape[1], image_shape[2] ], name='x')\n",
    "\n",
    "\n",
    "def neural_net_label_input(n_classes):\n",
    "    \"\"\"\n",
    "    Return a Tensor for a batch of label input\n",
    "    : n_classes: Number of classes\n",
    "    : return: Tensor for label input.\n",
    "    \"\"\"\n",
    "    return tf.placeholder(tf.float32, [None, n_classes] , name='y')\n",
    "\n",
    "\n",
    "def neural_net_keep_prob_input():\n",
    "    \"\"\"\n",
    "    Return a Tensor for keep probability\n",
    "    : return: Tensor for keep probability.\n",
    "    \"\"\"\n",
    "    return tf.placeholder(tf.float32, name='keep_prob')\n",
    "\n",
    "\n",
    "\"\"\"\n",
    "DON'T MODIFY ANYTHING IN THIS CELL THAT IS BELOW THIS LINE\n",
    "\"\"\"\n",
    "tf.reset_default_graph()\n",
    "tests.test_nn_image_inputs(neural_net_image_input)\n",
    "tests.test_nn_label_inputs(neural_net_label_input)\n",
    "tests.test_nn_keep_prob_inputs(neural_net_keep_prob_input)"
   ]
  },
  {
   "cell_type": "markdown",
   "metadata": {},
   "source": [
    "### Convolution and Max Pooling Layer\n",
    "Convolution layers have a lot of success with images. For this code cell, you should implement the function `conv2d_maxpool` to apply convolution then max pooling:\n",
    "* Create the weight and bias using `conv_ksize`, `conv_num_outputs` and the shape of `x_tensor`.\n",
    "* Apply a convolution to `x_tensor` using weight and `conv_strides`.\n",
    " * We recommend you use same padding, but you're welcome to use any padding.\n",
    "* Add bias\n",
    "* Add a nonlinear activation to the convolution.\n",
    "* Apply Max Pooling using `pool_ksize` and `pool_strides`.\n",
    " * We recommend you use same padding, but you're welcome to use any padding.\n",
    "\n",
    "**Note:** You **can't** use [TensorFlow Layers](https://www.tensorflow.org/api_docs/python/tf/layers) or [TensorFlow Layers (contrib)](https://www.tensorflow.org/api_guides/python/contrib.layers) for **this** layer, but you can still use TensorFlow's [Neural Network](https://www.tensorflow.org/api_docs/python/tf/nn) package. You may still use the shortcut option for all the **other** layers."
   ]
  },
  {
   "cell_type": "code",
<<<<<<< HEAD
   "execution_count": 11,
   "metadata": {
    "collapsed": false
   },
   "outputs": [
    {
     "data": {
      "text/plain": [
       "\"\\nDON'T MODIFY ANYTHING IN THIS CELL THAT IS BELOW THIS LINE\\n\""
      ]
     },
     "execution_count": 11,
     "metadata": {},
     "output_type": "execute_result"
    },
    {
     "name": "stdout",
     "output_type": "stream",
     "text": [
      "Tests Passed\n"
     ]
    }
   ],
=======
   "execution_count": null,
   "metadata": {},
   "outputs": [],
>>>>>>> upstream/master
   "source": [
    "def conv2d_maxpool(x_tensor, conv_num_outputs, conv_ksize, conv_strides, pool_ksize, pool_strides):\n",
    "    \"\"\"\n",
    "    Apply convolution then max pooling to x_tensor\n",
    "    :param x_tensor: TensorFlow Tensor\n",
    "    :param conv_num_outputs: Number of outputs for the convolutional layer\n",
    "    :param conv_ksize: kernal size 2-D Tuple for the convolutional layer\n",
    "    :param conv_strides: Stride 2-D Tuple for convolution\n",
    "    :param pool_ksize: kernal size 2-D Tuple for pool\n",
    "    :param pool_strides: Stride 2-D Tuple for pool\n",
    "    : return: A tensor that represents convolution and max pooling of x_tensor\n",
    "    \"\"\"\n",
    "    # index 0: batch, 1: width, 2:height, 3: depth\n",
    "    x_input_shape = x_tensor.get_shape().as_list() \n",
    "    \n",
    "    \n",
    "    \n",
    "    #for tf.Variable, don't put tf.float32 as the first argument\n",
    "    # [height, width, input depth, output_depth]\n",
    "    F_W = tf.Variable(tf.truncated_normal((conv_ksize[0],conv_ksize[1],x_input_shape[3],conv_num_outputs), stddev=0.05)) \n",
    "    F_B = tf.Variable(tf.zeros((conv_num_outputs)))\n",
    "    \n",
    "    #[batch_size, height, width, depth]\n",
    "    strides = [1, conv_strides[0], conv_strides[1], 1]\n",
    "    padding = 'SAME'\n",
    "    \n",
    "    convolution = tf.nn.conv2d(x_tensor, F_W, strides, padding)\n",
    "    convolution = tf.nn.bias_add(convolution, F_B)\n",
    "    convolution = tf.nn.relu(convolution)\n",
    "    \n",
    "    #[batch_size, filter height, filter width, depth ] batch_size & depth == 1 for maxpool\n",
    "    mpool_ksize = [1, pool_ksize[0], pool_ksize[1], 1]\n",
    "    \n",
    "    #[batch_size, height_stride, width_stride, depth]\n",
    "    mpool_strides = [1, pool_strides[0], pool_strides[1], 1]\n",
    "    \n",
    "    convolution = tf.nn.max_pool(convolution, mpool_ksize, mpool_strides, padding)\n",
    "    \n",
    "    return convolution\n",
    "\n",
    "\n",
    "\n",
    "\"\"\"\n",
    "DON'T MODIFY ANYTHING IN THIS CELL THAT IS BELOW THIS LINE\n",
    "\"\"\"\n",
    "tests.test_con_pool(conv2d_maxpool)"
   ]
  },
  {
   "cell_type": "markdown",
   "metadata": {},
   "source": [
    "### Flatten Layer\n",
    "Implement the `flatten` function to change the dimension of `x_tensor` from a 4-D tensor to a 2-D tensor.  The output should be the shape (*Batch Size*, *Flattened Image Size*). Shortcut option: you can use classes from the [TensorFlow Layers](https://www.tensorflow.org/api_docs/python/tf/layers) or [TensorFlow Layers (contrib)](https://www.tensorflow.org/api_guides/python/contrib.layers) packages for this layer. For more of a challenge, only use other TensorFlow packages."
   ]
  },
  {
   "cell_type": "code",
<<<<<<< HEAD
   "execution_count": 12,
   "metadata": {
    "collapsed": false
   },
   "outputs": [
    {
     "data": {
      "text/plain": [
       "\"\\nDON'T MODIFY ANYTHING IN THIS CELL THAT IS BELOW THIS LINE\\n\""
      ]
     },
     "execution_count": 12,
     "metadata": {},
     "output_type": "execute_result"
    },
    {
     "name": "stdout",
     "output_type": "stream",
     "text": [
      "Tests Passed\n"
     ]
    }
   ],
=======
   "execution_count": null,
   "metadata": {},
   "outputs": [],
>>>>>>> upstream/master
   "source": [
    "def flatten(x_tensor):\n",
    "    \"\"\"\n",
    "    Flatten x_tensor to (Batch Size, Flattened Image Size)\n",
    "    : x_tensor: A tensor of size (Batch Size, ...), where ... are the image dimensions.\n",
    "    : return: A tensor of size (Batch Size, Flattened Image Size).\n",
    "    \"\"\"\n",
    "    dimensions = x_tensor.get_shape().as_list()\n",
    "    return tf.reshape(x_tensor, [ -1, dimensions[1] * dimensions[2] * dimensions[3]])\n",
    "\n",
    "\n",
    "\"\"\"\n",
    "DON'T MODIFY ANYTHING IN THIS CELL THAT IS BELOW THIS LINE\n",
    "\"\"\"\n",
    "tests.test_flatten(flatten)"
   ]
  },
  {
   "cell_type": "markdown",
   "metadata": {},
   "source": [
    "### Fully-Connected Layer\n",
    "Implement the `fully_conn` function to apply a fully connected layer to `x_tensor` with the shape (*Batch Size*, *num_outputs*). Shortcut option: you can use classes from the [TensorFlow Layers](https://www.tensorflow.org/api_docs/python/tf/layers) or [TensorFlow Layers (contrib)](https://www.tensorflow.org/api_guides/python/contrib.layers) packages for this layer. For more of a challenge, only use other TensorFlow packages."
   ]
  },
  {
   "cell_type": "code",
<<<<<<< HEAD
   "execution_count": 22,
   "metadata": {
    "collapsed": false
   },
   "outputs": [
    {
     "data": {
      "text/plain": [
       "\"\\nDON'T MODIFY ANYTHING IN THIS CELL THAT IS BELOW THIS LINE\\n\""
      ]
     },
     "execution_count": 22,
     "metadata": {},
     "output_type": "execute_result"
    },
    {
     "name": "stdout",
     "output_type": "stream",
     "text": [
      "Tests Passed\n"
     ]
    }
   ],
=======
   "execution_count": null,
   "metadata": {},
   "outputs": [],
>>>>>>> upstream/master
   "source": [
    "def fully_conn(x_tensor, num_outputs):\n",
    "    \"\"\"\n",
    "    Apply a fully connected layer to x_tensor using weight and bias\n",
    "    : x_tensor: A 2-D tensor where the first dimension is batch size.\n",
    "    : num_outputs: The number of output that the new tensor should be.\n",
    "    : return: A 2-D tensor where the second dimension is num_outputs.\n",
    "    \"\"\"\n",
    "    dims = x_tensor.get_shape().as_list()\n",
    "    FC_W = tf.Variable(tf.truncated_normal((dims[1],num_outputs), stddev=0.1))\n",
    "    FC_B = tf.Variable(tf.zeros((num_outputs)))\n",
    "    \n",
    "    fc_layer = tf.add(tf.matmul(x_tensor,FC_W), FC_B)\n",
    "    fc_layer = tf.nn.relu(fc_layer) \n",
    "#     fc_layer = tf.nn.dropout(fc_layer, keep_prob)\n",
    "    \n",
    "    return fc_layer\n",
    "\n",
    "\n",
    "\"\"\"\n",
    "DON'T MODIFY ANYTHING IN THIS CELL THAT IS BELOW THIS LINE\n",
    "\"\"\"\n",
    "tests.test_fully_conn(fully_conn)"
   ]
  },
  {
   "cell_type": "markdown",
   "metadata": {},
   "source": [
    "### Output Layer\n",
    "Implement the `output` function to apply a fully connected layer to `x_tensor` with the shape (*Batch Size*, *num_outputs*). Shortcut option: you can use classes from the [TensorFlow Layers](https://www.tensorflow.org/api_docs/python/tf/layers) or [TensorFlow Layers (contrib)](https://www.tensorflow.org/api_guides/python/contrib.layers) packages for this layer. For more of a challenge, only use other TensorFlow packages.\n",
    "\n",
    "**Note:** Activation, softmax, or cross entropy should **not** be applied to this."
   ]
  },
  {
   "cell_type": "code",
<<<<<<< HEAD
   "execution_count": 15,
   "metadata": {
    "collapsed": false
   },
   "outputs": [
    {
     "data": {
      "text/plain": [
       "\"\\nDON'T MODIFY ANYTHING IN THIS CELL THAT IS BELOW THIS LINE\\n\""
      ]
     },
     "execution_count": 15,
     "metadata": {},
     "output_type": "execute_result"
    },
    {
     "name": "stdout",
     "output_type": "stream",
     "text": [
      "Tests Passed\n"
     ]
    }
   ],
=======
   "execution_count": null,
   "metadata": {},
   "outputs": [],
>>>>>>> upstream/master
   "source": [
    "def output(x_tensor, num_outputs):\n",
    "    \"\"\"\n",
    "    Apply a output layer to x_tensor using weight and bias\n",
    "    : x_tensor: A 2-D tensor where the first dimension is batch size.\n",
    "    : num_outputs: The number of output that the new tensor should be.\n",
    "    : return: A 2-D tensor where the second dimension is num_outputs.\n",
    "    \"\"\"\n",
    "    dims = x_tensor.get_shape().as_list()\n",
    "    W = tf.Variable(tf.truncated_normal((dims[1],num_outputs), stddev=0.1))\n",
    "    B = tf.Variable(tf.zeros((num_outputs)))\n",
    "    \n",
    "    output_layer = tf.add(tf.matmul(x_tensor,W),B)\n",
    "                    \n",
    "    return output_layer\n",
    "\n",
    "\n",
    "\"\"\"\n",
    "DON'T MODIFY ANYTHING IN THIS CELL THAT IS BELOW THIS LINE\n",
    "\"\"\"\n",
    "tests.test_output(output)"
   ]
  },
  {
   "cell_type": "markdown",
   "metadata": {},
   "source": [
    "### Create Convolutional Model\n",
    "Implement the function `conv_net` to create a convolutional neural network model. The function takes in a batch of images, `x`, and outputs logits.  Use the layers you created above to create this model:\n",
    "\n",
    "* Apply 1, 2, or 3 Convolution and Max Pool layers\n",
    "* Apply a Flatten Layer\n",
    "* Apply 1, 2, or 3 Fully Connected Layers\n",
    "* Apply an Output Layer\n",
    "* Return the output\n",
    "* Apply [TensorFlow's Dropout](https://www.tensorflow.org/api_docs/python/tf/nn/dropout) to one or more layers in the model using `keep_prob`. "
   ]
  },
  {
   "cell_type": "code",
<<<<<<< HEAD
   "execution_count": 18,
   "metadata": {
    "collapsed": false
   },
   "outputs": [
    {
     "data": {
      "text/plain": [
       "\"\\nDON'T MODIFY ANYTHING IN THIS CELL THAT IS BELOW THIS LINE\\n\""
      ]
     },
     "execution_count": 18,
     "metadata": {},
     "output_type": "execute_result"
    },
    {
     "name": "stdout",
     "output_type": "stream",
     "text": [
      "Neural Network Built!\n"
     ]
    }
   ],
=======
   "execution_count": null,
   "metadata": {},
   "outputs": [],
>>>>>>> upstream/master
   "source": [
    "def conv_net(x, keep_prob):\n",
    "    \"\"\"\n",
    "    Create a convolutional neural network model\n",
    "    : x: Placeholder tensor that holds image data.\n",
    "    : keep_prob: Placeholder tensor that hold dropout keep probability.\n",
    "    : return: Tensor that represents logits\n",
    "    \"\"\"\n",
    "    # TODO: Apply 1, 2, or 3 Convolution and Max Pool layers\n",
    "    #    Play around with different number of outputs, kernel size and stride\n",
    "    # Function Definition from Above:\n",
    "    #    conv2d_maxpool(x_tensor, conv_num_outputs, conv_ksize, conv_strides, pool_ksize, pool_strides)\n",
    "    \n",
    "    conv_ksize = (2,2)\n",
    "    conv_strides = (2,2)\n",
    "    pool_ksize = (2,2)\n",
    "    pool_strides = (2,2)\n",
    "    \n",
    "    conv_layer = conv2d_maxpool(x, 16, conv_ksize, conv_strides, pool_ksize, pool_strides)\n",
    "    conv_layer = conv2d_maxpool(x, 64, conv_ksize, conv_strides, pool_ksize, pool_strides)\n",
    "    conv_layer = conv2d_maxpool(x, 128, conv_ksize, conv_strides, pool_ksize, pool_strides)\n",
    "    # TODO: Apply a Flatten Layer\n",
    "    # Function Definition from Above:\n",
    "    flat_layer = flatten(conv_layer)\n",
    "    \n",
    "\n",
    "    # TODO: Apply 1, 2, or 3 Fully Connected Layers\n",
    "    #    Play around with different number of outputs\n",
    "    # Function Definition from Above:\n",
    "    #   fully_conn(x_tensor, num_outputs)\n",
    "    fc_layer = fully_conn(flat_layer, 128)\n",
    "    fc_layer = fully_conn(fc_layer, 256)\n",
    "    \n",
    "    # TODO: Apply an Output Layer\n",
    "    #    Set this to the number of classes\n",
    "    # Function Definition from Above:\n",
    "    #   output(x_tensor, num_outputs)\n",
    "    logits = output(fc_layer, 10)\n",
    "    \n",
    "    # TODO: return output\n",
    "    return logits\n",
    "\n",
    "\n",
    "\"\"\"\n",
    "DON'T MODIFY ANYTHING IN THIS CELL THAT IS BELOW THIS LINE\n",
    "\"\"\"\n",
    "\n",
    "##############################\n",
    "## Build the Neural Network ##\n",
    "##############################\n",
    "\n",
    "# Remove previous weights, bias, inputs, etc..\n",
    "tf.reset_default_graph()\n",
    "\n",
    "# Inputs\n",
    "x = neural_net_image_input((32, 32, 3))\n",
    "y = neural_net_label_input(10)\n",
    "keep_prob = neural_net_keep_prob_input()\n",
    "\n",
    "# Model\n",
    "logits = conv_net(x, keep_prob)\n",
    "\n",
    "# Name logits Tensor, so that is can be loaded from disk after training\n",
    "logits = tf.identity(logits, name='logits')\n",
    "\n",
    "# Loss and Optimizer\n",
    "cost = tf.reduce_mean(tf.nn.softmax_cross_entropy_with_logits(logits=logits, labels=y))\n",
    "optimizer = tf.train.AdamOptimizer().minimize(cost)\n",
    "\n",
    "# Accuracy\n",
    "correct_pred = tf.equal(tf.argmax(logits, 1), tf.argmax(y, 1))\n",
    "accuracy = tf.reduce_mean(tf.cast(correct_pred, tf.float32), name='accuracy')\n",
    "\n",
    "tests.test_conv_net(conv_net)"
   ]
  },
  {
   "cell_type": "markdown",
   "metadata": {},
   "source": [
    "## Train the Neural Network\n",
    "### Single Optimization\n",
    "Implement the function `train_neural_network` to do a single optimization.  The optimization should use `optimizer` to optimize in `session` with a `feed_dict` of the following:\n",
    "* `x` for image input\n",
    "* `y` for labels\n",
    "* `keep_prob` for keep probability for dropout\n",
    "\n",
    "This function will be called for each batch, so `tf.global_variables_initializer()` has already been called.\n",
    "\n",
    "Note: Nothing needs to be returned. This function is only optimizing the neural network."
   ]
  },
  {
   "cell_type": "code",
<<<<<<< HEAD
   "execution_count": 19,
   "metadata": {
    "collapsed": false
   },
   "outputs": [
    {
     "data": {
      "text/plain": [
       "\"\\nDON'T MODIFY ANYTHING IN THIS CELL THAT IS BELOW THIS LINE\\n\""
      ]
     },
     "execution_count": 19,
     "metadata": {},
     "output_type": "execute_result"
    },
    {
     "name": "stdout",
     "output_type": "stream",
     "text": [
      "Tests Passed\n"
     ]
    }
   ],
=======
   "execution_count": null,
   "metadata": {},
   "outputs": [],
>>>>>>> upstream/master
   "source": [
    "def train_neural_network(session, optimizer, keep_probability, feature_batch, label_batch):\n",
    "    \"\"\"\n",
    "    Optimize the session on a batch of images and labels\n",
    "    : session: Current TensorFlow session\n",
    "    : optimizer: TensorFlow optimizer function\n",
    "    : keep_probability: keep probability\n",
    "    : feature_batch: Batch of Numpy image data\n",
    "    : label_batch: Batch of Numpy label data\n",
    "    \"\"\"\n",
    "    # TODO: Implement Function\n",
    "    session.run(optimizer, feed_dict={ x: feature_batch, y: label_batch, keep_prob:keep_probability})\n",
    "\n",
    "\n",
    "\"\"\"\n",
    "DON'T MODIFY ANYTHING IN THIS CELL THAT IS BELOW THIS LINE\n",
    "\"\"\"\n",
    "tests.test_train_nn(train_neural_network)"
   ]
  },
  {
   "cell_type": "markdown",
   "metadata": {},
   "source": [
    "### Show Stats\n",
    "Implement the function `print_stats` to print loss and validation accuracy.  Use the global variables `valid_features` and `valid_labels` to calculate validation accuracy.  Use a keep probability of `1.0` to calculate the loss and validation accuracy."
   ]
  },
  {
   "cell_type": "code",
<<<<<<< HEAD
   "execution_count": 20,
   "metadata": {
    "collapsed": false
   },
=======
   "execution_count": null,
   "metadata": {},
>>>>>>> upstream/master
   "outputs": [],
   "source": [
    "def print_stats(session, feature_batch, label_batch, cost, accuracy):\n",
    "    \"\"\"\n",
    "    Print information about loss and validation accuracy\n",
    "    : session: Current TensorFlow session\n",
    "    : feature_batch: Batch of Numpy image data\n",
    "    : label_batch: Batch of Numpy label data\n",
    "    : cost: TensorFlow cost function\n",
    "    : accuracy: TensorFlow accuracy function\n",
    "    \"\"\"\n",
    "    training_dic = { x: valid_features, y:valid_labels}\n",
    "    cost = session.run(cost, feed_dict=training_dic)\n",
    "    valid_accuracy = session.run(accuracy, feed_dict=training_dic)\n",
    "    print(\"Validation accuracy:\",valid_accuracy)\n",
    "    print(\"Cost:\",cost)"
   ]
  },
  {
   "cell_type": "markdown",
   "metadata": {},
   "source": [
    "### Hyperparameters\n",
    "Tune the following parameters:\n",
    "* Set `epochs` to the number of iterations until the network stops learning or start overfitting\n",
    "* Set `batch_size` to the highest number that your machine has memory for.  Most people set them to common sizes of memory:\n",
    " * 64\n",
    " * 128\n",
    " * 256\n",
    " * ...\n",
    "* Set `keep_probability` to the probability of keeping a node using dropout"
   ]
  },
  {
   "cell_type": "code",
   "execution_count": 21,
   "metadata": {
    "collapsed": true
   },
   "outputs": [],
   "source": [
    "# TODO: Tune Parameters\n",
    "epochs = 10\n",
    "batch_size = 256\n",
    "keep_probability = 0.5"
   ]
  },
  {
   "cell_type": "markdown",
   "metadata": {},
   "source": [
    "### Train on a Single CIFAR-10 Batch\n",
    "Instead of training the neural network on all the CIFAR-10 batches of data, let's use a single batch. This should save time while you iterate on the model to get a better accuracy.  Once the final validation accuracy is 50% or greater, run the model on all the data in the next section."
   ]
  },
  {
   "cell_type": "code",
<<<<<<< HEAD
   "execution_count": 23,
   "metadata": {
    "collapsed": false
   },
   "outputs": [
    {
     "data": {
      "text/plain": [
       "\"\\nDON'T MODIFY ANYTHING IN THIS CELL\\n\""
      ]
     },
     "execution_count": 23,
     "metadata": {},
     "output_type": "execute_result"
    },
    {
     "name": "stdout",
     "output_type": "stream",
     "text": [
      "Checking the Training on a Single Batch...\n",
      "Epoch  1, CIFAR-10 Batch 1:  Validation accuracy: 0.3212\n",
      "Cost: 1.89713\n",
      "Epoch  2, CIFAR-10 Batch 1:  Validation accuracy: 0.3986\n",
      "Cost: 1.7131\n",
      "Epoch  3, CIFAR-10 Batch 1:  Validation accuracy: 0.4344\n",
      "Cost: 1.58335\n",
      "Epoch  4, CIFAR-10 Batch 1:  Validation accuracy: 0.4524\n",
      "Cost: 1.50781\n",
      "Epoch  5, CIFAR-10 Batch 1:  Validation accuracy: 0.4804\n",
      "Cost: 1.44627\n",
      "Epoch  6, CIFAR-10 Batch 1:  Validation accuracy: 0.4952\n",
      "Cost: 1.39195\n",
      "Epoch  7, CIFAR-10 Batch 1:  Validation accuracy: 0.5118\n",
      "Cost: 1.34935\n",
      "Epoch  8, CIFAR-10 Batch 1:  Validation accuracy: 0.5262\n",
      "Cost: 1.31716\n",
      "Epoch  9, CIFAR-10 Batch 1:  Validation accuracy: 0.5366\n",
      "Cost: 1.303\n",
      "Epoch 10, CIFAR-10 Batch 1:  Validation accuracy: 0.5468\n",
      "Cost: 1.29318\n"
     ]
    }
   ],
=======
   "execution_count": null,
   "metadata": {},
   "outputs": [],
>>>>>>> upstream/master
   "source": [
    "\"\"\"\n",
    "DON'T MODIFY ANYTHING IN THIS CELL\n",
    "\"\"\"\n",
    "print('Checking the Training on a Single Batch...')\n",
    "with tf.Session() as sess:\n",
    "    # Initializing the variables\n",
    "    sess.run(tf.global_variables_initializer())\n",
    "    \n",
    "    # Training cycle\n",
    "    for epoch in range(epochs):\n",
    "        batch_i = 1\n",
    "        for batch_features, batch_labels in helper.load_preprocess_training_batch(batch_i, batch_size):\n",
    "            train_neural_network(sess, optimizer, keep_probability, batch_features, batch_labels)\n",
    "        print('Epoch {:>2}, CIFAR-10 Batch {}:  '.format(epoch + 1, batch_i), end='')\n",
    "        print_stats(sess, batch_features, batch_labels, cost, accuracy)"
   ]
  },
  {
   "cell_type": "markdown",
   "metadata": {},
   "source": [
    "### Fully Train the Model\n",
    "Now that you got a good accuracy with a single CIFAR-10 batch, try it with all five batches."
   ]
  },
  {
   "cell_type": "code",
<<<<<<< HEAD
   "execution_count": 24,
   "metadata": {
    "collapsed": false
   },
   "outputs": [
    {
     "data": {
      "text/plain": [
       "\"\\nDON'T MODIFY ANYTHING IN THIS CELL\\n\""
      ]
     },
     "execution_count": 24,
     "metadata": {},
     "output_type": "execute_result"
    },
    {
     "name": "stdout",
     "output_type": "stream",
     "text": [
      "Training...\n",
      "Epoch  1, CIFAR-10 Batch 1:  Validation accuracy: 0.322\n",
      "Cost: 1.91078\n",
      "Epoch  1, CIFAR-10 Batch 2:  Validation accuracy: 0.3768\n",
      "Cost: 1.71282\n",
      "Epoch  1, CIFAR-10 Batch 3:  Validation accuracy: 0.4382\n",
      "Cost: 1.57497\n",
      "Epoch  1, CIFAR-10 Batch 4:  Validation accuracy: 0.4906\n",
      "Cost: 1.44667\n",
      "Epoch  1, CIFAR-10 Batch 5:  Validation accuracy: 0.4924\n",
      "Cost: 1.42528\n",
      "Epoch  2, CIFAR-10 Batch 1:  Validation accuracy: 0.5026\n",
      "Cost: 1.38861\n",
      "Epoch  2, CIFAR-10 Batch 2:  Validation accuracy: 0.5202\n",
      "Cost: 1.32925\n",
      "Epoch  2, CIFAR-10 Batch 3:  Validation accuracy: 0.507\n",
      "Cost: 1.36357\n",
      "Epoch  2, CIFAR-10 Batch 4:  Validation accuracy: 0.5438\n",
      "Cost: 1.2754\n",
      "Epoch  2, CIFAR-10 Batch 5:  Validation accuracy: 0.5428\n",
      "Cost: 1.30093\n",
      "Epoch  3, CIFAR-10 Batch 1:  Validation accuracy: 0.559\n",
      "Cost: 1.24119\n",
      "Epoch  3, CIFAR-10 Batch 2:  Validation accuracy: 0.5516\n",
      "Cost: 1.24474\n",
      "Epoch  3, CIFAR-10 Batch 3:  Validation accuracy: 0.5274\n",
      "Cost: 1.34948\n",
      "Epoch  3, CIFAR-10 Batch 4:  Validation accuracy: 0.566\n",
      "Cost: 1.22632\n",
      "Epoch  3, CIFAR-10 Batch 5:  Validation accuracy: 0.5668\n",
      "Cost: 1.22782\n",
      "Epoch  4, CIFAR-10 Batch 1:  Validation accuracy: 0.5814\n",
      "Cost: 1.18086\n",
      "Epoch  4, CIFAR-10 Batch 2:  Validation accuracy: 0.5746\n",
      "Cost: 1.19647\n",
      "Epoch  4, CIFAR-10 Batch 3:  Validation accuracy: 0.5654\n",
      "Cost: 1.23642\n",
      "Epoch  4, CIFAR-10 Batch 4:  Validation accuracy: 0.5792\n",
      "Cost: 1.18389\n",
      "Epoch  4, CIFAR-10 Batch 5:  Validation accuracy: 0.5878\n",
      "Cost: 1.18275\n",
      "Epoch  5, CIFAR-10 Batch 1:  Validation accuracy: 0.6002\n",
      "Cost: 1.1386\n",
      "Epoch  5, CIFAR-10 Batch 2:  Validation accuracy: 0.595\n",
      "Cost: 1.15567\n",
      "Epoch  5, CIFAR-10 Batch 3:  Validation accuracy: 0.587\n",
      "Cost: 1.1784\n",
      "Epoch  5, CIFAR-10 Batch 4:  Validation accuracy: 0.5978\n",
      "Cost: 1.1445\n",
      "Epoch  5, CIFAR-10 Batch 5:  Validation accuracy: 0.5996\n",
      "Cost: 1.15918\n",
      "Epoch  6, CIFAR-10 Batch 1:  Validation accuracy: 0.6078\n",
      "Cost: 1.11032\n",
      "Epoch  6, CIFAR-10 Batch 2:  Validation accuracy: 0.6074\n",
      "Cost: 1.12752\n",
      "Epoch  6, CIFAR-10 Batch 3:  Validation accuracy: 0.6098\n",
      "Cost: 1.12651\n",
      "Epoch  6, CIFAR-10 Batch 4:  Validation accuracy: 0.6006\n",
      "Cost: 1.13476\n",
      "Epoch  6, CIFAR-10 Batch 5:  Validation accuracy: 0.6086\n",
      "Cost: 1.14208\n",
      "Epoch  7, CIFAR-10 Batch 1:  Validation accuracy: 0.6194\n",
      "Cost: 1.09429\n",
      "Epoch  7, CIFAR-10 Batch 2:  Validation accuracy: 0.6142\n",
      "Cost: 1.10568\n",
      "Epoch  7, CIFAR-10 Batch 3:  Validation accuracy: 0.6182\n",
      "Cost: 1.10214\n",
      "Epoch  7, CIFAR-10 Batch 4:  Validation accuracy: 0.61\n",
      "Cost: 1.11543\n",
      "Epoch  7, CIFAR-10 Batch 5:  Validation accuracy: 0.6174\n",
      "Cost: 1.12802\n",
      "Epoch  8, CIFAR-10 Batch 1:  Validation accuracy: 0.6252\n",
      "Cost: 1.08852\n",
      "Epoch  8, CIFAR-10 Batch 2:  Validation accuracy: 0.6214\n",
      "Cost: 1.07738\n",
      "Epoch  8, CIFAR-10 Batch 3:  Validation accuracy: 0.6208\n",
      "Cost: 1.10447\n",
      "Epoch  8, CIFAR-10 Batch 4:  Validation accuracy: 0.618\n",
      "Cost: 1.09108\n",
      "Epoch  8, CIFAR-10 Batch 5:  Validation accuracy: 0.6246\n",
      "Cost: 1.11921\n",
      "Epoch  9, CIFAR-10 Batch 1:  Validation accuracy: 0.6292\n",
      "Cost: 1.07471\n",
      "Epoch  9, CIFAR-10 Batch 2:  Validation accuracy: 0.6252\n",
      "Cost: 1.0737\n",
      "Epoch  9, CIFAR-10 Batch 3:  Validation accuracy: 0.625\n",
      "Cost: 1.0915\n",
      "Epoch  9, CIFAR-10 Batch 4:  Validation accuracy: 0.6228\n",
      "Cost: 1.08334\n",
      "Epoch  9, CIFAR-10 Batch 5:  Validation accuracy: 0.6326\n",
      "Cost: 1.09222\n",
      "Epoch 10, CIFAR-10 Batch 1:  Validation accuracy: 0.6316\n",
      "Cost: 1.05641\n",
      "Epoch 10, CIFAR-10 Batch 2:  Validation accuracy: 0.6274\n",
      "Cost: 1.06406\n",
      "Epoch 10, CIFAR-10 Batch 3:  Validation accuracy: 0.6272\n",
      "Cost: 1.09225\n",
      "Epoch 10, CIFAR-10 Batch 4:  Validation accuracy: 0.6264\n",
      "Cost: 1.06962\n",
      "Epoch 10, CIFAR-10 Batch 5:  Validation accuracy: 0.6324\n",
      "Cost: 1.08101\n"
     ]
    }
   ],
=======
   "execution_count": null,
   "metadata": {},
   "outputs": [],
>>>>>>> upstream/master
   "source": [
    "\"\"\"\n",
    "DON'T MODIFY ANYTHING IN THIS CELL\n",
    "\"\"\"\n",
    "save_model_path = './image_classification'\n",
    "\n",
    "print('Training...')\n",
    "with tf.Session() as sess:\n",
    "    # Initializing the variables\n",
    "    sess.run(tf.global_variables_initializer())\n",
    "    \n",
    "    # Training cycle\n",
    "    for epoch in range(epochs):\n",
    "        # Loop over all batches\n",
    "        n_batches = 5\n",
    "        for batch_i in range(1, n_batches + 1):\n",
    "            for batch_features, batch_labels in helper.load_preprocess_training_batch(batch_i, batch_size):\n",
    "                train_neural_network(sess, optimizer, keep_probability, batch_features, batch_labels)\n",
    "            print('Epoch {:>2}, CIFAR-10 Batch {}:  '.format(epoch + 1, batch_i), end='')\n",
    "            print_stats(sess, batch_features, batch_labels, cost, accuracy)\n",
    "            \n",
    "    # Save Model\n",
    "    saver = tf.train.Saver()\n",
    "    save_path = saver.save(sess, save_model_path)"
   ]
  },
  {
   "cell_type": "markdown",
   "metadata": {},
   "source": [
    "# Checkpoint\n",
    "The model has been saved to disk.\n",
    "## Test Model\n",
    "Test your model against the test dataset.  This will be your final accuracy. You should have an accuracy greater than 50%. If you don't, keep tweaking the model architecture and parameters."
   ]
  },
  {
   "cell_type": "code",
<<<<<<< HEAD
   "execution_count": 25,
   "metadata": {
    "collapsed": false
   },
   "outputs": [
    {
     "data": {
      "text/plain": [
       "\"\\nDON'T MODIFY ANYTHING IN THIS CELL\\n\""
      ]
     },
     "execution_count": 25,
     "metadata": {},
     "output_type": "execute_result"
    },
    {
     "name": "stdout",
     "output_type": "stream",
     "text": [
      "Testing Accuracy: 0.628125\n",
      "\n"
     ]
    },
    {
     "data": {
      "image/png": "iVBORw0KGgoAAAANSUhEUgAAAscAAAJ/CAYAAACUb342AAAABHNCSVQICAgIfAhkiAAAAAlwSFlz\nAAAWJQAAFiUBSVIk8AAAIABJREFUeJzs3XmcY1WZ//HPk9TeXb0D3Wy2AkoLKtoCIgqNOjru4gLj\nCu6KG+o4ojNqo+My6ggKrqPIiCK4+xsVdxpwVxARaJCtWZqmodfq6q49z++Pc5J761aSSlWlkqrq\n7/v1Sie599xzT9Kp5OTJc84xd0dERERERCDX7AaIiIiIiMwU6hyLiIiIiETqHIuIiIiIROoci4iI\niIhE6hyLiIiIiETqHIuIiIiIROoci4iIiIhE6hyLiIiIiETqHIuIiIiIROoci4iIiIhE6hyLiIiI\niETqHIuIiIiIROoci4iIiIhE6hyLiIiIiETqHDeZmT3IzJ5vZm80s/eY2Vlm9hYze5GZPdbM5je7\njZWYWc7Mnmtml5jZrWbWY2aeuvyg2W0UmWnMbGXm72RtPcrOVGa2JvMYTm92m0REqmlpdgP2Rma2\nBHgj8FrgQeMUL5jZjcBVwI+BX7l7/zQ3cVzxMXwHOKnZbZHGM7MLgdPGKTYM7AC2ANcQXsPfdPed\n09s6ERGRyVPkuMHM7FnAjcB/Mn7HGML/0ZGEzvSPgBdOX+sm5GtMoGOs6NFeqQVYBhwOvAT4PLDR\nzNaamb6YzyKZv90Lm90eEZHppA+oBjKzU4BvMvZLSQ/wd+A+YABYDBwMrCpTtunM7HHAM1Ob7gTO\nBv4C7Ept39PIdsmsMA/4AHCCmT3d3Qea3SAREZE0dY4bxMwOIURb053d64F/B37i7sNljpkPnAi8\nCDgZWNCAptbi+Zn7z3X3vzWlJTJTvIuQZpPWAuwHPAE4g/CFr+gkQiT5VQ1pnYiISI3UOW6cDwPt\nqfu/BJ7j7n2VDnD3XkKe8Y/N7C3AawjR5WZbnbq9QR1jAba4+4Yy228Ffmtm5wFfJ3zJKzrdzD7j\n7tc2ooGzUXxOrdntmAp3X8csfwwisneZcT/Zz0Vm1gk8J7VpCDitWsc4y913ufs57v7Lujdw4vZN\n3b63aa2QWcPd9wAvBf6R2mzAG5rTIhERkfLUOW6MxwCdqfu/c/fZ3KlMTy831LRWyKwSvwyek9n8\n5Ga0RUREpBKlVTTG8sz9jY08uZktAJ4IHAAsJQya2wz80d3vmkyVdWxeXZjZQwjpHgcCbcAG4HJ3\nv3+c4w4k5MQeRHhcm+Jx90yhLQcARwAPARbFzduAu4Df7+VTmf0qc/8QM8u7+8hEKjGzI4GHAysI\ng/w2uPvFNRzXBhwHrCT8AlIA7geuq0d6kJkdBhwD7A/0A/cAf3L3hv7Nl2nXQ4GjgH0Ir8k9hNf6\n9cCN7l5oYvPGZWYHAY8j5LB3E/6e7gWucvcddT7XQwgBjYOAPOG98rfufvsU6nwY4flfTgguDAO9\nwN3ALcBN7u5TbLqI1Iu76zLNF+BfAE9dLmvQeR8LXAYMZs6fvlxHmGbLqtSzpsrxlS7r4rEbJnts\npg0Xpsuktp8IXE7o5GTrGQQ+B8wvU9/DgZ9UOK4AfBc4oMbnORfb8XngtnEe2wjwC+CkGuv+38zx\nX5rA//9HM8f+X7X/5wm+ti7M1H16jcd1lnlO9i1TLv26WZfa/kpChy5bx45xzvsw4GLCF8NK/zf3\nAO8A2ibxfBwP/LFCvcOEsQOrY9mVmf1rq9Rbc9kyxy4CPkT4UlbtNfkAcAFw9Dj/xzVdanj/qOm1\nEo89Bbi2yvmG4t/T4yZQ57rU8RtS248lfHkr957gwB+A4yZwnlbgnYS8+/Getx2E95x/qsffpy66\n6DK1S9MbsDdcgCdl3gh3AYum8XwGfLzKm3y5yzpgcYX6sh9uNdUXj90w2WMzbRj1QR23vbXGx/hn\nUh1kwmwbe2o4bgNwUA3P96sm8Rgd+G8gP07d84CbMsedWkObnpp5bu4BltbxNXZhpk2n13jcpDrH\nhMGs36ryXJbtHBP+Fj5I6ETV+v9yfS3/76lzvLfG1+EgIe96ZWb72ip111w2c9zJwPYJvh6vHef/\nuKZLDe8f475WCDPz/HKC5z4XyNVQ97rUMRvitrdQPYiQ/j88pYZz7ENY+Gaiz98P6vU3qosuukz+\norSKxriaEDHMx/vzga+Z2Us8zEhRb/8DvDqzbZAQ+biXEFF6LGGBhqITgSvN7AR33z4NbaqrOGf0\np+NdJ0SXbiN0ho4CDkkVfyxwHvBKMzsJuJQkpeimeBkkzCv9iNRxD6K2xU6yuft9wA2En617CB3C\ng4FHElI+it5B6LSdValid98dH+sfgY64+Utm9hd3v63cMWa2HLiIJP1lBHiJu28d53E0wgGZ+w7U\n0q5zCVMaFo/5K0kH+iHAg7MHmJkRIu8vz+zqI3Rcinn/hxJeM8Xn6wjgd2Z2tLtXnR3GzM4kzEST\nNkL4/7qbkALwaEL6Ryuhw5n926yr2KZPMTb96T7CL0VbgC5CCtIjGD2LTtOZWTdwBeH/JG078Kd4\nvYKQZpFu+9sI72kvm+D5XgZ8JrXpekK0d4DwPrKa5LlsBS40s7+6+y0V6jPge4T/97TNhPnstxC+\nTC2M9R+KUhxFZpZm9873lgthdbtslOBewoIIj6B+P3efljlHgdCxWJQp10L4kN6ZKf/NMnV2ECJY\nxcs9qfJ/yOwrXpbHYw+M97OpJf9a4bjSsZk2XJg5vhgV+xFwSJnypxA6Qenn4bj4nDvwO+CoMset\nIXTW0ud6xjjPeXGKvY/Gc5SNBhO+lLwb2J1p17E1/L++IdOmv1Dm539CRz0bcXvfNLyes/8fp9d4\n3Osyx91aodyGVJl0KsRFwIFlyq8ss+2szLm2xeexo0zZBwM/zJT/GdXTjR7B2GjjxdnXb/w/OYWQ\n21xsR/qYtVXOsbLWsrH80wid8/QxVwCPL/dYCJ3LZxN+0r86s28Zyd9kur7vUPlvt9z/w5qJvFaA\nr2bK9wCvB1oz5RYSfn3JRu1fP07961Jle0neJ74PHFqm/Crgb5lzXFql/mdmyt5CGHha9rVE+HXo\nucAlwLfr/beqiy66TPzS9AbsLRdCFKQ/86aZvmwl5CW+D/gnYN4kzjGfkLuWrvft4xxzLKM7a844\neW9UyAcd55gJfUCWOf7CMs/ZN6jyMyphye1yHepfAu1VjntWrR+EsfzyavWVKX9c5rVQtf7Ucdm0\ngk+XKfPvmTK/qvYcTeH1nP3/GPf/k/Ala33muLI51JRPx/noBNp3BKNTKe6mTMctc4wRcm/T53xm\nlfKXZ8qeX0Obsh3junWOCdHgzdk21fr/D+xXZV+6zgsn+Fqp+W+fMHA4XXYPcPw49b85c0wvFVLE\nYvl1Zf4Pzqf6F6H9GJ2m0l/pHISxB8VyQ8CDJ/BcjfniposuujT+oqncGsTDQgcvJ7yplrMEeAYh\nP/LnwHYzu8rMXh9nm6jFaYRoStFP3T07dVa2XX8E3p/Z/LYaz9dM9xIiRNVG2X+FEBkvKo7Sf7lX\nWbbY3X8E3JzatKZaQ9z9vmr1lSn/e+CzqU3PM7Naftp+DZAeMf9WM3tu8Y6ZPYGwjHfRA8DLxnmO\nGsLMOghR38Mzu75YYxXXAv8xgVP+G8lP1Q68yMsvUlLi7k5YyS89U0nZvwUzO4LRr4t/ENJkqtV/\nQ2zXdHkto+cgvxx4S63//+6+eVpaNTFvzdw/291/W+0Adz+f8AtS0TwmlrpyPSGI4FXOsZnQ6S1q\nJ6R1lJNeCfJad7+j1oa4e6XPBxFpIHWOG8jdv034efM3NRRvJUwx9gXgdjM7I+ayVfPSzP0P1Ni0\nzxA6UkXPMLMlNR7bLF/ycfK13X0QyH6wXuLum2qo/9ep2/vGPN56+mHqdhtj8yvHcPce4FTCT/lF\nXzWzg81sKfBNkrx2B15R42Oth2VmtjJzOdTMHm9m/wbcCLwwc8w33P3qGus/12uc7s3MFgEvTm36\nsbv/oZZjY+fkS6lNJ5lZV5mi2b+1j8fX23guYPqmcnxt5n7VDt9MY2bzgOelNm0npITVIvvFaSJ5\nx+e4ey3ztf8kc/9RNRyzzwTaISIzhDrHDebuf3X3JwInECKbVefhjZYSIo2XxHlax4iRx/Syzre7\n+59qbNMQ8O10dVSOiswUP6+xXHbQ2i9qPO7WzP0Jf8hZ0G1m+2c7jowdLJWNqJbl7n8h5C0XLSZ0\nii8k5HcXfcLdfzrRNk/BJ4A7MpdbCF9O/ouxA+Z+y9jOXDX/N4GyxxO+XBZ9ZwLHAlyVut1CSD3K\nOi51uzj137hiFPfb4xacIDPbh5C2UfRnn33Luh/N6IFp36/1F5n4WG9MbXpEHNhXi1r/Tm7K3K/0\nnpD+1elBZvamGusXkRlCI2SbxN2vIn4Im9nDCRHl1YQPiKNIIoBppxBGOpd7sz2S0TMh/HGCTfoD\n4SflotWMjZTMJNkPqkp6MvdvLltq/OPGTW0xszzwFMKsCkcTOrxlv8yUsbjGcrj7uXHWjeKS5I/P\nFPkDIfd4JuojzDLy/hqjdQB3ufu2CZzj+Mz9rfELSa2yf3vljn1M6vYtPrGFKP48gbK1ynbgrypb\namZbnbk/mfewh8fbOcL76HjPQ4/XvlppdvGeSu8JlwBvT90/38yeRxhoeJnPgtmARPZ26hzPAO5+\nIyHq8WUAM1tImKf0TMb+dHeGmX3F3a/JbM9GMcpOM1RFttM4038OrHWVueE6HddatlRkZscR8mcf\nUa1cFbXmlRe9kjCd2cGZ7TuAF7t7tv3NMEJ4vrcS2noVcPEEO7owOuWnFgdm7k8k6lzOqBSjmD+d\n/v8qO6VeFdlfJeohm/azfhrOMd2a8R5W82qV7j6UyWwr+57g7n8ys88xOtjwlHgpmNnfCb+cXEkN\nq3iKSOMprWIGcved7n4hYZ7Ms8sUyQ5agWSZ4qJs5HM82Q+JmiOZzTCFQWZ1H5xmZv9MGPw02Y4x\nTPBvMXYwP1Jm1zvHG3g2TV7p7pa5tLj7Und/qLuf6u7nT6JjDGH2gYmod778/Mz9ev+t1cPSzP26\nLqncIM14D5uuwapvJvx6syezPUcIeJxBiDBvMrPLzeyFNYwpEZEGUed4BvNgLWHRirSnNKE5UkYc\nuPh1Ri9GsIGwbO/TCcsWLyJM0VTqOFJm0YoJnncpYdq/rJeZ2d7+d101yj8Js7HTMmsG4s1F8b37\nI4QFat4N/J6xv0ZB+AxeQ8hDv8LMVjSskSJSkdIqZofzCLMUFB1gZp3u3pfalo0UTfRn+oWZ+8qL\nq80ZjI7aXQKcVsPMBbUOFhojtfJbdrU5CKv5/QdhSsC9VTY6/XB3r2eaQb3/1uoh+5izUdjZYM69\nh8Up4D4OfNzM5gPHEOZyPomQG5/+DH4i8FMzO2YiU0OKSP3t7RGm2aLcqPPsT4bZvMxDJ3iOh45T\nn5T3zNTtncBrapzSaypTw709c94/MXrWk/eb2ROnUP9sl83hXFa21CTF6d7SP/kfUqlsBRP926xF\ndpnrVdNwjuk2p9/D3L3X3X/t7me7+xrCEtj/QRikWvRI4FXNaJ+IJNQ5nh3K5cVl8/GuZ/T8t8dM\n8BzZqdtqnX+2VnP1Z970B/hv3H13jcdNaqo8Mzsa+Fhq03bC7BivIHmO88DFMfVib5Sd07jcVGxT\nlR4Qe1icW7lWR9e7MYx9zLPxy1H2PWei/2/pv6kCYeGYGcvdt7j7hxk7peGzm9EeEUmoczw7PCxz\nvze7AEb8GS794XKomWWnRirLzFoIHaxSdUx8GqXxZH8mrHWKs5ku/VNuTQOIYlrESyZ6orhS4iWM\nzql9lbvf5e4/I8w1XHQgYeqovdGvGf1l7JRpOMfvU7dzwAtqOSjmg79o3IIT5O4PEL4gFx1jZlMZ\nIJqV/vudrr/dPzM6L/fkSvO6Z5nZIxk9z/P17r6rno2bRpcy+vld2aR2iEikznEDmNl+ZrbfFKrI\n/sy2rkK5izP3s8tCV/JmRi87e5m7b63x2FplR5LXe8W5ZknnSWZ/1q3k5dS46EfG/xAG+BSd5+4/\nSN3/d0Z/qXm2mc2GpcDrKuZ5pp+Xo82s3h3Sb2Tu/1uNHblXUT5XvB6+lLn/qTrOgJD++52Wv934\nq0t65cgllJ/TvZxsjv3X69KoBojTLqZ/caolLUtEppE6x42xirAE9MfMbN9xS6eY2QuAN2Y2Z2ev\nKPpfRn+IPcfMzqhQtlj/0YSZFdI+M5E21uh2RkeFTpqGczTD31O3V5vZidUKm9kxhAGWE2Jmr2N0\nBPSvwLvSZeKH7L8w+jXwcTNLL1ixt/ggo9ORLhjv/ybLzFaY2TPK7XP3G4ArUpseCnxqnPoeThic\nNV2+AmxO3X8KcE6tHeRxvsCn5xA+Og4umw7Z954PxfeoiszsjcBzU5t2E56LpjCzN5pZzXnuZvZ0\nRk8/WOtCRSIyTdQ5bpwuwpQ+95jZ983sBXHJ17LMbJWZfQn4FqNX7LqGsRFiAOLPiO/IbD7PzD4R\nFxZJ199iZq8kLKec/qD7VvyJvq5i2kc6qrnGzL5sZk82s8MyyyvPpqhydmni75rZc7KFzKzTzN4O\n/IowCn9LrScwsyOBc1ObeoFTy41oj3Mcvya1qY2w7Ph0dWZmJHe/ljDYqWg+8Csz+4yZVRxAZ2aL\nzOwUM7uUMCXfK6qc5i1AepW/N5nZN7KvXzPLxcj1OsJA2mmZg9jd9xDam/5S8DbC4z6u3DFm1m5m\nzzKz71J9RcwrU7fnAz82s5Pj+1R2afSpPIYrgYtSm+YBvzCzV8f0r3TbF5jZx4HzM9W8a5LzadfL\nu4E7zexr8bmdV65QfA9+BWH597RZE/UWmas0lVvjtQLPixfM7FbgLkJnqUD48Hw4cFCZY+8BXlRt\nAQx3v8DMTgBOi5tywL8CbzGz3wObCNM8Hc3YUfw3MjZKXU/nMXpp31fHS9YVhLk/Z4MLCLNHHBbv\nLwV+aGZ3Er7I9BN+hj6W8AUJwuj0NxLmNq3KzLoIvxR0pja/wd0rrh7m7t8xsy8Ab4ibDgO+ALys\nxsc0J7j7R2Nn7XVxU57QoX2Lmd1BWIJ8O+FvchHheVo5gfr/bmbvZnTE+CXAqWb2B+BuQkdyNWFm\nAgi/nrydacoHd/efm9m/Av9NMj/zScDvzGwTcB1hxcJOQl76I0nm6C43K07Rl4F3Ah3x/gnxUs5U\nUzneTFgo45Hx/sJ4/v8ysz8RvlwsB45LtafoEnf//BTPXw9dhPSplxNWxbuZ8GWr+MVoBWGRp+z0\ncz9w96mu6CgiU6TOcWNsI3R+y/3Udii1TVn0S+C1Na5+9sp4zjNJPqjaqd7h/A3w3OmMuLj7pWZ2\nLKFzMCe4+0CMFP+apAME8KB4yeolDMi6qcZTnEf4slT0VXfP5ruW83bCF5HioKyXmtmv3H2vGqTn\n7q83s+sIgxXTXzAeTG0LsVSdK9fdz4lfYD5E8reWZ/SXwKJhwpfBK8vsq5vYpo2EDmV6Pu0VjH6N\nTqTODWZ2OqFT3zlO8Slx956YAvM9RqdfLSUsrFPJZym/emiz5QipdeNNr3cpSVBDRJpIaRUN4O7X\nESIdTyJEmf4CjNRwaD/hA+JZ7v5PtS4LHFdnegdhaqOfU35lpqIbCD/FntCInyJju44lfJD9mRDF\nmtUDUNz9JuAxhJ9DKz3XvcDXgEe6+09rqdfMXszowZg3ESKftbSpn7BwTHr52vPMbDIDAWc1d/8s\noSP8SWBjDYf8g/BT/ePdfdxfUuJ0XCcQ5psup0D4Ozze3b9WU6OnyN2/RRi8+UlG5yGXs5kwmK9q\nx8zdLyV08M4mpIhsYvQcvXXj7juAJxMi8ddVKTpCSFU63t3fPIVl5evpucAHgN8ydpaerAKh/c90\n93/R4h8iM4O5z9XpZ2e2GG16aLzsSxLh6SFEfW8AboyDrKZ6roWED+8DCAM/egkfiH+stcMttYlz\nC59AiBp3Ep7njcBVMSdUmix+QXgU4ZecRYQOzA7gNsLf3HidyWp1H0b4UrqC8OV2I/And797qu2e\nQpuM8HiPAPYhpHr0xrbdAKz3Gf5BYGYHE57X/QjvlduAewl/V01fCa+SOIPJEYSUnRWE536YMGj2\nVuCaJudHi0gZ6hyLiIiIiERKqxARERERidQ5FhERERGJ1DkWEREREYnUORYRERERidQ5FhERERGJ\n1DkWEREREYnUORYRERERidQ5FhERERGJ1DkWEREREYnUORYRERERidQ5FhERERGJ1DkWEREREYnU\nORYRERERidQ5FhERERGJ1DkWEREREYnUORYRERERidQ5FhERERGJ1DkWEREREYnUORYRERERidQ5\nFhERERGJ1DkWEREREYnUORYRERERidQ5FhERERGJ1DmeIjM73czczNZN4tiV8VifhqaJiIiIyASp\ncywiIiIiErU0uwF7uSHg5mY3QkREREQCdY6byN03Aoc3ux0iIiIiEiitQkREREQkUue4DDNrM7O3\nmdnvzGyHmQ2Z2WYz+5uZfdbMjqty7LPN7PJ4XK+Z/cHMXlyhbMUBeWZ2Ydy31sw6zOxsM7vJzPrM\n7H4z+6aZPbSej1tERERkb6e0igwzawF+DpwYNzmwE1gK7As8Mt7+fZlj3wd8ECgAu4B5wLHAxWa2\nn7ufO4kmtQOXA48DBoF+YB/gX4DnmNnT3f3KSdQrIiIiIhmKHI/1EkLHeA/wcqDL3RcTOqkPAt4M\n/K3McUcBHwDeByx190XAcuA7cf9HzWzJJNrzRkKH/BXAfHdfCDwauAboAr5lZosnUa+IiIiIZKhz\nPNbj4vXX3P3r7t4P4O4j7n6Xu3/W3T9a5riFwAfc/T/dfUc8ZjOhU/sA0AE8axLtWQi8zt0vcveh\nWO+1wNOArcB+wJsmUa+IiIiIZKhzPFZPvF4xweP6gTFpE+7eB/ws3j1yEu25E7i4TL1bgC/Guy+c\nRL0iIiIikqHO8ViXxevnmtn/M7Pnm9nSGo670d13V9i3MV5PJv3hCnevtILeFfH6SDNrm0TdIiIi\nIpKiznGGu18BvB8YBp4NfBfYYmbrzeyTZnZYhUN3Vam2P163TqJJG2vYl2dyHW8RERERSVHnuAx3\n/xDwUOA9hJSIHsJiHe8EbjSzVzSxeSIiIiIyTdQ5rsDd73D3j7n7PwNLgJOAKwnT333OzPZtUFP2\nr2HfCLC9AW0RERERmdPUOa5BnKliHWG2iSHC/MWPbdDpT6xh3/XuPtiIxoiIiIjMZeocZ4wzsG2Q\nEKWFMO9xI6wst8JenDP5dfHutxvUFhEREZE5TZ3jsb5mZl81s6eZWXdxo5mtBP6XMF9xH3BVg9qz\nE/gfM3tpXL0PM3skIRd6H+B+4HMNaouIiIjInKblo8fqAE4FTgfczHYCbYTV6CBEjl8f5xluhM8T\n8p2/DnzFzAaABXHfHuBF7q58YxEREZE6UOR4rLOAfwN+CtxO6BjngduArwKPcfeLGtieAWAN8EHC\ngiBthBX3LoltubKBbRERERGZ06zy+hLSTGZ2IXAacLa7r21ua0RERET2Dooci4iIiIhE6hyLiIiI\niETqHIuIiIiIROoci4iIiIhEGpAnIiIiIhIpciwiIiIiEqlzLCIiIiISqXMsIiIiIhKpcywiIiIi\nErU0uwEiInORmd0BLAA2NLkpIiKz0Uqgx90f3OgTz9nO8VV/+ZsDdHV1lba1trbGWxb+taR8S9yW\n8+LG9CwexfKxTC51YC4E3y03ugxAviU8vS35/Jh9lisAMDi4p7StOHPIvHnd4fhca2rf6CB/uTlG\nSrWnz5Mp4yNDpdsDgwMA7L/v0mwxEZm6BZ2dnUtWrVq1pNkNERGZbdavX09fX19Tzj1nO8d9faHT\nOTIyUtqWz3RS053VFgudz1yZfZbL7MslHdVs+VGd43i+fD52oC11XD50bwcGdo9pe7FTbDaU2jq2\njqzStHyp6fkKmW3uyfMxMNAfbuy7tGKdIjOFma0DTnT3mr/MmZkDV7j7mulqVxUbVq1ateTqq69u\nwqlFRGa31atXc80112xoxrmVcywiIiIiEs3ZyLGICLAK2DNuqWly/cadrDzrx806vci02fCxZza7\nCSLTZs52jguFkEaQTqsoFEKeb7kUiOHitpilm2/Jl/a1UEzHiKkNqYzflphi0WJJ+aJimkOxLblU\nES8U0yoGStuK7RkphDbn0qkdNjpPOt327Pm8zLZyWcrl6hCZS9z9pma3QUREZhelVYhI05nZc8zs\nV2a2ycwGzOxeM7vCzM4oU7bFzN5rZrfEsneb2X+ZWVuZsh5zldPb1sbta8zsNDP7q5n1mdn9ZnaB\nmS2fxocqIiIz3JyNHLuPjZSWIqvxevSgu1JINhZO7fNi1DYel5o5oji7RanO0Scctc1STRoeGQZg\n69atqTaEeouzVbS0JOcptjUGnEfNmJErDSYM104hOVGsM3nsyb5yz5FIo5nZ64AvAvcB/wdsAfYF\nHgm8Evhc5pCLgScClwE9wDOAf4vHvHICp3478FTgUuCnwBPi8WvM7Fh3f2CSD0lERGaxOds5FpFZ\n4/XAIPAod78/vcPMlpUpfwhwhLtvi2X+Hfgb8Aoze4+731fjeZ8OHOvuf02d7xzgTOBjwKtrqcTM\nKk1HcXiN7RARkRlkznaOczFiWpxODcbm2I66nxs9h3FLarq2fHFfvli3pw4Lkdhi6bwlT2lrnMIt\nX5wKLhWoHYoR53w+KZ+L8yJ7sc359JRxLaMel6fyl4v15odjW1LTvQ3Hm0Mx59iHkxxsFDmWmWMY\nGMpudPctZcq+u9gxjmV2m9k3gPcDjwV+VOM5L0p3jKO1hOjxS8zsDHcfGHuYiIjMZco5FpFm+wbQ\nBdxoZueY2fPMbJ8q5f9SZtvd8XrxBM57RXaDu+8ErgU6CDNdjMvdV5e7ABoMKCIyC6lzLCJN5e6f\nAk4D7gTeCnwf2Gxml5vZY8uU31GmmuF4PXbamMo2V9heTMtYOIG6RERkjpizaRXZwXeQpCSUX80u\nN/o6lx4MF2/niyvkJZ+/+bivpbiCXT6VqtEathVi8RFLDZQbDL8gH7Cwo7SpOB3c0P2bAOjZ3V/a\nN9Qfyhd9Tk5jAAAgAElEQVRi6kRnd3dp3z4HHhDa0j0/lE1N2+bFZbHjqdOZFEqqkJnC3b8GfM3M\nFgGPB04GXgX8zMwOn6bBcftV2F6crWLnNJxTRERmuDnbORaR2SdGhX8C/MTCt9JXAScA352G050I\nfC29wcwWAkcB/cD6qZ7gyAMWcrUWSxARmVXmbOe4uPhHehGQYqS4FEFOTbyWi3OklQK/qYF8HiPF\nufiLbQvJdKqtxchxDM3acDJ+Z3hHmKZtsGc7AHt2JNO2DewK44lyg7tL2/p39gJw34aNAPRu31Xa\nNzgQIsddHSE6vHjZ/sm+x4Vfnvc/fnU477yu5HGNxPaVgtZjFxYRaSYzOwlY52PnFtw3Xk/XCncv\nN7PzM4Py1hLSKb6qwXgiInunOds5FpFZ4/tAr5n9AdhA+Ab3ROBo4Grgl9N03suA35rZt4BNhHmO\nnxDbcNY0nVNERGY4DcgTkWY7C/gz8BjgDMJUaq3Au4GT3H3MFG91ck4831GEuY0PBy4EHp+db1lE\nRPYeczZyPDwcBq+3trYm22KKRb64cl1LKsWgMHqe4/RwtRzhuHkxJaG1L0mF6OsJqRLbtoYB7jvv\nuru0r/f2DeG8G8MAO7Ymg+x7B8Ltnlzyi7ENhvO0FScntiS1o6U1/Fd17RPGCnV3zi/t67n1ZgAW\n7B9msVr8sIeW9o3EFXWLgwhb88nz0VYYs9quSMO5+xeAL9RQbk2VfRcSOrbZ7VVzhyodJyIiey9F\njkVEREREojkbOS4OxCsUkunTcrlq3wVCZNUoDr5LIsf5oRDd7X8gzCa1cf3NpX29t90CQN+9dwGw\na0tp4S4GesIAu5HePbGepC0jQ2GaNiskY34647lb47W3tZf22ZIFAHR3hcjvwiXJoLuR4UEAtv89\nrDmwuHtpad+CBz0otC9ffHxJIK3dU1PLiYiIiIgixyIiIiIiRXM2clyMBKcCx3j8LuAxl9dTOb2F\nYsQ4lm/vTfKKt99+AwD3XXsNANv+cWtp30CMGLftCNO1DfYnU8dtGAzR4Tv6+gBY3pIs3HFQLkSF\nO1OzV+U95Em35cO2QlsqP7h7HgCLVoR1C+btm6yu29Ie9vXGnOXhXUnbO9pjHW3hv7owkkSOC6lp\n7kT2Fu6+ljBlm4iIyBiKHIuIiIiIROoci4iIiIhEczatIh8HoOXzyUPMxenM8sUV73JJWkUuzvg0\nvDsMott049WlfXf+/goAdsXBd0M7kinZ9gyGVew6YnpE+3DShs27Q1rFLXtCWsX2luS7SEvMdji4\nI5XmkIspFq1hW3t3Muhun4MPBGDxirgyXntnad9IHLjXvTSkbbQtmFfaZ3HJv3ycoi6X+j7Uktd3\nIxEREZE09Y5ERERERKK5GzmOC3y0tSbR4WL0tLj2R0tqurZOCyHfzffcBsDff39VaV/vzesB6BoI\nEeD5HckUa52LQ5Q2VxxYd09Pad/CoTAwbr8Yvd5a6Cvtu70/TOG2LJdEgOfP6wBguCOUb1+YLPSx\naP8QMe4ZCNO2XX3d71JtCFO3Hf/Up4bHOT85znOhLit+D7IkUl19ajsRERGRvY96RyIiIiIi0ZyN\nHLe15eN10v9vK+YaF0KUtzUVOaYnLN6xZf3fQplNG0u79hkaAmB+PH6wv7+0b2BPmA7Nd4dIcFvP\nUGnfQ+N0bd3xNHd5clyLhTnj8vlkrjnrDPWPzAsJyR37LSvt2xMjvtfdEqaRG2pNln4+/Mgjwo2F\nIee40JlEtofjuT0uj+2pqeMKqdsiIiIiosixiIiIiEiJOsciIiIiItGcTauI49BKg/AgGYjX3hJ2\n5lIrxG2+I6QrjGy8G4AFu3qTurbFqdsGQlqEF1Kr2o0Mj6rLUgPe5sXUjocMh+8g+1iS7jAQ0ykW\nLUima+taHAbSFeaFQX4dyxaX9vXE1I7lB68E4KCHH1naN/+AFQC0LVsSK0oG+fWPhPO0xBUAPbVk\nYCG9fKCIiIiIKHIsIvVjZivNzM3swma3RUREZDLmbuSYMKjNi6ttAPdv2wrASM9OAJZ1JPt6N4Up\n3HI99wHQ1r+rtK+1EKLDHqPDngSHwUIUOa45wnA+tTMWLC5IsjCXnG93XICjsHBRUnyfMCVbR4wm\nL94nGZDXsjhEh/PLDwr39z+otG/BirCvc0moy1P/rSMDcYBgPrQzPQhvaDCJnIuIiIjIHO4ci4g0\n2/Ubd7LyrB83uxlSxoaPPbPZTRCRGUppFSIiIiIi0ZyNHOcKxYeWPMRt27YDsOuukELR2t1R2jew\n5R4A+nc9EI6PK+YBWEeYU7g4fK3gSTpCwcP3i2EPe4sr0kGS0jFEsUzSvp6hUMe2HcnAv9aWcM4j\nlh4aWt6RWj2ve2GoY2EYpNe234rSvpaFYSCex0F3eZJVAUuGw/mGRpJBeAMDQ2PLidSJma0EPgY8\nBZgPXA+sdfcfZcq1A28HXgocAgwDfwPOc/dvlanzDuB/gY8AHwJOApYBT3L3dWb2EOAs4EnAAUAf\nsBH4LfDv7r41U+eLgdcBjwY6Yv3fAD7h7gNTfiJERGRWmbOdYxFpqgcBfwJuBy4ClgCnAj80s6e4\n++UAZtYG/Aw4EbgJ+CzQBbwQuNTMjnL395ap/xDgj8A/CB3ZTqDHzFYAfwYWAD8Bvkvo8D4YeDlw\nPlDqHJvZBcArgXti2R3A4wid7ieb2T+5e/JNuQwzu7rCrsOrHSciIjPT3O0cxxXoWoeTKO+KtjDQ\nbX5LiMgO37eltG/7pvB52bN7MBznScbJbsLAuuE4TdtQKhtlqHizLUSX823JynVDMVI8VByjl0+O\n6x8MT31raqW7lu4w1VshRox3DCdR3raOML3bvGX7hofXkYp6D4U2D42E+vPDSUQ4lwvbLF6nZq9j\nZEQD8mTarCFEic8ubjCzi4GfAu8CLo+b30noGF8GPKfYETWzswmd6/eY2Y/c/XeZ+p8AfDTbcTaz\ntxA64me6+6cz++aR/ACEmZ1O6Bh/H3ipu/el9q0FPgC8CRhVj4iIzG3KORaR6XAn8J/pDe7+M+Au\n4JjU5lcBDrwjHaF19/sJ0VuA15SpfzNwdpntRX3ZDe6+O90BBt5GSOF4VWY78dxbCakeVbn76nIX\nQiRcRERmmTkbOc7lQtjW4sIdALk94fOvpS+kEW67997Svh3bwtRtgyMhT7gv9bVhOBc+s4fi4iHD\n6cUzYg5v+0iIALcUkqd0MAaprC1sy7clucDtXeE81jU/ad+SEDn2+d0A7GlLFg0ZWRimeSPmF6ez\nhS3mO1tcnCTdvlxcBKUYOfZCMtWcp6Z1E6mza9293E8TdwPHAZhZN3AosNHdy3Ukfx2vH11m398q\n5AP/P0Iu8mfN7GmElI3fAjd66gVvZl3Ao4AtwJnpxXtSBoBV5XaIiMjcNWc7xyLSVDsqbB8m+cVq\nYbzeVKFscfuiMvvuK3eAu99pZscAa4F/Bp4fd91tZp9098/E+4sBA/YhpE+IiIgASqsQkebZGa+X\nV9i/IlMureLPHu6+3t1PBZYCjyXMXJEDPm1mr87U+Vd3t2qXCT0iERGZ9eZs5NjjqnY7tyUr3d1/\n910ADGzdDMC2ncmMToMxE2GgEFIf9qQGtfXFfUPxc7JA8nmZL4TvFx2xuFnymZ3vCHV1doUBdkOp\nZzuXD2kYbQuStApbEMrtiQP3LLV6Xtu+oZ/Q1xIG4qUH0FscWJcr/jSc+ok4F9uai78oW2qgoQbk\nSTO5+y4zuw14iJkd5u63ZIqcFK+vmWT9w8DVwNVm9jvgSuB5wFfcvdfMbgCOMLMl7r5tkg+jqiMP\nWMjVWmxCRGRWUeRYRJrpAkJ6wyfMrJSUb2bLgPelytTEzFab2cIyu/aL13tS2z4FtAEXmNmY1A0z\nW2xmj6n13CIiMjfM2cixjYRI6e7dqcjxtvsBGOwNi4HsHEoGqO8ZCmN7BuPUb/2pX20H4qC2kRjR\nzSWf4bS0FKd3C3KtSdS2rTMMust3hmhve1cybVsuLhBiqYVI2ru7Y12t8bytyQNqD8cOjYRp29yT\nQXf5YvtixDj9O7DFAXjFKd1yBUWOZUb5JPB04LnA38zsJ4R5jl8E7At83N1/M4H6Xg683sx+A9wG\nbCfMifxswgC7c4sF3f0CM1sNnAHcZmbF2TSWEOZFPgH4KvCGKT1CERGZVeZs51hEZj53HzSzfwLe\nAbwEeAvJCnlnuvs3J1jlN4F24PHAasLiIBuBS4D/dvfrM+d/k5ldRugAP4Uw+G8boZP8CeDrk3xo\nIiIyS83ZznHPzrAsc29fsjxzHyHqWmiP0dPurtK+XC5MlZZbHCLIHanFQ1qHQn5vYThce2pfviUu\n2RwjyG2pRUCKwWeLUd+OBQuS42IU2TtSSz3n4+IkhRAxHswn/z3DFmLTVghT0xXSucPxdjIdVRL1\nNotTuMWc41wqrqyRRlJv7r6BKi8td19TZls/Yfq1j9Sh/j8SVs6rWVzO+kfjFhQRkb2Cco5FRERE\nRCJ1jkVEREREojmbVnHznbcCsM/i7tK2JQeH6dCG98wDYN6yJM3BPaQtFOIUcEMDyeJbhbgKnsXr\n4n2AgZhqsXswHJ/PJ2kSe3bvBuCOe+4BoJtk+rXD9j8MgJa2VOqEh2MXdC8DYOGK/Ur7hmK1wyOh\nXTmS8xSncLM4MC9nqe88ueIv0KF8am0/RgrDiIiIiEhCkWMRERERkWjORo53D4aBeF2plTcsRmm3\n7QjR1507koW3rCVGh3Nh4NrwYLIISGscGNcaj29vay/tG+4N08H1bA/ns9QCHIODITI7MBK2tQwm\ncdtcR4ho91kyuM9iIPeohx8BwMGHHFra563xnDFq3VpIDayL4+9Kg+5Sw5VKC4PEqd8Kqeh1wZPH\nKCIiIiKKHIuIiIiIlKhzLCIiIiISzdm0is62MABt966e0rbt27cAsOH22wB44P7NpX0DIyHFYKgQ\n0g8625PUifmdYQBfd1e4zueS7xTDg2Hu5JiNQVdXasW79jCP8qI4D/GC1DzHubivqy1ZBa81Dpo7\n9NBVABxw4EHJeeLcxcMxdSKfHllXiPvi4MB0akdxZbzizMeF1BSxA4NKqxARERFJU+RYRERERCSa\ns5Hjwf4Q0R0ZGkw2Dof46bKFYaq0NkuitgOFMDAuHwfbzetMVs9bvHAhAN3z54fjWpJV8CwfIrGe\nD3V3dCSR4/nzw6C7lpaWuC+JRi9evBiArvbO0rYl3YsAWLF8OQA5T1a66yxGmMcugleaui21KWlf\nZl8hVag1NV2diIiIiChyLCIiIiJSMmcjxz29e4DR0ddilHbx/iGiW9h339K+vv4wJVuuJXxf6OxM\nIrqdMRrc1RWiye3tSXS4Ld5uaQlR4c6uJOI8b14sH6PR7amockd7iD7nUvOuteTDue/fEnKh8/nk\nu0sx6twao9CkHpflQq6y5UN02SxZIITivuK1J8nKxXxpOuYhIiIiIooci4iIiIiUqHMsIjOGma00\nMzezC2ssf3osf3od27Am1rm2XnWKiMjsMWfTKm65bT0AD9y3KdkY0wgWd4c0gvaW1MMfCdOgFVeU\nmz9vfmnXggUhDWPevHBcW2qFvNaYqtEaUxO6upIUhc7OkEaRL66w15qcr6UlpDk4qRXy4rnzMQUi\n35KkR7S1tcW6WuN1aoW8WD6Xj2VakwGD+biyXkvc1pJaPc/jtHWrH7MUEREREZnDnWMR2St8H/gD\nsGm8gs1w/cadrDzrxw0734aPPbNh5xIRmavmbOd4Z882IFn4A2Bwdy8A92+Ki2UUkqhtW5wjrStG\naItTrQH0LVkCwKJFYaq1ztQ0b20dIXLc2R2i0oXhvtK+kaG4Lw7uGxlKIsHFdUQKPpyUHw6R3HyM\nALekpozL58J/VS4f60iNubMYmc7HQYHp43ItraPLpCd883KTv4nMHu6+E9jZ7HaIiMjcoZxjEZmR\nzOxwM/uBmW0zs91m9hsze2qmTNmcYzPbEC8LzOxT8fZQOo/YzPYzs6+Y2WYz6zOza83stMY8OhER\nmanmbOS4syPkCS9ckOTT7hwMkVknRnlHkgVC+ofD7f7BEPnd1ptEgDu3bAfSU7klOcdtrbm4LURo\n04uAFMu3tYZ9rW1JRLezM07N1ppLlQ95zgtim4uPIdQRos/F3OFR/3P5EAHPxUD44GASjfZS/nJo\nQzrnuDCSRM5FZpgHA78H/g58EVgBnApcZmYvcfdLa6ijDfg1sAT4OdAD3AFgZsuA3wEPAX4TLyuA\nL8SyIiKyl5qznWMRmdVOAD7p7u8qbjCz8wkd5i+Y2WXu3jNOHSuAG4ET3X13Zt9HCB3jc9397WXO\nUTMzu7rCrsMnUo+IiMwMSqsQkZloJ/DB9AZ3/wvwDWARcHKN9bwz2zE2s1bgpcAuYG2Fc4iIyF5q\nzkaOB/pDysDwSJJHMByzDfbs6g/3B5O0ijgeD48D1lpT06EVhuJxPX1xX5K2UBgMn7tDfbuAZCU7\ngJY4dVvOwneQ4lRwAN3dIeWiszM5z/yukEaxbNlyAB688qGlfYsXhlSLQqyrkE8G0w3GBzYSr+fN\nS1b3ozTNW7huseT70DBDiMxQ17j7rjLb1wGnAY8G/necOvqB68psPxzoAq6KA/oqnaMm7r663PYY\nUX5MrfWIiMjMoMixiMxEmytsvy9eL6yhjvvdy07JUjx2vHOIiMheaM5GjnfsfCDeKpS2dS4I0dqW\ntjhIzZKocs7DUzE8FMoPDiVR1WKxkeEQjR4YTOosDBYX7ggD8dpTg+jyMVqbi/O2tbYlU8B5IQyQ\nGx5Ivp/0x4VIdvgOAO7vuj+pqytEpAtxYN1gKug7ODQS2xnasmAg2Tm/O7SnI045V8gn/+W5liTK\nLTLD7Fdh+/J4Xcv0bZXmKiweO945RERkLzRnO8ciMqs9xsy6y6RWrInXf51C3TcBe4CjzGxhmdSK\nNWMPmZwjD1jI1VqYQ0RkVlFahYjMRAuB96c3mNljCQPpdhJWxpsUdx8iDLrrJjMgL3UOERHZS83Z\nyPG2rWFlPC8kv6xa8fZIuB7oS+YyHh4IqRKFmDHR3z9Q2pfPh+8QxTmMW1qSp21h9wIA5ne2jCoD\n0N4ebnd2xZXyUvtGYgrFUH9/aVtvnFu5ry/MqzxUSL67bNkVAmge50y2lqSuXBx01xFX4tvZk8xw\nVZyTubiqn6WW1tMCeTKDXQm8xsyOBX5LMs9xDnh9DdO4jee9wJOBM2OHuDjP8anAT4DnTLF+ERGZ\npeZs51hEZrU7gDcAH4vX7cA1wAfd/WdTrdzdt5jZ8YT5jp8NPBa4GXgjsIH6dI5Xrl+/ntWry05m\nISIiVaxfvx5gZTPObeUHc4uIyFSY2QCQB/7W7LaIVFBcqOamprZCpLxHASPu3vDZAxQ5FhGZHtdD\n5XmQRZqtuLqjXqMyE1VZfXTaaUCeiIiIiEikzrGIiIiISKTOsYiIiIhIpM6xiIiIiEikzrGIiIiI\nSKSp3EREREREIkWORUREREQidY5FRERERCJ1jkVEREREInWORUREREQidY5FRERERCJ1jkVERERE\nInWORUREREQidY5FRERERCJ1jkVEamBmB5rZBWZ2r5kNmNkGMzvXzBY3ox6RrHq8tuIxXuFy33S2\nX+Y2M3uhmZ1nZleZWU98TX19knVN6/uoVsgTERmHmR0C/A7YF/ghcBNwDHAScDNwvLtvbVQ9Ill1\nfI1uABYB55bZ3evun6xXm2XvYmbXAo8CeoF7gMOBb7j7yyZYz7S/j7ZM5WARkb3E5whvxG919/OK\nG83sU8DbgQ8Db2hgPSJZ9Xxt7XD3tXVvoezt3k7oFN8KnAhcPsl6pv19VJFjEZEqYpTiVmADcIi7\nF1L7uoFNgAH7uvvu6a5HJKuer60YOcbdV05Tc0UwszWEzvGEIseNeh9VzrGISHUnxeufp9+IAdx9\nF/BboAt4XIPqEcmq92ur3cxeZmbvNbO3mdlJZpavY3tFJqsh76PqHIuIVPeweP2PCvtvidcPbVA9\nIln1fm0tBy4i/Dx9LvBr4BYzO3HSLRSpj4a8j6pzLCJS3cJ4vbPC/uL2RQ2qRySrnq+trwJPJnSQ\n5wGPAL4IrAQuM7NHTb6ZIlPWkPdRDcgTERERANz97Mym64E3mFkv8E5gLXByo9sl0kiKHIuIVFeM\nRCyssL+4fUeD6hHJasRr6wvx+oQp1CEyVQ15H1XnWESkupvjdaUctsPidaUcuHrXI5LViNfWA/F6\n3hTqEJmqhryPqnMsIlJdcS7Op5rZqPfMOHXQ8cAe4A8NqkckqxGvreLo/9unUIfIVDXkfVSdYxGR\nKtz9NuDnhAFJb8rsPpsQSbuoOKemmbWa2eFxPs5J1yNSq3q9Rs1slZmNiQyb2Urg/Hh3Usv9ikxE\ns99HtQiIiMg4yixXuh44ljDn5j+AxxeXK40diTuAO7MLKUykHpGJqMdr1MzWEgbdXQncCewCDgGe\nCXQAPwFOdvfBBjwkmWPM7HnA8+Ld5cDTCL9EXBW3bXH3f41lV9LE91F1jkVEamBmBwEfBP4ZWEpY\nien7wNnuvj1VbiUV3tQnUo/IRE31NRrnMX4D8GiSqdx2ANcS5j2+yNVpkEmKX74+UKVI6fXY7PdR\ndY5FRERERCLlHIuIiIiIROoci4iIiIhE6hzPQWa2zszczE6fxLGnx2PX1bNeERERkdlgTi8fbWZn\nEtbXvtDdNzS5OSIiIiIyw83pzjFwJvAgYB2woaktmT12ElaguavZDRERERFptLneOZYJcvfvE6ZD\nEREREdnrKOdYRERERCRqWOfYzJaZ2Rlm9kMzu8nMdpnZbjO70cw+ZWb7lzlmTRwAtqFKvWMGkJnZ\nWjNzQkoFwOWxjFcZbHaImX3RzG43s34z225mV5rZa8wsX+HcpQFqZrbAzD5uZreZWV+s54Nm1pEq\n/2Qz+5mZbYmP/Uoze+I4z9uE25U5frGZnZM6/h4z+5KZraj1+ayVmeXM7OVm9gsze8DMBs3sXjO7\n1MyOnWh9IiIiIo3WyLSKswjLUgIMAz3AQmBVvLzMzJ7i7tfV4Vy9wGZgH8IXgO1AernLbenCZvYs\n4NuE5TEh5N3OA54YL6ea2fOqrNW9GPgT8DBgN5AHHgy8DzgKeI6ZnUFYm95j+7pi3b80sye5+2+z\nldahXUuBPxOW/+wjPO8HAK8FnmdmJ7r7+grHToiZdQPfA54SNzlh6dEVwCnAC83sbe5+fj3OJyIi\nIjIdGplWcRfwXuCRQKe7LwXagccCPyN0ZC82M5vqidz9k+6+HLg7bnq+uy9PXZ5fLBvX6L6E0AG9\nAjjc3RcB3cDrgQFCh+/TVU5ZXA7xie4+H5hP6IAOA882s/cB5wIfA5a6+0JgJfB7oA04J1thndr1\nvlj+2cD82LY1hCUZ9wG+bWatVY6fiK/F9lxDWC+9Kz7OJcB/ACPAp83s+DqdT0RERKTuGtY5dvfP\nuPtH3f3v7j4ct424+9XAc4EbgSOAExrVpui9hGjsbcAz3P3m2LYBd/8S8NZY7lVmdmiFOuYBz3L3\n38RjB939y4QOI4T1v7/u7u919x2xzJ3AiwkR1qPN7OBpaNcC4AXu/iN3L8TjrwCeToikHwGcOs7z\nMy4zewrwPMIsF09y95+7e38833Z3/zDwfsLr7T1TPZ+IiIjIdJkRA/LcfQD4RbzbsMhijFK/IN49\nx933lCn2ZWAjYMALK1T1bXe/tcz2X6ZufzS7M3aQi8cdOQ3tuqrYYc+c92bgO/FupWMn4rR4/T/u\nvrNCmW/E65NqyZUWERERaYaGdo7N7HAzO9/MrjOzHjMrFAfJAW+LxcYMzJtGDyHkPQNcXq5AjLiu\ni3cfU6Gev1fYfn+87ifpBGdtjteLp6Fd6ypsh5CqUe3YiXh8vP4PM7uv3IWQ+wwh13ppHc4pIiIi\nUncNG5BnZv9CSDMo5rgWCAPMBuL9+YQ0gnmNahMh77ZoY5Vy95Qpn7apwvaReL3Z3X2cMunc33q1\nq9qxxX2Vjp2I4swXi2os31WHc4qIiIjUXUMix2a2D/A/hA7gpYRBeB3uvrg4SI5kUNqUB+RNUsf4\nRZpiprYrrfg6OtndrYbLhmY2VkRERKSSRqVVPJ0QGb4ReIm7X+3uQ5ky+5U5bjheV+sgLqyybzwP\npG5nB8SlHVim/HSqV7uqpagU99XjMRVTQ6q1VURERGTGa1TnuNiJu644a0JaHID2pDLH7YjX+5pZ\nW4W6j65y3uK5KkWjb0+d46RyBcwsR5j+DMI0ZY1Qr3adWOUcxX31eEy/j9dPr0NdIiIiIk3TqM5x\ncQaDIyvMY/xawkIVWf8g5CQbYa7eUeIUZi/Ibk/piddlc2FjHvD34t23mVm5XNjXEBbOcMKCHNOu\nju060cwen91oZoeRzFJRj8d0Ybx+mpn9c7WCZra42n4RERGRZmpU5/iXhE7ckcBnzGwRQFxy+V3A\nZ4Gt2YPcfRD4Ybx7jpk9IS5RnDOzpxKmf+urct4b4vWL08s4Z3yEsKrd/sCPzexhsW3tZvZa4DOx\n3Ffc/bYaH2891KNdPcD3zOwZxS8lcbnqywgLsNwAfGuqDXX3nxI68wZ838zeFfPMiedcZmYvNLMf\nA5+a6vlEREREpktDOsdxXt1z4903A9vNbDthWeePA78CvlDh8PcQOs4HAVcRliTeTVhVbwewtsqp\nvxKvXwTsNLO7zWyDmV2SattthMU4+glpCjfFtu0CvkToRP4KOLP2Rzx1dWrXhwhLVf8Y2G1mu4Ar\nCVH6B4BTyuR+T9YrgB8Q8sM/Dmw2s+3xnA8QItTPqNO5RERERKZFI1fIewfwOuCvhFSJfLx9JvBM\nksF32eNuB44FvknoZOUJU5h9mLBgSE+54+KxvwZOJszp20dIQ3gQsDxT7v+ARxBm1NhAmGpsD/Cb\n2OanufvuCT/oKapDu7YCxxC+mGwmLFV9b6zvKHe/sY5t3e3uJwPPIkSR743tbSHM8fwt4JXAW+p1\nTv1wcYoAACAASURBVBEREZF6s8rT74qIiIiI7F1mxPLRIiIiIiIzgTrHIiIiIiKROsciIiIiIpE6\nxyIiIiIikTrHIiIiIiKROsciIiIiIpE6xyIiIiIikTrHIiIiIiKROsciIiIiIlFLsxsgIjIXmdkd\nwALC0u8iIjIxK4Eed39wo088lzvHDjAyMlJpF5DeZwAU3OI9K+0Z8YFwXRgEYGCwr7RvT98uAHb3\n7ARgcKC/tG+oZQiA4eE9AMzLJ3W20ApAa1tXaVuurTPs65gHQFdnd2lfZ0vYls+3hbLkU22Pt63c\nUuD5MtsyJfKpholIvSzo7OxcsmrVqiXNboiIyGyzfv16+vr6xi84DeZy5xiAfL5a53Dsw8976DD3\nDyad3B27twLQ27cdgJ29m0r7dvaE27292wDYvae3tC/XGjqrhYHQgV7U2lra154Lt9s6kg5wS2t3\nvF4AwPwFy0r7FizeF4CuzsXhumNpaV9rSzsARqHMYyxmzqj/K9JgG1atWrXk6quvbnY7RERmndWr\nV3PNNddsaMa5lXMsIjOSmbmZrZtA+TXxmLWZ7evMyv6sIiIiMoY6xyJzxEQ7kyIiIjLWnE+rcC8T\nMCpuSwWTPOYT79kTcoc337+xtO+eLXcD8MD2ewDo7buvtK93T0ir2NO/A4Bdu5O0CssNA7CgLaQ0\neHeSQmEjQ7FMW2lb3kI6hY+E3OOOeYtL+xYfeDAA3fOXA7BsUZKfvnjhgaF8e8hfNkulUFj8/uP5\nuC/5PjSqnMjs9ydgFbCl2Q0pun7jTlae9eNmN0NEpCk2fOyZzW7CpMz5zrGI7B3cfQ9wU7PbISIi\ns9ve2Tm2OHCtkIyC3N37AAAbN90KwKbNd5T23b35TgB27AoD83bvSQWmcmEmi4GhMCPF4OBAaVd7\nV3h6d/eFwX27csnsGObh3B3tHaVtIwM9ofzOEHHOt80r7du49TYAurv2A2D//R5W2rd8v8MAWLrP\nSgCWLF1R2tcSZ7dIouTpSLoix41kZqcDzwYeDawAhoC/A593969nym4AcPeVZepZC3wAOMnd18V6\nvxp3n5jJrz3b3demjj0FeDPwKKANuBW4GPiUuw+kjiu1ATgS+BDwQmAZcDOw1t1/YGYtwLuB04GD\ngI3AOe5+fpl254DXAa8mRHgNuBG4APiiu5cbUYqZ7Q/8F/A0oDse89/ufnGm3Brg8uxjrsbMnga8\nDTgm1n0P8D3gw+6+o5Y6RERkbtk7O8cizfF54AbgSmATsBR4BnCRmT3M3d83yXqvBc4mdJjvBC5M\n7VtXvGFmHwHeQ0g7uBjoBZ4OfAR4mpk91d0HM3W3Ar8AlgA/JHSoXwx818yeCpwBHAtcBgwALwLO\nM7MH3P3STF0XAS8B7ga+TPimdjLwOeAJwEvLPLbFwO+AHYQvAIuAU4BvmNkB7v6JcZ+dCszsA8Ba\nYBvwI+B+4JHAvwLPMLPj3L2nhnoqTUdx+GTbJiIizbOXdY5j7m8MkO3ZneQVb74/RGa3bLsFgLvu\n/ntp30233hCOi8fnLHnadvXsBmD+vDgNW3syb/FQXwiEDRVC+Q07tpf27bs0bFuwuL20bdBDxLi1\nPeQjt7Umgby+/hBp3rz1/tCG1FRzAz0hkr1tW8iXPnBlEoDbf8WBsa58fOwatN9ER7r7bekNZtZG\n6FieZWZfcPeN5Q+tzN2vBa6Nnb0N5aKmZnYcoWN8N3CMu98Xt78H+P7/Z+/O4yy/yjqPf557a9+r\n970r6SydheyEJSTpDIJodMQVFxTQYUSdARlQEZ0hqAyMIsSBQRwVYTDjBgIiMDIDZIUIWSFJZ+lO\nV6f37tr39Z754zn3d24qt6qruqurqm9/369Xv27V7/x+53du5ebWuU895znAD+GTwv8649JNwEPA\nrmJk2cw+jU/w/wHYG59XX2z7EJ7a8C4gmxyb2c/gE+OHgZtCCEPx+O8CdwE/a2ZfmhkNxier/wD8\ndDGybGYfAB4E3mdmnw0hPLuwnxiY2S34xPhbwA+WRolLIvHvBd6+0L5FROTspmoVIktk5sQ4HpsA\n/gf+QfWVZ/D2vxgf/6A4MY73nwLeARSAfzfLtb9emnIRQrgH2IdHdX+rdGIZJ6r3AZebWWmR8eL9\n31WcGMfzh/G0DGa5/3S8R6Hkmn3Af8ej2j8/6zOe21vj45tnpk+EED6JR+PLRbJfIIRwbbl/KP9Z\nROSsdI5FjkWWj5ltwyeCrwS2AfUzTtl8Bm9/TXz8+syGEMLTZnYQOM/MWkMI/SXNfeUm9cBh4Dw8\ngjvTIfy9ZUP8unj/AiVpHiXuwifBV5dpey5Ohme6E08jKXfNfLwMz/n+STP7yTLtNcBaM1sdQug+\nxXuIiMhZqOInxyGkRXCFmFEw2O9pCCeOPpW1HTz8BAC9A/57eGh4f9a2utXTHZobfRfYvt7UZ89h\nDzr1DHkwrLohLbAbjNtGV8U1cetWpVJuY1Oe2jk2UZLmEDyQX1vru+flcqktbrZHU7unbVSVpEKO\n9HsaxvEe77O7L6VjFJfcbdrkpeCyBXqkFAuVdDvzzOx8vNRYO3AP8FWgH58UdgBvAGpnu34RtMbH\nI7O0H8En7G1xXEX95U9nCmDGRPp5bUB1ybFWoKdMTjMhhCkz6wLWlenr2Cz3L0a/W2dpP5nV+Pvf\ne05yXhOgybGIyDmk4ifHIivEf8InZG+Kf7bPxHzcN8w4v4BHL8tpO4X7FyexG/A84Zk2zjhvsfUD\nq8ysOoQwWdoQK16sAcotfls/S38bSvo91fHkQgirTvF6ERGpUBU/OQ5ZEAsG+n1BXOee3QAc2PdI\n1nbshB+zaj+nvjr9/m5u9WjtVDxUk0sl1lpa/He31XjEONeQgn/jPR5VHh33RXvT1pTGMuq/0wuH\nUzm5+rjQr73eH8em09gP9Xo0uG7a5w+b2lIAbnLc0zEPdHuQbf1w+s/aUufzqLpqH/O6DaXBudKU\nUDnDLoiPny3TdnOZY73AFeUmk8B1s9yjwOz/UR/GUxt2MWNybGYXAFuAfWewfNnDeDrJTcDXZrTd\nhI/7oTLXbTOzjhBC54zju0r6PRX3A7ea2WUhhMdPsY+TunxzKw+epUXwRUTOVVqQJ7I0OuPjrtKD\nsc5uuYVo38Y/vL5pxvlvBG6Y5R7deK3hcj4RH3/XzNaW9JcHPoi/F/zlbINfBMX7v9/MspIu8esP\nxG/L3T8P/Dcr2drRzM7DF9RNAX9d5pr5+HB8/PNYR/l5zKzRzF56in2LiMhZrOIjxyIrxMfwie4/\nmNln8AVtlwOvAf4eeN2M8z8Sz/9TM3slXoLtKnwh2T/jpddm+hrw02b2RTwKOwncHUK4O4TwTTP7\nQ+A3gcfiGIbxOseXA/cCp1wz+GRCCP/bzH4Er1H8uJl9Hq9z/Fp8Yd/fhRDuKHPpd/E6yg+a2VdJ\ndY7bgN+cZbHgfMbzNTN7F/B+4Bkz+zJegaMJ2I5H8+/F//uIiMg5pOInx5NjKW3h+OGDAOzb479P\nH/veY1nbVPCUhE1bvYBATW1aPDc05EGrkVE/lq9JgaaWtf4jtPqYHlqXfqS17b7gbWDAUzWmc6k2\ncUub9znceyI71tfn637G6/w8s5Q60d/jx6bjIrqeydRXb2zbe8AXCnafSPMFm/C0ivr4fJqbUkpI\nfdNsKa2y2EII3421df8AuBX/f+9R4MfwDS5eN+P8J8zs+/C6wz+MR0nvwSfHP0b5yfHb8AnnK/HN\nRXJ4rd67Y5+/ZWYP4zvk/QK+YG4v8Lv4jnMvWCy3yH4Gr0zxi8Avx2O7gT/GN0gppxefwP8h/mGh\nBd8h74NlaiIvSAjhv5nZfXgU+hXAj+C5yIeA/4lvlCIiIueYip8ci6wUIYRvAv9mluYXlAwJIdyL\n5+PO9F18A4uZ5x/HN9qYawx/C/ztycYaz+2Yo23XHG1vxLeTnnm8gEfQPzbP+5f+TF4/j/PvpPzP\ncdcc19yLR4hFRESAip4cexS190SqwrQ/Roz3PuPl2vbuz/ZCIF/rC+RWrY+L1/Np8dxwwRex5Vs6\nvM/BlKo9Hjz6Wm2+EK+mNkVjq+v92Lr22GXJIr983r9ubB3Ojo2e8I2+wpCPM1dSXrWpxhfkNcZ0\nzYGBVObt2AkfT+ce7+vZZ57O2sKUP4/2dh/Eps1pQd6m+lgWriqVnxMRERE5l2lBnoiIiIhIVLGR\n46lRz8M9uP+57Njux32jjyd2e2T10IlUIrUtrt8fL7QAsH3TtVnbRZuvB2Bkyvcb+OJX7s7amlZ5\npLmqyaOvhdr0I62q9shsrsr/0puvTqXZCgX/XNLcnKK2m9ef72Po9ZKzR/Z/M2trMY8c10x6NLow\nna7rG/EI8/CI9zkxnvKROzs9Cn3+YY8YHz+RNmFbtdGfdJMixyIiIiKAIsciIiIiIhlNjkVERERE\noopNq+jp6wFgz75U1uzx3b4R1hNP7wFguqSSWV27l3Briovu1q6/KmuzBt8Fb2TU0yPqW1qyttUb\n1gCQr/W2iYlUDctyfqwQy69V16bd83LBF8pZSP8JcrWehrF2m5935MTBrO3wUU8P2dzqqR1jhTT2\nrr5Yrq42H++XFvn1jPh1R/s8haJneEfWNjLqaRxNjWsQEREREUWORUREREQyFRs5Ptrji9SOdndl\nx4YmfKFavsajxOu2psVpWzt8k4yOHR4xfuTRQ1nbw7vvA+Dy63w32amJFLbt6fL+B0d8cd/4SCrX\n1tToG3C0tXukebhvPGubGPP+c6E6Oza6zqPCmzd5VHnThTdmbXue9c1Cnnh2AIDndqeo8vHjcTx5\nL1/Xlp4W2y70ezdv9Cj2uKVFiEMjff5zQERERERAkWMRERERkUzFRo6p8tzfUJsipXVtHll92Xkv\nB+CK62/O2kJuBIDqes8vrmkYTH1Ne5R2/zO+SUe+OuUOjw14pHh0xCOz1fm07XRDjUeCm+s8ejsw\n0JO1FUY8itzQUJ8dy03Hfqe9j3Xrr8jarnqp5xM/ct89PobWNLy2+FzrW/w5XHhJKs3W0url4/LN\n3jaWH8jaxqeGEBEREZFEkWMRERERkUiTYxERERGRqGLTKuqbPG1h+86QHZvMebpCY91WAJqa0lK0\n/Qf2+zmTnobR0r46a3vZdVcD8ORTu71tVcppaGzfDsDRLi+nVl2XUi62bW8HYFV7IwBDg+l+3d2e\ntlFVnc+OVdf7tUNjvkhvqjt9dtm4/nIAml/lu+dd+/LerK1Q8IWGQ8PPeJ/sydryHPafRyxVV9OS\nFhNaTVogKCIiIiKKHIvIOcrMOswsmNknl3ssIiKyclRs5NjMI7ltbWn+33G+b3bx5KNHAHjgX7+Y\nte3f75Hj5rjBx9o1KcrbYB7RXbfeF+s11aTo8LNPe7R2/wGPOId8ut/Rg76px+bt3ldDS4o4d4/7\nQr6+rrRArnraF8/Vx2ByvaUyb+safOwNjb5zSVv7lqytrc2jwoVJjyqPjKzK2ibD7nidL75ryZds\nUmLpa5Ezwcw6gH3Ap0IIb1zWwYiIiMxDxU6ORUSW22OH+ul415cWfF3nB249A6MREZH5UFqFiIiI\niEhUsZHj5ph+sGZ1qjscCp628N0H7wfg6cfSbnaFKU8xOB78nD3T01lbvuB5Dpu2nAdAbdv6rG3P\nAa9dXN/ox3L5VGN4/x6vLfzMMz6GCy67OGtravRj+YHR7FjPAd81b+zEUW+zqaztO4W4eC7n49q0\nKaV91Df4c21u2AZAdWsae9N6X5B42Q7/T109leo3T08NI3KmmNltwHvit28wszeUNL8J6AS+AbwX\n+HI892VAO3BeCKHTzAJwVwhhV5n+Pwm8oXjujLbrgXcArwDWAD3A94C/CCH8/UnGnQM+DLwV+Bzw\ncyGE0bmuERGRylGxk2MRWXZ3Am3A24BHgc+XtD0S28AnxL8N3At8Ap/MnnJCvJm9GfhTYBr4J+AZ\nfJf064BfBWadHJtZHXAH8GPA/wDeGkIozHa+iIhUnoqdHOdy/vusvj4tapue9khxPng0dUNjWliX\nx6PDWzZ5+bWh/rSbXV+PR1vHew4A8Ny+fVlbbUsxYuwZKieOj2Rtk3mP4F5+2S4AfviVN2RtOzb6\ndeNdKSD1iY9+AoAn9z0HwE23vDhr+6d7v+LnT3jZthtf8tNZ2zfu/AYAE8HHfOOtr8raxqf7ABgr\ndANQ15pKx9U1pJ+NyGILIdxpZp345PiREMJtpe1mtit++WrgLSGEPzvde5rZpcDHgAHgxhDC4zPa\nt5S90NtW4ZPplwPvCiH8t3ne88FZmnbOa9AiIrKiVOzkWETOGo8sxsQ4+hX8fe33Z06MAUIIB8td\nZGbbgf8D7AB+PoRwxyKNR0REzjIVOzm2YAAUptImIPm4/vCaKzyg01Ob/nJ74sizAFx9wVq/bjLl\nDnf3eG7u8R7PAa45lMqvnX+p5yE/s8832zgx2pW11dV6ZLp2xCPPQ/ufydr6qrz0W011W3asYZN/\nPXXI85GfGUgbfdTlNgEpT/jJR9J9xvpi/nKrP+eqsbHUts/vM97uY6/buTZrq6quQWQF+PYi9vXS\n+PiVBVxzMfAtoBH4gRDC1xZywxDCteWOx4jyNQvpS0RElp+qVYjIcju6iH0VP20eWsA1FwEbgWeB\nhxZxLCIichbS5FhElls4Sdtsf+FqK3OsLz5uXsD9vwi8G7gK+JqZrT7J+SIiUsEqNq2iKucpDVUl\nu8w11DUBcPEO/913sP9I1jZw1BfS1Rb8d2ttScpF7ep8vN53optKldK4+tKtAJw45ovoakjl0Wrj\nr/y9D3jpuFZLi/wmDnmaRL4q7WaXG/XFedvPOx+ATVtTubYrLrgcgPExH1fO0ueajZs2APDo4x70\neuZr6S/K62r9eY20+G594frtafA1WpAnZ1zx/5b8nGfNrhfYOvOgmeXxyexM9+NVKX4AeHK+Nwkh\nvN98W80PA3ea2feFEI6d2pCTyze38qA29BAROasociwiZ1IvHv3ddorXfxvYZmavnnH8d4HtZc7/\nU2AK+M+xcsXzzFWtIoRwO76g7zLgLjPbdIpjFhGRs1jFRo5D/Evt9FR6ihb8s8CqtR5F7WpJi+6m\nY2CrEPz8fD5tEFJf69fVNbUCMDSR/gq8foMvhmtu8sVt+ZA27qjLezm5sX4vo3boqT1ZW6H7OADj\n42l8B7o9Kly/1hfN/eQvpXJtF13oc4vxUd8MpKo6XffM077Q7+FvfxmA3p409lDri/M2dXsUOk/a\nFKXKGhA5k0IIQ2b2r8CNZnYH8DSp/vB8fBD4fuALZvZ3+GYeLwfOw+so75pxvyfM7FeBjwMPm9kX\n8DrHq4EX4yXebpljvB83szHgL4G7zezfhBCem+dYRUSkAihyLCJn2s8DXwJeg++C9/vMs4pDrBzx\nWuBx4KfxHfE6geuB/bNc8+f4znj/jE+efwP4t8AJfGOPk93zk8Dr8cj03WZ2/nzGKiIilaFiI8dm\njQDkwprsWGHC829rYu5woS5FToen/FjXoH9eKJR8boj7e1AIHtltWtWStdU0eh9VNR6FrqlKebw1\nMbo7MR63pN6bcpx37/MF+rWNKZI7MuJR3upuP++zd/xt1rZmra89mp7yvnI5y9q6u72sW3+3l5ib\nHExtXfUetb5x24v8fnXtaXzxZyRyJoUQ9gA/PEuzzXK89Pp/onyk+Y3xX7lrvgX8+En67Zzt/iGE\nvwH+5mRjExGRyqPIsYiIiIhIpMmxiIiIiEhUsWkVzfUXApBblVInagpe8qzrqO8a1921N2s7eMh3\no6uLJdI2rkuVpxobPWViOudpD3WrNmZtLat8QXtjk5dky5V83picjrv0VXkJuUlLC/lGxocAWL82\nlWtrDd7+7F7fre/v/v5z6Qlll3qfIYSSJv96zXqveFW7Ki00zFV5KsiFO/3nUVdbn7XVVjchIiIi\nIokixyIiIiIiUcVGjvNxsVlDXSpVml/tEdWjzz0BwJEjfVnboSO+cG39Kl+wtuvyG7O2rm7fC2D3\nXl8cv7kxreEZHPY9DgYGPaqcz6XPG9MxuDtd5fdtak+L4a4436PYV15xcXZsYMCjyROTXopteHg0\nazO8VFzBq8ORsxTZLgSL/XufdbUpWt7aHMvQ1fuxvNVmbdV5LcgTERERKaXIsYiIiIhIpMmxiIiI\niEhUsWkVxeqloZiHAExPebrCocMHAThy9GjW1tzu9YZDjf9IeobHs7bx+GOqbfT6xsOxHjFAX58v\n5Ovp8R3vcvl0P4s/3UJu+gVt69b5Ar7161aXjM8Xz11+madaDAwMZm0T497H1GSIbSNZ22Q8ZuY1\nkMcnBrK283b4znr1dbGeciGlUuQsLc4TEREREUWORUREREQylRs5xqO0uVxauFZV7bvXXXLpRQD8\n3Bt+Kmvr7/EFeSNDHnUdHkiL9XoHvfRbb98JAI51Hc/apoNHo3u6DgEwPjmctYVpjzBPeNCX4cEU\nqb5v6AAA3/3Onen8uICvocEXz9XUpP88NbUeCm9ubQXgxJHU19GjPvZ8oy/a27AhlYe75KIrAVjV\n5uXnaqrWZ215Swv3RERERESRYxERERGRTAVHjn3eb6QNMepq2wC4eOelAFy4I5VRm5jwHN6pmPc7\nOTaRtQ33eRS5p8sjx0ePn8jaDhz0iHFzvUdth/qns7aBfo84Dw56NHpiPPU5MemRbSv5eFIdI9u5\nmKNsls6vjxXYGuv8PhftWJW1bVrvm3lUNXh0+dprrsnaXn79VQCsbl8LQG31mqwtV1LWTUREREQU\nORYRERERyWhyLCIiIiISVXBahbOSHeuIu+YVCn5sOoyUnOk/ilyVr4qrrUs/muY2Tz/Yst1TEy4v\nuWpiwlMfxse8jNrUVLrf5MR4bPOFeVNx57vS8yyX7pMvWTwIMDmddsgrmI81n/exVOfTYrriMavx\n65tb2rK2ljYv4ZaviykUJYvwjLTTn8hKZ2Z3AjeHEOb9wjWzANwVQth1psYlIiKVRZFjEREREZGo\n4iPHlARjLX6Ty/kivXyudMMO/1FMTXu0t1BIUd7CtC+Qm5jy6HBpNLqqzhfR1TS8cHGb5RrjfV2x\nVJsfq45fzfH5xNIFBSsu0svH69N/uuKxUFUbz01tuWJE3Cr/P7VIGZcAIyc9S0REJNKMSUQqVgjh\nyeUeg4iInF0qf3JcEq1NKbb+xfOiqbEtK6NW2kchHsv7USutvxbDwdOF8LzvAcJ0iIf8sVCylTUU\nI8Gzj7k0s7IQo8PF/qvyaQz5fFVs8v7z1em6XBblthmPIiuHmf1b4G3ApcAqoBt4Bvi7EMLHZpxb\nBfwm8CZgG3Ac+N/Afw4hTMw49wU5x2Z2G/Ae4BZgO/DrwE5gEPhn4N0hhKOIiMg5STnHIrKszOzf\nA1/AJ8ZfBP4Y+DJQj0+AZ/rfwH8E7gH+FBjFJ8t/tsBbvx34OPAocDvwVLzfN81s7YKfiIiIVITK\njxyLyEr3y8AEcGUI4Xhpg5mtKXP+DuCyEEJPPOd38AnuL5jZby8g6vsDwEtCCA+X3O/DeCT5A8Av\nzacTM3twlqad8xyHiIisIOfk5NiKu+dZTToY0w/yxRSIkkV3liumR8SFb8/vLB4Lsc8wsylLhciX\nxumz80rOn5H2Ubp9XohjtZgKUpVLY8/KweWK5eFKS8LlZnkUWVGmgMmZB0MIXWXO/a3ixDieM2xm\ndwD/BbgOT42Yj0+XToyj2/Do8c+a2a+GEMbn2ZeIiFQIzZREZLndATQAT5jZh83stSdJa3igzLED\n8bF9Afe9a+aBEEI/8AhQh1e6OKkQwrXl/gFaDCgichY6JyPHKaabIqwWw7bFgHHueaXS/OtCzku5\nFUu7ARRCMarsxwKprRhNDuF5sebn3a90eVzIFgrGtpINQsjVxrZ4zKpLrsvFtuKzK+1VEWNZ2UII\nHzKzLuBXgbfiaQ3BzO4CfiOE8MCM8/vKdDMVH/Nl2mZzbJbjxbSM1gX0JSIiFUIzJhFZdiGE/xVC\neCmwGrgV+EvgJuBfzuDiuPWzHN8QH/vP0H1FRGQF0+RYRFaMEEJfCOHLIYQ3A5/Ey7rddIZud/PM\nA2bWClwFjAG7z9B9RURkBTtH0yqikkLCxV3mcsXchJL0iGJahRVrIOdLdtYrFFMnin/VnWKmQqFc\nWkXc6c5e+PkkS7koWVhnuZrnXUcorbVcHHNpHeWieN4Lh6CSx7IimNktwJ3hhflH6+Ljmdrh7ufN\n7KMzFuXdhqdT/JUW44mInJvO7cmxiKwEnwOGzOx+oBP/2HYj8GLgQeD/naH7fgW4z8z+HjgCvCL+\n6wTetQj9d+zevZtrr712EboSETm37N69G6BjOe5dyZNjgxSFnf2MmYfKLGArLnSLj6Ul2Ray+mdR\nlX1ac4xGUWJZud4FfD9wDfCDeErDfuC3gD8NIbygxNsi+TA+Mf914HXAEJ7K8e6Z9ZZPUdPo6Oj0\nQw899Ogi9CWy2Ip1uFVVRVainUAtMLAcN7dylRRERCpV6fbRIYQ7z+B9HgQv9Xam7iFyqvT6lJVs\nuV+fWpAnIiIiIhJpciwiIiIiEmlyLCIiIiISaXIsIueUEMJtIQQ7k/nGIiJy9tLkWEREREQkUrUK\nEREREZFIkWMRERERkUiTYxERERGRSJNjEREREZFIk2MRERERkUiTYxERERGRSJNjEREREZFIk2MR\nERERkUiTYxERERGRSJNjEZF5MLMtZvYJMztsZuNm1mlmt5tZ+3L0I1JqMV5X8Zowy7+jZ3L8UrnM\n7CfM7CNmdo+ZDcTX01+fYl9L8v6pHfJERE7CzHYA3wTWAV8AngSuB24BngJuCCF0L1U/IqUW8fXZ\nCbQBt5dpHgohfHCxxiznDjN7BLgSGAIOAjuBO0IIr19gP0v2/lm1GJ2IiFS4j+FvyG8NIXykeNDM\nPgS8HXgf8JYl7Eek1GK+rvpCCLct+gjlXPZ2fFK8B7gZ+MYp9rNk75+KHIuIzCFGK/YAncCOw6Jt\nAgAAIABJREFUEEKhpK0ZOAIYsC6EMHym+xEptZivqxg5JoTQcYaGK+c4M9uFT44XFDle6vdP5RyL\niMztlvj41dI3ZIAQwiBwH9AAvHSJ+hEptdivq1oze72ZvdvM3mZmt5hZfhHHK3IqlvT9U5NjEZG5\nXRwfn56l/Zn4eNES9SNSarFfVxuAT+N/or4d+DrwjJndfMojFDl9S/r+qcmxiMjcWuNj/yztxeNt\nS9SPSKnFfF39FfBKfILcCLwI+DOgA/iKmV156sMUOS1L+v6pBXkiIiJCCOG9Mw49BrzFzIaAdwC3\nAT+61OMSWWqKHIuIzK0YkWidpb14vG+J+hEptRSvq4/Hx5tOow+R07Gk75+aHIuIzO2p+DhbLtuF\n8XG2XLjF7kek1FK8rk7Ex8bT6EPkdCzp+6cmxyIicyvW5Hy1mT3vPTOWELoBGAHuX6J+REotxeuq\nWAHg2dPoQ+R0LOn7pybHIiJzCCHsBb6KL0r6tRnN78WjaZ8u1tY0s2oz2xnrcp5yPyLzsVivTzO7\nxMxeEBk2sw7go/HbU9ryV2S+Vsr7pzYBERE5iTLblu4GXoLX3nwaeHlx29I4mdgH7J+5mcJC+hGZ\nr8V4fZrZbfiiu7uB/cAgsAO4FagDvgz8aAhhYgmeklQQM3st8Nr47Qbg+/G/QtwTj3WFEN4Zz+1g\nBbx/anIsIjIPZrYV+D3gNcBqfEemzwHvDSH0lpzXwSxv7gvpR2QhTvf1GesYvwW4mlTKrQ94BK97\n/OmgCYOcgvjB6z1znJK9FlfK+6cmxyIiIiIikXKORUREREQiTY5FRERERCJNjkVEREREIk2OZ2Fm\nnWYWzGzXAq+7LV73yTMzMjCzXfEenWfqHiIiIiLnIk2ORUREREQiTY4XXxe+zeGR5R6IiIiIiCxM\n1XIPoNKEED5K2k1IRERERM4iihyLiIiIiESaHM+DmW0zs78wswNmNmZm+8zsg2bWWubcWRfkxePB\nzDriPvafin1OmtnnZ5zbGu+xL97zgJn9uZltOYNPVUREROScpsnxyV0APAD8EtAGBKAD34P+ATPb\neAp93hj7/AWgFZgqbYx9PhDv0RHv2Qb8O+AhfL97EREREVlkmhyf3AeBfuDGEEIzvt/8a/GFdxcA\nnzqFPj8GfAd4UQihBWjAJ8JFn4p9dwE/AjTGe98EDAB/fGpPRURERETmosnxydUCPxBCuBcghFAI\nIXwB+KnY/ioze8UC+zwe+3ws9hlCCHsBzOxG4FXxvJ8KIfxTCKEQz7sHeA1Qd1rPSERERETK0uT4\n5P4+hLBn5sEQwjeAb8Zvf2KBfX40hDA6S1uxr/vjPWbedw/wdwu8n4iIiIjMgybHJ3fnHG13xcdr\nFtjnt+ZoK/Z11xznzNUmIiIiIqdIk+OTOzSPtrUL7PPEHG3Fvg7P474iIiIisog0OV4e08s9ABER\nERF5IU2OT27TPNrmigQvVLGv+dxXRERERBaRJscnd/M82h5axPsV+7ppHvcVERERkUWkyfHJvc7M\nzp950MxuAm6I3/7DIt6v2NfL4j1m3vd84HWLeD8RERERiTQ5PrkJ4Ctm9nIAM8uZ2Q8Dn4nt/zeE\ncN9i3SzWU/6/8dvPmNkPmVku3vsG4P8A44t1PxERERFJNDk+uXcC7cB9ZjYIDAH/hFeV2AO84Qzc\n8w2x77XAF4GheO978W2k3zHHtSIiIiJyijQ5Prk9wHXAJ/BtpPNAJ76F83UhhCOLfcPY54uBDwH7\n4z37gb/E6yDvXex7ioiIiAhYCGG5xyAiIiIisiIociwiIiIiEmlyLCIiIiISaXIsIiIiIhJpciwi\nIiIiEmlyLCIiIiISaXIsIiIiIhJpciwiIiIiEmlyLCIiIiISaXIsIiIiIhJVLfcAREQqkZntA1rw\n7eZFRGRhOoCBEMJ5S33jip0cv/Ptv+L7YlcNZseOD+4BYHp6Mh5JW2f3nugDYKSnGoDOg8eztisv\nvRKADRvqALj/ke9mbQMDEwDccOW1AJzXsTVrGxou+BDqhuJ138za+kenAVi/bnV27MKtm3wMwa87\nMpDGUGUGQEuM9edzY1nbi1/6bwCoq/WxT0wMp/H1+fP67B13AmATtVlbXX0NAPc92GmIyGJrqa+v\nX3XJJZesWu6BiIicbXbv3s3o6Oiy3LtiJ8cicnYys7cCbwHOA+qAt4cQbl/eUZ2SzksuuWTVgw8+\nuNzjEBE561x77bU89NBDnctx74qdHI+Ne0S31tJTrK9pBmB4NEaTY4QWoK4pRl2HPJq8bfu61Nbg\ngdUndj8HwGTJB5maKr/u+PETALQ31mdtVt0IQFWM6K5ub83aJmwEgPVrN6QxT3g0uWvEo70TU+NZ\n28a1FwLQGKPefcOHsraWprUAdJy/E4ADB7+XtRUK3udFl24DoPO76Tqm8oisJGb208CfAA8DtwPj\nwP3LOigRETmnVOzkWETOSj9UfAwhHF7WkSyCxw710/GuLy33MEREzqjOD9y63ENYVKpWISIrySaA\nSpgYi4jI2aliI8fFtIp8dXV2rC7v62KmqibiOSk/oirn51XXTQGwqr49a2tu8oVrhSlfBDc8ktId\n1q/zPicLnu4wNpkWyuEZDbS1eorG2g0pVWOqacBPKclsONbbA0Au7wv/GkNax1Oda/Dzq31xX01V\nW9bW1dXr57f79c1tm7O24TFPHbniJdcAYGmtHk8/VZJiIbKMzOw24D0l32erZUMIFr+/C/hp4A+A\nHwA2AL8UQvhkvGYj8LvArfgkux+4B3hfCOEFib9m1gq8F/gJYA1eVeJ/Ap8H9gKfCiG8cVGfqIiI\nrHgVOzkWkbPKnfHxjcB2fNI60yo8/3gI+EegABwDMLPzgHvxSfHXgb8BtgI/CdxqZj8eQvjnYkdm\nVhfPuwbPb74DaAV+B7hxUZ+ZiIicVSp2cjw65tHd6ppUri0fk0hqcy0ATOVTW2HaI6w1NR45bqxP\ni+ca6j1qe+llvqhtMuzJ2iYnvY9CjV8/Pp0W+TXV+g1zwR8LpDBxfbOXVBsZHsqOFYNlzY3elss3\nZm01OW+rb/K+1remknHDI77A8MHv3A3Ajgt3Zm2NTWv8+jrvq/u8E1nb7icVOZaVIYRwJ3Cnme0C\ntocQbitz2ouATwO/GEKYmtH2cXxi/LshhPcVD5rZx4C7gU+Z2fYQQvF/uN/AJ8Z/C/xsCCHE898H\nPLSQsZvZbOUods5yXEREVjDlHIvI2WICeOfMibGZbQFeDTwH/GFpWwjhm3gUeRXwYyVNb8Ajz79d\nnBjH8w/gVTJEROQcVbmR41EvldbUUJMdCzHXeDp4MvDYUIryTgfPOZ4Knjvc1dOftbU0NgGwdq1v\n2HH1pRNZ230P7AdgIG6jMTk9nbVNTnlfE1P+u7xY9g2gocqj0eODaZOSlnpvr2/0cY1MpPzl6hp/\nHrVV/nlmTVvKiR4c8nse7PRScwN9KfC1fpvnOQ8Pel+Hj3VlbavXpg1IRM4CnSGE42WOXx0f7wkh\nTJZp/zrw+nje/zKzFmAHcCCE0Fnm/HsXMqgQwrXljseI8jUL6UtERJafIscicrY4OsvxYg7UkVna\ni8eLq1hb4uOxWc6f7biIiJwDNDkWkbNFmOV48c88G2Zp3zjjvIH4uH6W82c7LiIi54CKTauYmPC0\nCkJLdiwXUwvHxz3FYKpk8dx0wRfLTU35Ob1dKQi1Y8t2ACz+bl6zbm3Wtm6VL3Dbd8TX+QwPpTJv\nVQX/7DHZ6tc1tqcFdnn83vmR9PmkMO6/u6fHfezFpwBQu9pTO2ryPs6GulTKra/naHx+nnpx4mBP\n1jbW750ces7/Gj1wvC+NffNscwmRs8rD8fEVZlZVZrHeLfHxIYAQwoCZPQt0mFlHmdSKVyzWwC7f\n3MqDFVYcX0Sk0ilyLCJntRDCQeD/Ah3Ar5e2mdlLgJ8FeoHPlTT9L/z97/1mZiXnb53Zh4iInFsq\nNnKMxU1AciV/iY3xpJEh3wljYjItnisEj8iODPt6nqmSdT0xmMzImF/XFMuwAaxe7Qvrdu/z6G1P\nb1rI11jj5+0/eBCAVbVNWVt9u1+3uiUt0pvq9/Nba/w/S0tbOn/DRl+At7/f+xocS8Gx6uC/2/O1\nvnlIvjptbrKxfQsAa2o92v3o2Peytv2HVcpNKsZbgPuAPzKzVwMPkOocF4A3hRAGS87/Q+C1+KYi\nF5vZV/Hc5Z/CS7+9Nl4nIiLnGEWOReSsF0J4FrgOr3d8MfBOfBe9/wPcEEL4wozzR/F0i4/gucpv\nj9//V+D98bQBRETknFOxkePiNtBWncquTcdI8XAs8zY8kqLDjfXNfn7Bg0VhOn1u6O738mf5Cc8r\nbmrtyNrWrvGF8sVdqqes5H7T/vXx4379VCHlCbet9/tdsHlbduyCjisB2Lre1w8d6nwyaxs74fe+\neN3FABwupKh3Q6PnMq9u8lzqfF3aI7ol7hXSGHyN0Tgpsn3iX3sRWUlCCLtmOW7ljs845xDwKwu4\nVx/w1vgvY2Zvjl/unm9fIiJSORQ5FpFzkpltKnNsG/Cf8SSsLy75oEREZNlVbORYROQkPmtm1cCD\nQB++oO+HgAZ857zDyzg2ERFZJhU7Oa6PG8iFmpRiUKzwVF3rORDN+bR7Xm2NL8jL5esBsJKlONOT\nnq6Qq4s7142nnetaWz2toq3Vf5SjY0NZ2+RE3Jsg5wH6kDIuGD3i49p0aQpeFSZ95d8zR3wPggPd\naexDPZ4Ccf2mHQCcty4t1nvyuQcAGGvcA0BX34GsrWrI+9yx0VMvtpy/JWtbtWc/IuewTwM/D/w4\nvhhvCPhX4KMhhH9czoGJiMjyqdjJsYjIXEIIHwM+ttzjEBGRlaViJ8f5GOWdzqcob1W9R4rb160B\nIBRSGTUr+HmhfzJen0rA5Wv9uqq8Hxsr2Z1j9WpfPLdhjUdmDx5O97Mq//EafqwuRqcBLtjk19Xm\nUoi6yrz/enyxXaExlYzrnfYFfE898YhfdzRt4NG4ySPTw8Nemm1sMi2yH5v06lWjwfsct5IScDml\nnIuIiIiU0uxIRERERCSq2MhxoeDbOBemU15xXf0qAGqqPGI8MZmitpOT8XPCoG+vPF1Skm1k2nN/\nV6/y64en0iYbhVqPBq9e7dHop5/dlwYRNxa5ssO3n77w/POzpi2b1scOUkm2NWvX+ThrfMzNjQ2p\nrdnLwQ30+b17qrqytk2bLwLg8KhHo7uqUrm2XIxC9x325/Dko3uythNdKT9aRERERBQ5FhERERHJ\naHIsIiIiIhJVbFqFxd3pCiUL0KrM0xRqa+sA6J/uy9rGpv28EBfFNbW0ZG1ta3wxXE2rX3/g4NGs\nbeSA72JX1+yl1VrqUom1HRs3A/CyKy7zMdWULADM+49+Q9xhD2By2tM8CnF3vpbm1NZU7eNbs9EX\n4tWFtLtdME/fCFNt8bmnzzwjR32BYUu9L+6bGEoLDY90aYc8ERERkVKKHIuIiIiIRBUbOa4u+KK2\nwlRa8BaCfxaorfEoanXJgry1qz3iW1vlC966x1JbfaNHjvv6faFbLqTPFEPDHn3O5T3SfMNVL8ra\ntq7zBXyDcRORscHBNMDgEdzJycns0PCwL5BrqvPx1dWmSHNLo3/dgLetb9mctT3VvReAI0e7/b6r\n08K/o7sNgKcP+kK8saFU5q0wnu4tIiIiIooci4iIiIhkKjZyXGUe7S3ZBZqJqVjeLec5x/V1aVOO\npkbP152e8pJnh/qOZG2D/R61rc55FHrr2q2p0/jxYrjXNwbZWNy3Gpic8shsT7/3mYrKwUCfl2I7\ncSzlL9fX+bgmWmOOc0mO8vS05x+3rvKc49XrVmdt3979bQDGTnie9frV67O21Ws9Qv3Q054bPT6Q\nytDV6bORiIiIyPNodiQiK4qZdZpZ53KPQ0REzk2aHIuIiIiIRBWbVlEoeIqCWTo2NuEpBaOTnk6R\ns/T0pyY8AaM67+XaGnOprbv3mJ8f/NhILi3y27Te0xzWN/kOeVXD6X7Fe48M+cHqWE4NoCXuftfd\nn3azq63xdIrNsQRcXVUa/MCwj726rtEfa1KpufZW3xnvZVd9HwB3P3Zv1rax3VNA6pr8uv7RlGgS\ncqnMnYgsvscO9dPxri/NeU7nB25dotGIiMh8KHIsIiIiIhJVbOR4YsKjrvmSyPFU8AjuYI0vlNuy\nKZU8W9fm0dq+Hl8gNzo8lrUd7/dSaY1xIV/fkQNZW1uV/whfduEuAHLj6bpnOw8CMNwbI8er02K9\n6hr/XJLLpWV6VdVxo464cHByPEWoR8Z8sV1tg5ec6xsbydqOxs08LrxsJwA3NaQnfe8Dd/kYGImP\naROQujVpwxKRpWRmBvwa8CvADqAb+BzwO3Nc8zPAvweuBuqAfcAdwB+FEMbLnL8TeBfwSmA90At8\nDXhvCOGpGed+EnhDHMutwJuBC4F/DSHsOvVnKiIiZ5uKnRyLyIp2O/BW4AjwP4FJ4EeAl+CFXSZK\nTzazTwBvAg4CnwX6gJcCvw+80sxeFUKYKjn/NcA/AtXAF4E9wBbgx4BbzeyWEMJDZcb1J8CNwJeA\nLwPTZc55HjN7cJamnSe7VkREVp6KnRxPjcXoa/p9icXKaLl83Oij+1DW1hxzhvM1Hk1tqEtl1AoT\nHmmervZc5Y4152Vtl6/233+ttZ7Te2QgbbLR1eMR3ZYm77OtvT5rGxmNEeZcivKOTvix3n7fzGNq\nNAXDNm/eAcDGju0APLbn0axt38FOAGpWeeR56+aOrO1VbR7tvi9/t4/prqfT/V4YbBM548zs5fjE\neC9wfQihJx7/HeAbwEZgf8n5b8Qnxp8Dfi6EMFrSdhvwHjwK/SfxWDvwN8AIcFMI4YmS8y8H7gf+\nArimzPCuAa4OIexbnGcrIiJnG+Uci8hSe1N8fF9xYgwQQhgDfrvM+W8DpoBfLJ0YR7+Pp2T8XMmx\nXwDagPeUTozjPR4D/hy42swuLXOvP1zoxDiEcG25f8CTC+lHRERWhoqNHIvIilWM2N5Vpu1eSlIZ\nzKwBuBLoAn7dSsvPJOPAJSXfvyw+XhkjyzNdFB8vAZ6Y0fbtuQYuIiKVr2Inx5OxbNvkREpdzMdF\ncFblKRMnhgezttFnPd2gKviCtfGJVJOtutbTFQ51e7rDxVvTQr7Ltni6Q1evt333yc6sbe0aT9W4\n/BI/v1Dyi72z0/9qXFOdSqv19nkaRl2Tp19cclFKWbzo0qsACNW+gO/gkWNZ25Fj/vWmIU/3yOfT\nHwRO9PlzrF7rpeM2bk+LAo8d60VkGbTGx2MzG0IIU2bWVXKoHTBgLZ4+MR/F7SPffJLzyq1IPVrm\nmIiInEOUViEiS61Y3Hv9zAYzqwLWlDn34RCCzfWvzDVXnuSaT5UZWyhzTEREziEVGzmeNl+IN01a\nkFeY8AV1dfhmG0OjqRza0IBHchvNfzdWN6UNO5pbPNB10VZfDPeaF784a6uLG4JU5TxC3d6YrhsY\n83s/e9ADYW2NaZGfFfx3+dpVKZLbOOb3Pn+bR6M3bduetVXFfnv6PUVzb2dKZxwb8ij5XXfdA0BT\nY5onHO/x9Mne/ucAaG1JYxgZVyk3WRYP4akVNwPPzmh7BZAvfhNCGDKzx4HLzGxVaY7yHO4Hfhyv\nOvHdxRnyqbl8cysPapMPEZGziiLHIrLUPhkff8fMVhUPmlkd8P4y538IL+/2CTNrm9loZu1mVlp5\n4q/wUm/vMbPry5yfM7Ndpz58ERGpZBUbORaRlSmEcJ+ZfQT4j8BjZvYZUp3jXrz2cen5nzCza4Ff\nBfaa2b8AzwGrgPOAm/AJ8Vvi+d1m9hN46bf7zexrwON4ysRWfMHeanwjERERkeep2MnxdMwsmC5Z\n8MaUpy1MTHi6w/hYyT4D054eMZnzc1pz6ffm9117AwA3XfUKANY0ph/bM09+D4DewSG/fjylatQH\nD8zvaNsEQKGkrvBATN9oaG7JjrVu8KBYXaPfe3S0P2trnvTUjs6jvl5o377nsrYNbZ6iuf/EHgC6\njx9PTzmu+68e9bSMppI/FtTXam4gy+ZtwNN4feJfJu2Q927g0ZknhxB+zcy+gk+Avw8v1daDT5L/\nCPjrGed/zcyuAN4JfD+eYjEBHAa+jm8kIiIi8gIVOzkWkZUrhBCAj8Z/M3XMcs0/A/+8gHt0Av9h\nnue+EXjjfPsWEZHKVbGT49HJYqnUFDnOx0V6/XHnusnptHDN8h7JbW/0RWrXbb4sa/vB62/y65t9\n8dzjzzyetXUejH8BLnhE9vqLLszaNmzd4k1eRY0HHky71faP+bjW1aRFcdM5X4cUqvwxX5N21Osd\n9Cjyo7u/E59D2tX2ggu8bGvtKj82Hnf0A+jq8pJ03Qf9WA2lTrozroiIiMg5RQvyRERERESiio0c\nj096fm99TSpbumH1OgBWNXuO7sFDqd5/KPiP4totvmHHVdu2ZW2PPu1l0x598jEARkfS5iEbmzxP\n+Py1nlfctG5t1vZkTx8A37vfr3v22T1Z2+Y1HlVe3dOdHatt8CjyeMx/zqeqa/TGDUie29cJwJrV\n2SJ/OrZv9ec64FHi3pISdceOeP7x+Lj/HLrHUt7zBOk8EREREVHkWEREREQko8mxiIiIiEhUsWkV\nYcoX27WV7EC3bYsvlmtp8ZSEicm0IK1x0peq1TR7asM/PfKtrK3/xDEApvK+oG/ntouztvM3bAZg\nssYX0X215LojMW1jZNjTF5qa0wK7gKc39A6mDb8mBjx1Yv9z/nj9i6/K2saCL8ibnvKSbNff8KKs\nranRV/wNFfy5Hj7Wm7UNHRvw66r9unFLn4faml6wn4KIiIjIOU2RYxERERGRqGIjx3W1vpptw5oN\n2bHqGo+wfjeWYnti3zPp/BhZzR/bB8CLOs5P1zX7dW31vmFHY0Mqv/b44AkAxoMvePv2U2nRXXtD\nfTzfP4O0NDRkbW31zQCMjqVFcbuf3gvA2tbVABw6lDYKy1X7hh0tjR7ttZpUru1Il0eoq803Ctl/\nKC3ym5j0CHptQ4yMp+A1zY1pPCIiIiKiyLGIiIiISKZiI8dNdf7U6upTdHR8wkudDfQeBGBwOOX7\njtR5SHVy2COtF1xwSda2rtmjtl3HvTRb3aqprC2MeE7v/Q/7NtKTYymPubvf7zdS69tU11U1pwFu\n9ij0c0/uzw5NBh/zlS+7GoATgykC3H3Uc5S3NHhU+cAzKUI9ETyKvGX9Bf48R0rGl/fPP431/hx2\nnr8la+vvHkBEREREEkWORUREREQiTY5FRERERKKKTauoqfIFaIMlu8W1Vflitm0bzgPg+EB/1tY1\n6OfFjfU4dCClO6y/zEu3NTZ5KsS3H3o89RlTLppbGwFo35xSJ4aOe0m1mmlP2bDeNJZvH30YgE0b\nt2fHfvCHXwrARLWXhRvttqztuc4nAGitvRyADVvTyrqebh/0+KR/1mmoTrsC1hQ85aIWT7WYmEr/\nyQu5WkREREQkUeRYRFYMM+sws2Bmn5zn+W+M579xEcewK/Z522L1KSIiZ4+KjRzXVnsEd2J0NDs2\nVe+bf2zZ6JHjA93PZW3dQ4MArGv36PCq1pqsrW/UF+5V5b08XI2lCHDnYV/ct36dl37bsfNlaQwv\n8qjtwWc7Aeh5Ym8a4IBHdy+8cUd2qK7dx3xkr4+rtztFtl90nUeYt6zbBDy/DNve53zjkergiwG3\nr0sbn6xp8Oe874SXhfvOIw+mPi9Km5mIiIiISAVPjkXknPA54H7gyMlOFBERmY+KnRyH6cb4mKK8\n+497RNZyvuXz6ubVWdu21X5efdyc48jA0azt6OBhAJpa1gJQuypFbW0glnezWO7tUF/Wlm/yY93D\nnr3SN13y4673yPSe59J9jvR79HrHFt+4pDHmMQPUt3ikectaH8OR51KZt/bmNQBs3uybgBzpXpW1\n1Y57bvJUlUeV21elXOUXXZ42OhE5G4UQ+oH+k564TB471E/Hu740a3vnB25dwtGIiMh8KOdYRFYk\nM9tpZp83sx4zGzaze83s1TPOKZtzbGad8V+LmX0ofj1ZmkdsZuvN7C/N7JiZjZrZI2b2hqV5diIi\nslJVbORYRM5q5wHfAr4H/BmwEXgd8BUz+9kQwt/No48a4OvAKuCrwACwD8DM1gDfBM4H7o3/NgIf\nj+eKiMg5qmInx0cOdQGwdkNddqxvwtMS++r9aRdyqVRaU7OnIhSmCwD09qTd86ZjObSRcU+9aKxK\nJdDa6zylYWPbegAO7N2dtfUMjwHQ3es70dVMFbI282ptdD/0SHbs4ksv8r42+4K67oGUOnHeau9/\nzZaNAORy6T/d4IiPq6bJn0OuNqVOjPR3xb63AnCw+0DWNhbGEFmhbgI+GEL4jeIBM/soPmH+uJl9\nJYRwsi0eNwJPADeHEIZntP1XfGJ8ewjh7WXuMW9m9uAsTTsX0o+IiKwMSqsQkZWoH/i90gMhhAeA\nO4A24Efn2c87Zk6Mzawa+DlgELhtlnuIiMg5qmIjx90DXmKtpSWVK+vY4mXQJnMeCZ6cmsraamp8\n8Vs+59Hd5v5Uyq1nMJ436dflLf3Y1jd7RHdixNuOHE+L5ofHvYzcxKhfX9+YFtht3+AbktSkIC+X\nXLgOABv1iPHoQG/WNjXpEeOuGAluW58W3bV0e5T7uQO+cHBwIEWoR+ImKFVNfqPJkuc1NDqIyAr1\nUAih3Av0TuANwNXAp07Sxxjw3TLHdwINwD1xQd9s95iXEMK15Y7HiPI18+1HRERWBkWORWQlOjbL\n8WJ5l9Z59HE8hBDKHC9ee7J7iIjIOahiI8cNbXEL5ok0/9+2zjf/ePr4Y34gN5211df5+dNxC+bV\nranMW2HSN/8IeHS4oX5d1nbpRVcA8Ow+3+BjcDCVjmtq8Xznlhrvc9qqs7apKv+6taQsXG1VIZ7v\n3zdu3Zi1dcUc6N4YTe7YflHWNlzwANvAkRMANNe1ZG0TcbOQo8f9+uHh9JynRlNetch83joJAAAg\nAElEQVQKs36W4xvi43zKt5WbGJdee7J7iIjIOUiRYxFZia4xs+Yyx3fFx4dPo+8ngRHgKjMrF4He\nVeaYiIicIyo2ciwiZ7VW4L8ApdUqrsMX0vXjO+OdkhDCpJndAbwZX5BXWq2ieI9FcfnmVh7URh8i\nImeVip0cN7d4akHfiZQ+eOiwp0OM93r6wmR1SjFobvKybmHcUyeYTAvXGmub/FCYAGBLywVZ2/i0\n/+V2aNyrSm1a25S1He/2dIemek/ZGB4ez9pqd/iCujUbtmTHBse9tNrB477L3oZt6a+7tdU+5p6+\n4wDsezYF/evzPobjcTHgmlUpHeOCnZcB8L2nPJWkr+tE1rZ69RpEVqi7gX9nZi8B7iPVOc4BvzyP\nMm4n827glcCvxwlxsc7x64AvA//2NPsXEZGzVMVOjkXkrLYPeAvwgfhYCzwE/F4I4V9Ot/MQQpeZ\n3YDXO/5h4DrgKeBXgE4WZ3LcsXv3bq69tmwxCxERmcPu3bsBOpbj3lZ+MbeIiJwOMxsH8sCjyz0W\nkVkUN6p5cllHIVLelcB0CKH2pGcuMkWORUTOjMdg9jrIIsutuLujXqOyEs2x++gZp2oVIiIiIiKR\nJsciIiIiIpEmxyIiIiIikSbHIiIiIiKRJsciIiIiIpFKuYmIiIiIRIoci4iIiIhEmhyLiIiIiESa\nHIuIiIiIRJoci4iIiIhEmhyLiIiIiESaHIuIiIiIRJoci4iIiIhEmhyLiIiIiESaHIuIzIOZbTGz\nT5jZYTMbN7NOM7vdzNqXox+RmRbjtRWvCbP8O3omxy+Vzcx+wsw+Ymb3mNlAfE399Sn2dUbfR7VD\nnojISZjZDuCbwDrgC8CTwPXALcBTwA0hhO6l6kdkpkV8jXYCbcDtZZqHQggfXKwxy7nFzB4BrgSG\ngIPATuCOEMLrF9jPGX8frTqdi0VEzhEfw9+I3xpC+EjxoJl9CHg78D7gLUvYj8hMi/na6gsh3Lbo\nI5Rz3dvxSfEe4GbgG6fYzxl/H1XkWERkDjFKsQfoBHaEEAolbc3AEcCAdSGE4TPdj8hMi/naipFj\nQggdZ2i4IpjZLnxyvKDI8VK9jyrnWERkbrfEx6+WvhEDhBAGgfuABuClS9SPyEyL/dqqNbPXm9m7\nzextZnaLmeUXcbwip2pJ3kc1ORYRmdvF8fHpWdqfiY8XLVE/IjMt9mtrA/Bp/M/TtwNfB54xs5tP\neYQii2NJ3kc1ORYRmVtrfOyfpb14vG2J+hGZaTFfW38FvBKfIDcCLwL+DOgAvmJmV576MEVO25K8\nj2pBnoiIiAAQQnjvjEOPAW8xsyHgHcBtwI8u9bhElpIixyIicytGIlpnaS8e71uifkRmWorX1sfj\n402n0YfI6VqS91FNjkVE5vZUfJwth+3C+DhbDtxi9yMy01K8tk7Ex8bT6EPkdC3J+6gmxyIicyvW\n4ny1mT3vPTOWDroBGAHuX6J+RGZaitdWcfX/s6fRh8jpWpL3UU2ORUTmEELYC3wVX5D0azOa34tH\n0j5drKlpZtVmtjPW4zzlfkTma7Feo2Z2iZm9IDJsZh3AR+O3p7Tdr8hCLPf7qDYBERE5iTLble4G\nXoLX3HwaeHlxu9I4kdgH7J+5kcJC+hFZiMV4jZrZbfiiu7uB/cAgsAO4FagDvgz8aAhhYgmeklQY\nM3st8Nr47Qbg+/G/RNwTj3WFEN4Zz+1gGd9HNTkWEZkHM9sK/B7wGmA1vhPT54D3hhB6S87rYJY3\n9YX0I7JQp/sajXWM3wJcTSrl1gc8gtc9/nTQpEFOUfzw9Z45Tslej8v9PqrJsYiIiIhIpJxjERER\nEZFIk2MRERERkUiT4wUwsxD/dSz3WERERERk8WlyLCIiIiISaXIsIiIiIhJpciwiIiIiEmlyLCIi\nIiISaXJcwsxyZvYfzexRMxs1sxNm9kUze9k8rl1rZu83s++Z2ZCZDZvZY2b2PjNbdZJrLzezT5jZ\nPjMbM7M+M7vPzN5iZtVlzu8oLg6M37/UzD5jZkfMbNrMbj/1n4KIiIjIuatquQewUphZFfAZ4Efi\noSn85/NDwGvM7HVzXPsKfAvD4iR4AigAl8V/P29mrwohPFXm2v8A/Anpg8oQ0AS8PP57nZndGkIY\nmeXer8P3uq8C+oHp+T5nEREREXk+RY6T38InxgXgN4DWEEI7cD7w/4BPlLvIzLYDX8Qnxn8KXAjU\n49tuvgj4KrAV+Eczy8+49rXAR4Bh4DeBtSGEZqAB3xLxGWAX8OE5xv0X+MT8vBBCW7xWkWMRERGR\nU6DtowEza8T35W7G9+W+bUZ7LfAQcGk8dF4IoTO2/TXwc8AHQgi/XabvGuA7wBXAT4YQPhOP54G9\nwHbgNSGEfylz7Q7gu0ANsC2EcCQe78D3HAe4D7gphFA4tWcvIiIiIkWKHLtX4xPjccpEaUMI48AH\nZx43swbgJ/Fo84fKdRxCmMDTNQBeVdK0C58YP1ZuYhyv3Qvcj6dM7Jpl7H+sibGIiIjI4lDOsbsm\nPj4SQuif5Zy7yhy7Fo/qBuB7ZjZb//XxcWvJsZfHxwvN7OgcY2stc22pb81xrYiIiIgsgCbHbm18\nPDzHOYfKHNsYHw1YP4/7NJS5tvYUri11Yh7XioiIiMg8aHJ8eoppKf1xMdypXPuFEMJrT3UAIQRV\npxARERFZJMo5dsXo66Y5zinXdiw+tphZa5n2uRSv3bbA60RERETkDNHk2D0UH68ys5ZZzrm5zLEH\n8HrIhpdeW4hirvAVZrZ5gdeKiIiIyBmgybH7KjCA5/++bWZjLMf2jpnHQwiDwGfjt79nZs2z3cDM\nqsysqeTQ14ADQB74o7kGZ2btJ3sCIiIiInL6NDkGQgjDwB/Gb99jZv/JzOohqyn8OWavFvEuoAe4\nCPimmb2muOWzuZ1m9hvAU8B1JfecBP4DXuniZ8zs82Z2VbHdzGrittB/TKppLCIiIiJnkDYBiWbZ\nPnoIaItfv44UJc42AYnXvhj4PCkveRKPRDfjpd6KdoUQnlcSzszeBHy85LzR+K8VjyoDEEKwkms6\niBPm0uMiIiIicnoUOY5CCFPAjwNvxXelmwKmgS8BN4cQ/nGOa78D7MS3oP4maVI9gucl//fYxwtq\nJYcQ/gq4GN/y+fF4zxagG7gTeE9sFxEREZEzTJFjEREREZFIkWMRERERkUiTYxERERGRSJNjERH5\n/+3de7BdV30f8O9v7/O+L0m2ZBlhkHEAKyV1QUxIAwF7aEkmThoItEmBFkHDxC2ER0NmCJAiO+OE\nIRnGGVwG0gQMDk07baCZ8GjoYFww1E0iQahBhgAWAdsy1uM+znO/fv3j99tnbV/u1fP6Ps79fmY0\n+2qvtdde+9wzR+v89FtrERGR4+CYiIiIiMhxcExERERE5Dg4JiIiIiJyHBwTERERETkOjomIiIiI\nHAfHRERERESOg2MiIiIiIlfb6A4QEU0iEXkAwCyA4xvcFSKirWg/gEVVvXq9bzyxg+PfuuXfKADU\nGu3xOU0TAECrFQMAGs36uCyOH/tSnD59avzz/MJpu75QAEBv0A8VvYnCX8ooikObRQ4AmGlZH6bn\npsJlXq9IsvG5vBhZv2rW1qA/GpelRQEAyNTKslzDc+W539v+3m6GZxmOrI1BYtf3+uF+w8za+G8f\n+ayAiNbabLvd3nXgwIFdG90RIqKt5tixYxgMBhty74kdHD984rsAgGESzrWbNgacnvIRrYQxYRzb\nyLLwAW2RF+OyCOJldk68jp20Q7NR92NoU3IfhPurnCbDcVlStl+EQS7E2lUfJEd5Oi5qiPVP6+rH\nkBGTjrLHPE8Uhz6UA+7yTLtZGbyH7wZEm4aIHAcAVd2/sT25ZMcPHDiw68iRIxvdDyKiLefgwYM4\nevTo8Y24N3OOiYiIiIjcxEaOiYg22n0PLmD/Wz+50d0gom3q+Ltu3OgubEkTOziuNSz9QLKQYytl\nGoUn5yZ5SI+IPLthpmP5wUUe0g+WFiznpRnZy7VjpjMu66ulPsxMtwAAnU7IKx507bp0ZHW6C0vj\nsszzfceJwgDqLWu/6fnPNa0E9tXSMFK/H+qhf7l4WeapGhKeORP1OvbsiYZUjXqjASIiIiIKmFZB\nROtOzOtF5GsiMhSRB0XkdhGZO8s1/1JEPici837NMRF5h4g0V6l/rYjcISLfE5FERB4Rkf8sIk9f\noe4dIqIi8hQR+TUR+aqIDETk7jV8bCIi2gImN3Jc9+hrPUSHU1+toje0CGsRgq/IRlY265HfnTtC\nBHhxfgEAENfsu8TMXGtcFnvzUy3797ndDKtjLM1bpFg8ypto6Msos5/bndBWmlp0N/MI8HQ7/HrS\noU2sW+r27Lla4XtNs2WR7HJFi7IdAIg82p3HVlaZ/odGc2J//bT53QbgDQAeBvCHAFIAvwDgOQAa\nAJJqZRH5IIBXA/g+gD8DMA/gJwD8NoAXisg/VdWsUv9nAHwMtp7MXwD4FoAnAvhFADeKyA2qenSF\nfv0BgJ8C8EkAnwKQr1DnMURktRl3157rWiIi2nw4OiKidSUiPwkbGH8bwI+r6mk//3YAnwNwJYDv\nVuofgg2MPw7gFao6qJQdBvBOAK+DDWwhIjsB/CmAPoDnq+rXK/WfAeBeAH8E4FkrdO9ZAJ6pqg+s\nzdMSEdFWM7GD4zLVeDgIObaFR45rqUVRWzMh57bwaO2pUxYl3nPZ5eOyqY5FZpd6Fgke5b1xWb1p\nEePWlC1lOtueHpc9kp0AAEjH1kyLpkOUOBeLBGcSwtdZ5v2rWeR3finEedMlqz8c2bgg7oTr6nWL\ncquHwtNKnjXKaLXnJUeVHOcs2Zj1A2nbe7Ufby0HxgCgqkMR+U3YALnqjQAyAK+pDozdbwN4PYBX\nwAfHAP41gB0AXl8dGPs97hOR/wTgTSLyo8vLAbz7QgfGqnpwpfMeUV5pAE5ERJvYxA6OiWjTKgeM\n/3uFsntQSWUQkQ6A6wCchA1oV2pvBOBA5e//2I/XeWR5uaf58QCA5YPjvzpbx4mIaPJxcExE662c\ndPfI8gJVzUTkZOXUTtgeNrth6RPn4zI/vvYc9aZXOHfiPO9BREQTamIHx5qVu9mFne4KXw4tgqUf\ntKPKxDrfIW/xtKVOREV4aa7Ysw8A8IDvdKVFmCvUrltahWR23H3ZFeOy2Rn7tzf1HeuKJGw7HdUt\n1aLXC2kfubc7U7N0j2Fle7+RLwcXRw0/hrQK9ewL8WXbYg3PnKe2K1+eW6pFHlWWb9NzzjUiejws\n+PEKAN+pFohIDcDlsIl31bpfVtXzTVEor7lOVb96gX3Tc1chIqJJNrGDYyLatI7CUitegGWDYwDP\nAzD+5qeqXRH5GoB/ICK7qjnKZ3EvgJfCVp240MHxmnrGvjkc4SL8RERbysQPjqfaIVK60PVIrP/T\nWyDkL4raS1FGlU/Nz4/LrnnqU62t6VkAwPxCKBuMLEr70MOPAgD2PWHPuGzvXpvUNz+wyXStygS4\nmod7Ty0ujs9lHuUuF6Qql6MDAJm1yLaq9bnerI/L8qKMANuFWoTn6g3smSXpeY2wJGyrwWWuaUPc\nAeBXALxdRP68slpFC8DvrlD/PQD+GMAHReSQqs5XC311iqsrS7N9CMDbAbxTRP5aVf9qWf0ItorF\n3Wv4TERENCEmfnBMRJuLqn5RRN4L4NcA3Cci/x1hneMzsLWPq/U/KCIHAfw7AN8Wkb8E8PcAdgG4\nGsDzYQPim7z+KRF5GWzpt3tF5LMAvgZLmbgKNmHvMgAtEBERLcPBMRFthDcC+CZsfeJfBXAKNph9\nG4C/XV5ZVV8nIp+GDYD/CWypttOwQfLvAfiTZfU/KyL/EMBbAPw0LMUiAfAQgLtgG4kQERH9kIkd\nHA8TSzWYngo73cWJpR3ENd89r1ZJW/AUi6mdNonuZC/8z+1T61b2pKfYxDx8r5KOkDx2UtvpMyEl\n8mlP/xFr65u2n0GzCNfVfAJgOaEPAKYadT9nZVFl0p1vqIduv1wfOaROFLmlaEQ+CbHXDXOKlkbW\nRsuvT5PhuCyOGDijjaGqCuB2/7Pc/lWu+QSAT1zAPY7D1kA+n7qHABw637aJiGhyMemUiIiIiMhN\nbOR4YckmoFWjwyr2s8R2bNTDpLbM62nNoq/DPCyj9rVjtk+ARBatbXZCNDqPrV7UsAjtKKpEbZds\nst38gh01qexcJx4drkSAp6csityIrQ+FhshxMrBro5pPzIvCdYmHlZtiz5NFYXm4hke9o5ZNJozi\nEDlGPLG/fiIiIqKLwsgxEREREZGb2NBhWubfDkK0Vj03t4gt0lrdiraM4DZ8A45WFKLKC77cWlOs\nbFDZnAN+n3bTvmcUYYlWnHz0jF1/2o6NytJs8LziTENbBaytxNdyK7KwDF250UfskemoHr7XjDyX\nuV6zyPOO6fBcw5F6m3ZstEKecSPidyMiIiKiKo6OiIiIiIgcB8dERERERG5i0yqaNUtvyCsT5Kaa\nlnYQiaUvZFqMy2KfnNby1IR6LaQmlKkWad8mus1VJvktjIZeZvepVSb5nTnVBQAsztvOeK3Kbn2z\nl9mScc3KLnXqE+tS3+luNArLxNWjjrXh7dcraRV1T6toelmjGfre964u+pJz1esE4bUhIiIiIkaO\niYiIiIjGJjZyHHt0OEKIvjZnLFqrhUVmu4P+uKwe+cYgTYvuRpUJeZFPXOt1bXm4fbt2hus84twb\n2cS6uLIpyGLPNuzYuWOP1el3K21aZHtmqj0+p4VFpgcDi0bXi/DrafgSbuXmIbVK1LecV1ce0zRE\nxId9a6vt/WzH1Y1FwpJvRERERMTIMRERERHR2MRGjuGbX6iGpdz6I8/l9QhtIwmR025uUeG0bUud\n7a7tGJflHqXNPFg7v7QwLts5Y/WSoUVoR2los4w+N2Lry5leiOhq4RuKtEKEuu7bOadDizgXlXzp\nWtuXocvtGZJKdLhRq/uz2rluLywPNxpa/U7bvgcNh5XtrvWxW18TERERbXeMHBMREREROQ6OiYiI\niIjcxKZVRLFNrFMJ4/9saCkPI588l2Uh5UJiS0noN3yyXladrGeT2DSyNnuV6/J5S6eY/4GlKDT2\nTY3LypXiitjuN7dnblwWN8uOhrYKn0TYaNmybd1BL/Qh9p3ucqtT5JUUDZ90mKblc1XSJfz5c98d\nsNsLz9XqhMl5RJuBiOwH8ACAD6vqofOofwjAhwC8WlXvWKM+XA/gcwBuVtXDa9EmERFtHYwcExER\nERG5iY0c9/o2qa3eDBPe2h6tLQYWWU0qm4BMNSwqXPfJbUkRoq++yhsyj9aeOjEcl4laNDpWa3zh\nVJiQ12jbpLvZndaAhq4gVZ90V5kUmPsycDVfdg21sGnIsGtlhXoEOQ39y/3HdJh4n8ImIIVPJkw8\nap6MwjN3Ok0QbXEfB3AvgIc3uiNERDQZJnZwTESTT1UXACycs+IGue/BBex/6yc3uhurOv6uGze6\nC0REmw7TKohoUxKRa0Xkf4jIaRHpicg9IvKiZXUOiYh67nH1/HH/Mysi7/GfUxE5XKlzhYj8sYg8\nIiIDEfmKiLxqfZ6OiIg2q4mNHC+csYln9amQYtDu2GS5uG75DYIwGa49ZZPTCljaQZJWJvJ53oI2\nLEUhTcJEtsVTAwDA1JyVzWadcVkdnrbgu9qleVh/uCG+bnHoAorM+tqatvWOk8o6xIuPztt1Nbtu\nWEnHKHwCX03s11lIaDSq271VrK04ZFWgPrG/fZoAVwP4PwD+H4APALgSwC8B+LSIvFxV/+t5tNEA\ncBeAXQA+A2ARNtkPInI5gC8BeAqAe/zPlQDe73WJiGib4vCIiDaj5wP4fVX9jfKEiNwOGzC/X0Q+\nraqL52jjSgBfB/ACVe0tK/sd2MD4NlV98wr3OG8icmSVomsvpB0iItocJnZwHKc+Ea0Xoq/9vp1r\n1OyxUw2R3GFmPxceWa3uHbfUtehws2kT5Hbunh2XDZYsgpv79nlZHqK2O2Z2+32srIZwvxos+hw3\nKr+CutVr+STCtBJWjuYs6p37uaFULoutrdlWGwBweiGMGZKsnKRn1zXaYZJfs/Iz0SazAOCW6glV\n/RsR+SiAVwF4CYAPn0c7v758YCwidQCvALAE4PBZ7kFERNsQc46JaDM6qqpLK5y/24/PPI82hgC+\nusL5awF0AHzFJ/Stdo/zoqoHV/oD4P4LaYeIiDaHiY0ct1r2aFkc8oPj1MKt/YFFgtWXOQOAYc8i\nrE3PS44kvDTDgZVFhZ2LRoNx2aiMOI8s1vyt+flx2cmT9vNVP7oPADB1ZfguUvN84m5lObmmrxk3\nzGypuFxC/Hp62vKK54cWBEtH4VnLtOrpjl3fHYRnHvnmH7navevNUJajEn4m2lweWeX8CT/OrVJe\n9QNV1RXOl9ee6x5ERLQNMXJMRJvRFauc3+vH81m+baWBcfXac92DiIi2IQ6OiWgzepaIzKxw/no/\nfvkS2r4fQB/APxKRlSLQ169wjoiItomJTauY2WOT5lTC+H/KlzVLznQBAJKHtALxCXKtjk2GKzSk\nH+zaPQ0AiDNbYu30w/3KnewlzFOb8BZLuO7kaavXePAkAOBHdu8KV/lcuN78mfE5bUw/ps+jrLqb\nXc3bL58nlBW+1FzuKR6NysZ3zcL6k3l6RVS5LhlUcjOINpc5AP8BQHW1imfDJtItwHbGuyiqmvqk\nu9fCJuRVV6so77EmnrFvDke40QYR0ZYysYNjItrSPg/gV0TkOQC+iLDOcQTgV89jGbdzeRuAFwJ4\nkw+Iy3WOfwnApwD8s0tsn4iItqiJHRx3OhY+zSpph52mLXVWTrAbDSuRWV8qDbFHgJNQdtXOHQCA\n0z+wc4N++Hc59swUqVuEtjNdH5cNRnbvhZMWoV14NEyw23uVvfRTlQmDmttEvyS3NnKEEHDmE/fK\nWLdUJvINE2t/6Lt6pMOwZNxSz6Lk5cYnDQ3Lt2l1RxCizeUBADcBeJcfmwCOArhFVf/yUhtX1ZMi\n8lzYesc/D+DZAL4B4N8COA4OjomItq2JHRwT0dajqseBxyyj8gvnqH8HgDtWOL//PO51AsBrVinm\nUi5ERNvUxA6OC99eudEMkdx0ZOeyNP+h+pnn92ZDK1s8EbZnPg2Lti6dsSXWikoucO4R3KywaG2t\nCG3HkZV1u7b82sJ8mF+050kWqZ7tTI/PDVOrp761dFKEf5/nR3Zv8U1G6nH41eWZ9XVx5BHkblhq\nrrdkec+tKcvBTmohkl5E4RmJiIiIiKtVEBERERGNcXBMREREROQmNq1i5JPUmpUnzDwlofDMgnY7\nTHhT3/0u69tx1A0pDacXra3R0Ca3RZXUiZpPdEtSu643CCkNu+bs3Oxemwh4+b7wXaTvy6hlw2x8\nLvfl5KRmxygLk/W6vuRbLS2Xa2uF5/JUiXm/d5xXdtZTTysp7N5ZZak5ycK9iYiIiIiRYyIiIiKi\nsYmNHC/4RLRaZc55p2XfBWbbFsmNK5P1yshvOm9R2GIUNshoTnsktmmNZYvhO0Xc8CXcfOcNlRCN\n7ey0c5c9wSbDxe0QtV0qN+AoQlutuvWr5xMHl5aWQltd+znS3C8Lv7o0sXOpzxMc9sNSbrXEo9EN\n61dUCaWvNDGRiIiIaDtj5JiIiIiIyHFwTERERETkJjatoiGW0pCnYfzfsKwFSMPSI7qDkDqRWRYG\nkvmhnwgpB4XYz6pDL6rkaiSWhtFpe1pGZdM5VUtpmPZsiraG62Jfpzit5H0UPiFv4dQ8AGDRU0MA\nYMYn3e1s2vPMa1ivOPUJeImnY1R3/qsNyvvZuVojXNeIJ/bXT0RERHRRGDkmIiIiInITGzq84opd\nAIAkCdHhGL4jXN0eu1GEpdyGp61eb2DR2lxCRDcaWWS27sHkbiU8XPPIbxxZRLZyGVqRf/cY+a52\njRAJzqXwOuFX0PXJdtO+lFuz3RiXDXzS3UzZfmUZtmbd63nEuBoR7sU2OS9L7dmjXuh73JrYXz8R\nERHRRWHkmIiIiIjITWzocGbaosIL/XR8LvHvArnnENfjsJRbBg8LdywKW69EgDOPFMdJmUMcvlOo\nWGS21bGXstPpjMvaNbsu8et7w5DH3IVFflvaG5+bblt/Ln/iDrsumxuXLfQ9Kpxa3vNUHp4r71u7\nrWm796gSvva9TZDU7Ic8CX1Y6oUl34iIiIiIkWMiIiIiojEOjoloUxGRN4jI10VkICIqIm/a6D4R\nEdH2MbFpFZpZ2kGRhaXLer4EWxz70mz5cFzWnLUyyS11orqz3lLX/pIklgox0wnpGL6pHXbvbgEA\npjqtcVnuKRBJbNdHRZgM14rsPv1umDCY9i3For7bUjumpmfHZW3f1W/pUUuFOLUU0ioGPf/Zd/Dr\nTIeJhnN1u0/mO/cV7fB6DIdhUh/RZiAivwzgDwB8GcBtAEYA7t3QThER0bYysYNjItqSfq48qupD\nG9qTNXDfgwvY/9ZPAgCOv+vGDe4NERGdj4kdHKcji9pqHiagpblFTesetY3a4fGnfB6dDOy6RhSW\nUct8qbQa7PrYo8sA0OxY+3Ozdk6iEHLue5A29k1HEIeo7cijyqNaiELnHlh+dGEJADBTjTS3p6zN\n1KK9p/vhuYaeHDPn0fKpWuh73rB+pWrXzVWiyu00RLmJNoknAMAkDIyJiGhrYs4xEW04ETksIgrg\nBv+7ln8qf79bRPaKyB+JyIMikovIoUobV4rIfxSR4yKSiMijIvIxETm4yj3nROQ2Efm+iAxF5H4R\n+fci8hS/3x3r8OhERLTJTGzkOPdNMoo8RF/VN+XIPQJcVLZgHvoGHFkZ5M1CPvKUr+tWu2oGAJAu\nhbJa03N6fWm1QT/kEPf8q8dOX0ZNJdyv75tyoBGivK2OtZ8MLHJ8Mgn3qfu1Ud2e6/JdIerbT61/\nl8OetQjpyOhn1p+Rbx/dzqqvx8T++mnruduPhwA8GcDNK9TZBcs/7gL4GIACwNWr5OoAAAhJSURB\nVCMAICJXA7gHFnm+C8CfArgKwD8HcKOIvFRVP1E2JCItr/csWH7zRwHMAXg7gJ9a0ycjIqIthaMj\nItpwqno3gLtF5HoAT1bVwytU+zEAdwJ4jaoun036ftjA+B2qemt5UkTeB+DzAD4sIk9W1a4X/QZs\nYPxfALxcVcsI9a0Ajl5I30XkyCpF115IO0REtDkwrYKItooEwFuWD4xF5IkAXgTg7wG8u1qmql+C\nRZF3AfjFStGrYJHn3ywHxl7/e7BVMoiIaJua2Mhx4ikUBbRy1lMKPHUiz8KktoZPYssjT68YhZ3r\ndsX2MjXrdv1UexDuM/IJcl07ait834h917zCJ9aNKpMDy83ypN8P3fNJdola+6NamPinQ2ujTK/Y\nNR3SKqYiW+YtKmyZt8VToX9LnuUx8jSTXjeU1eOQ0kG0BRxX1R+scP6ZfvyCqqYrlN8F4JVe7yMi\nMgvgGgDfU9XjK9S/50I6paqr5TQfgUWniYhoC2HkmIi2ihOrnC/3WX94lfLy/A4/lguIP7JK/dXO\nExHRNjCxkeOlvk1miyoT8sqnTfxUhBCZbXl0OBX7viCV5dA0tuXWWmLLoEVJJRrdt2htoz4NAOhK\neElzDw/3Rqm3HS4r58UN58MEvm5mUV2ZsjakHZZdi73zC+IbmAxDxHnHVMPr+OTAWujfQq/n98u9\nTohed+oJiLYQXeX8gh/3rlJ+5bJ6i368YpX6q50nIqJtYGIHx0S0bXzZj88TkdoKk/Vu8ONRAFDV\nRRH5DoD9IrJ/hdSK561Vx56xbw5HuPkHEdGWwrQKItrSVPX7AP4XgP0A3lQtE5HnAHg5gDMAPl4p\n+gjs8+93RUQq9a9a3gYREW0vExs5HvYsRSHPQ+pA5BPcothSC2qV7wYtn+DWUl/TuB52rkt88eMF\nn8u2mISy1DMzOnX7YZCFVI3yX1wROxe3w/0aPnEvTUPaR6NmE+vqZb1a+PUkvrtfUfh1g5BWMYjt\nGafrtk5yJGHSXdPTMKD+7JUd/FINKRZEW9xNAL4I4PdE5EUA/gZhneMCwKtVdalS/90AXgzglwE8\nXUQ+A8td/hewpd9ejPEMXiIi2k4mdnBMRNuHqn5HRJ4N4B0AfhbA9bDc4v8J4FZV/etl9QcicgOA\nWwC8DMCbATwA4HcAfAE2OF7Epdl/7NgxHDy44mIWRER0FseOHQPsfwTXnVSW+CQi2vZE5LUA/hDA\nTar6gUtoZwQgBvC3a9U3ojVWblRz/4b2gmhl1wHIVbV5zpprjJFjItqWROQJqvrQsnNPAvBbADIA\nf3GJt7gPWH0dZKKNVu7uyPcobUZn2X30ccfBMRFtV38mInUARwDMw/777ucAdGA75z10lmuJiGhC\ncXBMRNvVnQD+FYCXwibjdQH8XwC3q+rHNrJjRES0cTg4JqJtSVXfB+B9G90PIiLaXLjOMRERERGR\n4+CYiIiIiMhxKTciIiIiIsfIMRERERGR4+CYiIiIiMhxcExERERE5Dg4JiIiIiJyHBwTERERETkO\njomIiIiIHAfHRERERESOg2MiovMgIk8UkQ+KyEMiMhKR4yJym4js3Ih2iJZbi/eWX6Or/DnxePaf\nJpuIvExE3isiXxCRRX9P/clFtvW4fo5yExAionMQkWsAfAnAHgB/DuB+AD8O4AYA3wDwXFU9tV7t\nEC23hu/R4wB2ALhtheKuqv7+WvWZthcR+QqA6wB0AXwfwLUAPqqqr7zAdh73z9HapVxMRLRNvA/2\nQfwGVX1veVJE3gPgzQBuBXDTOrZDtNxavrfmVfXwmveQtrs3wwbF3wLwAgCfu8h2HvfPUUaOiYjO\nwqMU3wJwHMA1qlpUymYAPAxAAOxR1d7j3Q7Rcmv53vLIMVR1/+PUXSKIyPWwwfEFRY7X63OUOcdE\nRGd3gx8/U/0gBgBVXQLwRQAdAD+xTu0QLbfW762miLxSRN4mIm8UkRtEJF7D/hJdrHX5HOXgmIjo\n7J7ux2+uUv53fnzaOrVDtNxav7f2ArgT9t/TtwG4C8DficgLLrqHRGtjXT5HOTgmIjq7OT8urFJe\nnt+xTu0QLbeW760PAXghbIA8BeDHAHwAwH4AnxaR6y6+m0SXbF0+Rzkhj4iIiAAAqnrzslP3AbhJ\nRLoAfh3AYQAvWe9+Ea0nRo6JiM6ujETMrVJenp9fp3aIlluP99b7/fj8S2iD6FKty+coB8dERGf3\nDT+ulsP2VD+ulgO31u0QLbce761H/Th1CW0QXap1+Rzl4JiI6OzKtThfJCKP+cz0pYOeC6AP4N51\naodoufV4b5Wz/79zCW0QXap1+Rzl4JiI6CxU9dsAPgObkPS6ZcU3wyJpd5ZraopIXUSu9fU4L7od\novO1Vu9RETkgIj8UGRaR/QBu979e1Ha/RBdioz9HuQkIEdE5rLBd6TEAz4GtuflNAD9ZblfqA4kH\nAHx3+UYKF9IO0YVYi/eoiByGTbr7PIDvAlgCcA2AGwG0AHwKwEtUNVmHR6IJIyIvBvBi/+teAD8N\n+5+IL/i5k6r6Fq+7Hxv4OcrBMRHReRCRqwDcAuBnAFwG24np4wBuVtUzlXr7scqH+oW0Q3ShLvU9\n6usY3wTgmQhLuc0D+Aps3eM7lYMGukj+5eudZ6kyfj9u9OcoB8dERERERI45x0REREREjoNjIiIi\nIiLHwTERERERkePgmIiIiIjIcXBMREREROQ4OCYiIiIichwcExERERE5Do6JiIiIiBwHx0RERERE\njoNjIiIiIiLHwTERERERkePgmIiIiIjIcXBMREREROQ4OCYiIiIichwcExERERE5Do6JiIiIiBwH\nx0RERERE7v8D9f/3NqVaAzUAAAAASUVORK5CYII=\n",
      "text/plain": [
       "<matplotlib.figure.Figure at 0xcb16470>"
      ]
     },
     "metadata": {
      "image/png": {
       "height": 319,
       "width": 355
      }
     },
     "output_type": "display_data"
    }
   ],
=======
   "execution_count": null,
   "metadata": {},
   "outputs": [],
>>>>>>> upstream/master
   "source": [
    "\"\"\"\n",
    "DON'T MODIFY ANYTHING IN THIS CELL\n",
    "\"\"\"\n",
    "%matplotlib inline\n",
    "%config InlineBackend.figure_format = 'retina'\n",
    "\n",
    "import tensorflow as tf\n",
    "import pickle\n",
    "import helper\n",
    "import random\n",
    "\n",
    "# Set batch size if not already set\n",
    "try:\n",
    "    if batch_size:\n",
    "        pass\n",
    "except NameError:\n",
    "    batch_size = 64\n",
    "\n",
    "save_model_path = './image_classification'\n",
    "n_samples = 4\n",
    "top_n_predictions = 3\n",
    "\n",
    "def test_model():\n",
    "    \"\"\"\n",
    "    Test the saved model against the test dataset\n",
    "    \"\"\"\n",
    "\n",
    "    test_features, test_labels = pickle.load(open('preprocess_test.p', mode='rb'))\n",
    "    loaded_graph = tf.Graph()\n",
    "\n",
    "    with tf.Session(graph=loaded_graph) as sess:\n",
    "        # Load model\n",
    "        loader = tf.train.import_meta_graph(save_model_path + '.meta')\n",
    "        loader.restore(sess, save_model_path)\n",
    "\n",
    "        # Get Tensors from loaded model\n",
    "        loaded_x = loaded_graph.get_tensor_by_name('x:0')\n",
    "        loaded_y = loaded_graph.get_tensor_by_name('y:0')\n",
    "        loaded_keep_prob = loaded_graph.get_tensor_by_name('keep_prob:0')\n",
    "        loaded_logits = loaded_graph.get_tensor_by_name('logits:0')\n",
    "        loaded_acc = loaded_graph.get_tensor_by_name('accuracy:0')\n",
    "        \n",
    "        # Get accuracy in batches for memory limitations\n",
    "        test_batch_acc_total = 0\n",
    "        test_batch_count = 0\n",
    "        \n",
    "        for test_feature_batch, test_label_batch in helper.batch_features_labels(test_features, test_labels, batch_size):\n",
    "            test_batch_acc_total += sess.run(\n",
    "                loaded_acc,\n",
    "                feed_dict={loaded_x: test_feature_batch, loaded_y: test_label_batch, loaded_keep_prob: 1.0})\n",
    "            test_batch_count += 1\n",
    "\n",
    "        print('Testing Accuracy: {}\\n'.format(test_batch_acc_total/test_batch_count))\n",
    "\n",
    "        # Print Random Samples\n",
    "        random_test_features, random_test_labels = tuple(zip(*random.sample(list(zip(test_features, test_labels)), n_samples)))\n",
    "        random_test_predictions = sess.run(\n",
    "            tf.nn.top_k(tf.nn.softmax(loaded_logits), top_n_predictions),\n",
    "            feed_dict={loaded_x: random_test_features, loaded_y: random_test_labels, loaded_keep_prob: 1.0})\n",
    "        helper.display_image_predictions(random_test_features, random_test_labels, random_test_predictions)\n",
    "\n",
    "\n",
    "test_model()"
   ]
  },
  {
   "cell_type": "markdown",
   "metadata": {},
   "source": [
    "## Why 50-80% Accuracy?\n",
    "You might be wondering why you can't get an accuracy any higher. First things first, 50% isn't bad for a simple CNN.  Pure guessing would get you 10% accuracy. However, you might notice people are getting scores [well above 80%](http://rodrigob.github.io/are_we_there_yet/build/classification_datasets_results.html#43494641522d3130).  That's because we haven't taught you all there is to know about neural networks. We still need to cover a few more techniques.\n",
    "## Submitting This Project\n",
    "When submitting this project, make sure to run all the cells before saving the notebook.  Save the notebook file as \"dlnd_image_classification.ipynb\" and save it as a HTML file under \"File\" -> \"Download as\".  Include the \"helper.py\" and \"problem_unittests.py\" files in your submission."
   ]
  }
 ],
 "metadata": {
  "kernelspec": {
   "display_name": "Python 3",
   "language": "python",
   "name": "python3"
  },
  "language_info": {
   "codemirror_mode": {
    "name": "ipython",
    "version": 3
   },
   "file_extension": ".py",
   "mimetype": "text/x-python",
   "name": "python",
   "nbconvert_exporter": "python",
   "pygments_lexer": "ipython3",
   "version": "3.6.0"
  }
 },
 "nbformat": 4,
 "nbformat_minor": 1
}
