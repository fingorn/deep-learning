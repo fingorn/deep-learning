{
 "cells": [
  {
   "cell_type": "markdown",
   "metadata": {},
   "source": [
    "# Deep Convolutional GANs\n",
    "\n",
    "In this notebook, you'll build a GAN using convolutional layers in the generator and discriminator. This is called a Deep Convolutional GAN, or DCGAN for short. The DCGAN architecture was first explored last year and has seen impressive results in generating new images, you can read the [original paper here](https://arxiv.org/pdf/1511.06434.pdf).\n",
    "\n",
    "You'll be training DCGAN on the [Street View House Numbers](http://ufldl.stanford.edu/housenumbers/) (SVHN) dataset. These are color images of house numbers collected from Google street view. SVHN images are in color and much more variable than MNIST. \n",
    "\n",
    "![SVHN Examples](assets/SVHN_examples.png)\n",
    "\n",
    "So, we'll need a deeper and more powerful network. This is accomplished through using convolutional layers in the discriminator and generator. It's also necessary to use batch normalization to get the convolutional networks to train. The only real changes compared to what [you saw previously](https://github.com/udacity/deep-learning/tree/master/gan_mnist) are in the generator and discriminator, otherwise the rest of the implementation is the same."
   ]
  },
  {
   "cell_type": "code",
   "execution_count": 1,
   "metadata": {
    "collapsed": true
   },
   "outputs": [],
   "source": [
    "%matplotlib inline\n",
    "\n",
    "import pickle as pkl\n",
    "\n",
    "import matplotlib.pyplot as plt\n",
    "import numpy as np\n",
    "from scipy.io import loadmat\n",
    "import tensorflow as tf"
   ]
  },
  {
   "cell_type": "code",
   "execution_count": 2,
   "metadata": {
    "collapsed": false
   },
   "outputs": [
    {
     "name": "stderr",
     "output_type": "stream",
     "text": [
      "A subdirectory or file data already exists.\n"
     ]
    }
   ],
   "source": [
    "!mkdir data"
   ]
  },
  {
   "cell_type": "markdown",
   "metadata": {},
   "source": [
    "## Getting the data\n",
    "\n",
    "Here you can download the SVHN dataset. Run the cell above and it'll download to your machine."
   ]
  },
  {
   "cell_type": "code",
   "execution_count": 3,
   "metadata": {
    "collapsed": false
   },
   "outputs": [
    {
     "name": "stderr",
     "output_type": "stream",
     "text": [
      "SVHN Training Set: 182MB [03:49, 792KB/s]                                      \n",
      "SVHN Testing Set: 64.3MB [00:53, 1.21MB/s]                                     \n"
     ]
    }
   ],
   "source": [
    "from urllib.request import urlretrieve\n",
    "from os.path import isfile, isdir\n",
    "from tqdm import tqdm\n",
    "\n",
    "data_dir = 'data/'\n",
    "\n",
    "if not isdir(data_dir):\n",
    "    raise Exception(\"Data directory doesn't exist!\")\n",
    "\n",
    "class DLProgress(tqdm):\n",
    "    last_block = 0\n",
    "\n",
    "    def hook(self, block_num=1, block_size=1, total_size=None):\n",
    "        self.total = total_size\n",
    "        self.update((block_num - self.last_block) * block_size)\n",
    "        self.last_block = block_num\n",
    "\n",
    "if not isfile(data_dir + \"train_32x32.mat\"):\n",
    "    with DLProgress(unit='B', unit_scale=True, miniters=1, desc='SVHN Training Set') as pbar:\n",
    "        urlretrieve(\n",
    "            'http://ufldl.stanford.edu/housenumbers/train_32x32.mat',\n",
    "            data_dir + 'train_32x32.mat',\n",
    "            pbar.hook)\n",
    "\n",
    "if not isfile(data_dir + \"test_32x32.mat\"):\n",
    "    with DLProgress(unit='B', unit_scale=True, miniters=1, desc='SVHN Testing Set') as pbar:\n",
    "        urlretrieve(\n",
    "            'http://ufldl.stanford.edu/housenumbers/test_32x32.mat',\n",
    "            data_dir + 'test_32x32.mat',\n",
    "            pbar.hook)"
   ]
  },
  {
   "cell_type": "markdown",
   "metadata": {},
   "source": [
    "These SVHN files are `.mat` files typically used with Matlab. However, we can load them in with `scipy.io.loadmat` which we imported above."
   ]
  },
  {
   "cell_type": "code",
   "execution_count": 4,
   "metadata": {
    "collapsed": true
   },
   "outputs": [],
   "source": [
    "trainset = loadmat(data_dir + 'train_32x32.mat')\n",
    "testset = loadmat(data_dir + 'test_32x32.mat')"
   ]
  },
  {
   "cell_type": "code",
   "execution_count": 9,
   "metadata": {
    "collapsed": true
   },
   "outputs": [],
   "source": [
    "from IPython.core.interactiveshell import InteractiveShell\n",
    "InteractiveShell.ast_node_interactivity = 'all'"
   ]
  },
  {
   "cell_type": "markdown",
   "metadata": {},
   "source": [
    "Here I'm showing a small sample of the images. Each of these is 32x32 with 3 color channels (RGB). These are the real images we'll pass to the discriminator and what the generator will eventually fake."
   ]
  },
  {
   "cell_type": "code",
   "execution_count": 12,
   "metadata": {
    "collapsed": true
   },
   "outputs": [
    {
     "name": "stdout",
     "output_type": "stream",
     "text": [
      "Help on function subplots in module matplotlib.pyplot:\n",
      "\n",
      "subplots(nrows=1, ncols=1, sharex=False, sharey=False, squeeze=True, subplot_kw=None, gridspec_kw=None, **fig_kw)\n",
      "    Create a figure and a set of subplots\n",
      "    \n",
      "    This utility wrapper makes it convenient to create common layouts of\n",
      "    subplots, including the enclosing figure object, in a single call.\n",
      "    \n",
      "    Parameters\n",
      "    ----------\n",
      "    nrows, ncols : int, optional, default: 1\n",
      "        Number of rows/columns of the subplot grid.\n",
      "    \n",
      "    sharex, sharey : bool or {'none', 'all', 'row', 'col'}, default: False\n",
      "        Controls sharing of properties among x (`sharex`) or y (`sharey`)\n",
      "        axes:\n",
      "    \n",
      "            - True or 'all': x- or y-axis will be shared among all\n",
      "              subplots.\n",
      "            - False or 'none': each subplot x- or y-axis will be\n",
      "              independent.\n",
      "            - 'row': each subplot row will share an x- or y-axis.\n",
      "            - 'col': each subplot column will share an x- or y-axis.\n",
      "    \n",
      "        When subplots have a shared x-axis along a column, only the x tick\n",
      "        labels of the bottom subplot are visible.  Similarly, when subplots\n",
      "        have a shared y-axis along a row, only the y tick labels of the first\n",
      "        column subplot are visible.\n",
      "    \n",
      "    squeeze : bool, optional, default: True\n",
      "        - If True, extra dimensions are squeezed out from the returned Axes\n",
      "          object:\n",
      "    \n",
      "            - if only one subplot is constructed (nrows=ncols=1), the\n",
      "              resulting single Axes object is returned as a scalar.\n",
      "            - for Nx1 or 1xN subplots, the returned object is a 1D numpy\n",
      "              object array of Axes objects are returned as numpy 1D arrays.\n",
      "            - for NxM, subplots with N>1 and M>1 are returned as a 2D arrays.\n",
      "    \n",
      "        - If False, no squeezing at all is done: the returned Axes object is\n",
      "          always a 2D array containing Axes instances, even if it ends up\n",
      "          being 1x1.\n",
      "    \n",
      "    subplot_kw : dict, optional\n",
      "        Dict with keywords passed to the\n",
      "        :meth:`~matplotlib.figure.Figure.add_subplot` call used to create each\n",
      "        subplot.\n",
      "    \n",
      "    gridspec_kw : dict, optional\n",
      "        Dict with keywords passed to the\n",
      "        :class:`~matplotlib.gridspec.GridSpec` constructor used to create the\n",
      "        grid the subplots are placed on.\n",
      "    \n",
      "    **fig_kw :\n",
      "        All additional keyword arguments are passed to the :func:`figure` call.\n",
      "    \n",
      "    Returns\n",
      "    -------\n",
      "    fig : :class:`matplotlib.figure.Figure` object\n",
      "    \n",
      "    ax : Axes object or array of Axes objects.\n",
      "    \n",
      "        ax can be either a single :class:`matplotlib.axes.Axes` object or an\n",
      "        array of Axes objects if more than one subplot was created.  The\n",
      "        dimensions of the resulting array can be controlled with the squeeze\n",
      "        keyword, see above.\n",
      "    \n",
      "    Examples\n",
      "    --------\n",
      "    First create some toy data:\n",
      "    \n",
      "    >>> x = np.linspace(0, 2*np.pi, 400)\n",
      "    >>> y = np.sin(x**2)\n",
      "    \n",
      "    Creates just a figure and only one subplot\n",
      "    \n",
      "    >>> fig, ax = plt.subplots()\n",
      "    >>> ax.plot(x, y)\n",
      "    >>> ax.set_title('Simple plot')\n",
      "    \n",
      "    Creates two subplots and unpacks the output array immediately\n",
      "    \n",
      "    >>> f, (ax1, ax2) = plt.subplots(1, 2, sharey=True)\n",
      "    >>> ax1.plot(x, y)\n",
      "    >>> ax1.set_title('Sharing Y axis')\n",
      "    >>> ax2.scatter(x, y)\n",
      "    \n",
      "    Creates four polar axes, and accesses them through the returned array\n",
      "    \n",
      "    >>> fig, axes = plt.subplots(2, 2, subplot_kw=dict(polar=True))\n",
      "    >>> axes[0, 0].plot(x, y)\n",
      "    >>> axes[1, 1].scatter(x, y)\n",
      "    \n",
      "    Share a X axis with each column of subplots\n",
      "    \n",
      "    >>> plt.subplots(2, 2, sharex='col')\n",
      "    \n",
      "    Share a Y axis with each row of subplots\n",
      "    \n",
      "    >>> plt.subplots(2, 2, sharey='row')\n",
      "    \n",
      "    Share both X and Y axes with all subplots\n",
      "    \n",
      "    >>> plt.subplots(2, 2, sharex='all', sharey='all')\n",
      "    \n",
      "    Note that this is the same as\n",
      "    \n",
      "    >>> plt.subplots(2, 2, sharex=True, sharey=True)\n",
      "    \n",
      "    See Also\n",
      "    --------\n",
      "    figure\n",
      "    subplot\n",
      "\n"
     ]
    }
   ],
   "source": [
    "help(plt.subplots)"
   ]
  },
  {
   "cell_type": "code",
   "execution_count": 25,
   "metadata": {
    "collapsed": true
   },
   "outputs": [
    {
     "data": {
      "text/plain": [
       "(<matplotlib.figure.Figure at 0x1af867f0>,\n",
       " array([[<matplotlib.axes._subplots.AxesSubplot object at 0x0000000012916D30>,\n",
       "         <matplotlib.axes._subplots.AxesSubplot object at 0x000000001AFD6A58>],\n",
       "        [<matplotlib.axes._subplots.AxesSubplot object at 0x000000001B021E48>,\n",
       "         <matplotlib.axes._subplots.AxesSubplot object at 0x000000001B064550>]], dtype=object))"
      ]
     },
     "execution_count": 25,
     "metadata": {},
     "output_type": "execute_result"
    },
    {
     "data": {
      "image/png": "[encoded data removed]",
      "text/plain": [
       "<matplotlib.figure.Figure at 0x1af867f0>"
      ]
     },
     "metadata": {},
     "output_type": "display_data"
    }
   ],
   "source": [
    "plt.subplots(2,2,sharex='col')"
   ]
  },
  {
   "cell_type": "code",
   "execution_count": 33,
   "metadata": {
    "collapsed": true
   },
   "outputs": [
    {
     "data": {
      "text/plain": [
       "(<matplotlib.figure.Figure at 0x1c8dd208>,\n",
       " array([[<matplotlib.axes._subplots.AxesSubplot object at 0x000000001C828DA0>,\n",
       "         <matplotlib.axes._subplots.AxesSubplot object at 0x000000001C975C18>],\n",
       "        [<matplotlib.axes._subplots.AxesSubplot object at 0x000000002A0A2DD8>,\n",
       "         <matplotlib.axes._subplots.AxesSubplot object at 0x000000002A0E64E0>]], dtype=object))"
      ]
     },
     "execution_count": 33,
     "metadata": {},
     "output_type": "execute_result"
    },
    {
     "data": {
      "image/png": "[encoded data removed]",
      "text/plain": [
       "<matplotlib.figure.Figure at 0x1c8dd208>"
      ]
     },
     "metadata": {},
     "output_type": "display_data"
    }
   ],
   "source": [
    "plt.subplots(2,2,sharey=True)"
   ]
  },
  {
   "cell_type": "code",
   "execution_count": 23,
   "metadata": {
    "collapsed": false,
    "scrolled": true
   },
   "outputs": [
    {
     "data": {
      "text/plain": [
       "[<matplotlib.lines.Line2D at 0x130994e0>]"
      ]
     },
     "execution_count": 23,
     "metadata": {},
     "output_type": "execute_result"
    },
    {
     "data": {
      "text/plain": [
       "<matplotlib.text.Text at 0x13109438>"
      ]
     },
     "execution_count": 23,
     "metadata": {},
     "output_type": "execute_result"
    },
    {
     "data": {
      "text/plain": [
       "[<matplotlib.lines.Line2D at 0x13129d30>]"
      ]
     },
     "execution_count": 23,
     "metadata": {},
     "output_type": "execute_result"
    },
    {
     "data": {
      "text/plain": [
       "<matplotlib.text.Text at 0x1315da90>"
      ]
     },
     "execution_count": 23,
     "metadata": {},
     "output_type": "execute_result"
    },
    {
     "data": {
      "text/plain": [
       "<matplotlib.collections.PathCollection at 0x131c9be0>"
      ]
     },
     "execution_count": 23,
     "metadata": {},
     "output_type": "execute_result"
    },
    {
     "data": {
      "text/plain": [
       "[<matplotlib.lines.Line2D at 0x131c9320>]"
      ]
     },
     "execution_count": 23,
     "metadata": {},
     "output_type": "execute_result"
    },
    {
     "data": {
      "text/plain": [
       "<matplotlib.collections.PathCollection at 0x74782b0>"
      ]
     },
     "execution_count": 23,
     "metadata": {},
     "output_type": "execute_result"
    },
    {
     "data": {
      "text/plain": [
       "(<matplotlib.figure.Figure at 0x74787f0>,\n",
       " array([[<matplotlib.axes._subplots.AxesSubplot object at 0x00000000128C41D0>,\n",
       "         <matplotlib.axes._subplots.AxesSubplot object at 0x000000001304DEF0>],\n",
       "        [<matplotlib.axes._subplots.AxesSubplot object at 0x0000000012DB5F98>,\n",
       "         <matplotlib.axes._subplots.AxesSubplot object at 0x0000000012DA4DD8>]], dtype=object))"
      ]
     },
     "execution_count": 23,
     "metadata": {},
     "output_type": "execute_result"
    },
    {
     "data": {
      "image/png": "[encoded data removed]",
      "text/plain": [
       "<matplotlib.figure.Figure at 0x130995f8>"
      ]
     },
     "metadata": {},
     "output_type": "display_data"
    },
    {
     "data": {
      "image/png": "[encoded data removed]",
      "text/plain": [
       "<matplotlib.figure.Figure at 0x131307b8>"
      ]
     },
     "metadata": {},
     "output_type": "display_data"
    },
    {
     "data": {
      "image/png": "[encoded data removed]",
      "text/plain": [
       "<matplotlib.figure.Figure at 0x131b91d0>"
      ]
     },
     "metadata": {},
     "output_type": "display_data"
    },
    {
     "data": {
      "image/png": "[encoded data removed]",
      "text/plain": [
       "<matplotlib.figure.Figure at 0x74787f0>"
      ]
     },
     "metadata": {},
     "output_type": "display_data"
    }
   ],
   "source": [
    "t_x = np.linspace(-5, 5, 20)\n",
    "y = 1 / ( 1 + np.exp(-(t_x)))\n",
    "\n",
    "fig, ax = plt.subplots()\n",
    "ax.plot(t_x,y)\n",
    "ax.set_title('Sigmoid')\n",
    "\n",
    "#Create two subplots\n",
    "f , (ax1,ax2 ) = plt.subplots(nrows=1,ncols=2,sharey=True)\n",
    "ax1.plot(t_x,y)\n",
    "ax1.set_title(\"Sharing Y Axis\")\n",
    "ax2.scatter(t_x,y)\n",
    "\n",
    "#Create four polar axes, access through returned array\n",
    "fig,axes = plt.subplots(nrows=2,ncols =2, subplot_kw=dict(polar=True) )\n",
    "axes[0, 0].plot(t_x,y)\n",
    "axes[0, 1].scatter(t_x,y)\n",
    "plt.subplots(2,2)"
   ]
  },
  {
   "cell_type": "code",
   "execution_count": 36,
   "metadata": {
    "collapsed": true
   },
   "outputs": [
    {
     "data": {
      "text/plain": [
       "(32, 32, 3, 73257)"
      ]
     },
     "execution_count": 36,
     "metadata": {},
     "output_type": "execute_result"
    },
    {
     "data": {
      "text/plain": [
       "(32, 32, 3)"
      ]
     },
     "execution_count": 36,
     "metadata": {},
     "output_type": "execute_result"
    },
    {
     "data": {
      "text/plain": [
       "<matplotlib.image.AxesImage at 0x2a1fa438>"
      ]
     },
     "execution_count": 36,
     "metadata": {},
     "output_type": "execute_result"
    },
    {
     "data": {
      "image/png": "[encoded data removed]",
      "text/plain": [
       "<matplotlib.figure.Figure at 0x2a1faac8>"
      ]
     },
     "metadata": {},
     "output_type": "display_data"
    }
   ],
   "source": [
    "trainset['X'].shape\n",
    "example = trainset['X'][:,:,:,0]\n",
    "example.shape\n",
    "fig,axes = plt.subplots()\n",
    "axes.imshow(example)\n"
   ]
  },
  {
   "cell_type": "code",
   "execution_count": 53,
   "metadata": {
    "collapsed": false
   },
   "outputs": [
    {
     "data": {
      "text/plain": [
       "(16,)"
      ]
     },
     "execution_count": 53,
     "metadata": {},
     "output_type": "execute_result"
    }
   ],
   "source": [
    "axes.flatten()."
   ]
  },
  {
   "cell_type": "code",
   "execution_count": 56,
   "metadata": {
    "collapsed": false
   },
   "outputs": [
    {
     "name": "stdout",
     "output_type": "stream",
     "text": [
      "Help on method imshow in module matplotlib.axes._axes:\n",
      "\n",
      "imshow(X, cmap=None, norm=None, aspect=None, interpolation=None, alpha=None, vmin=None, vmax=None, origin=None, extent=None, shape=None, filternorm=1, filterrad=4.0, imlim=None, resample=None, url=None, *, data=None, **kwargs) method of matplotlib.axes._subplots.AxesSubplot instance\n",
      "    Display an image on the axes.\n",
      "    \n",
      "    Parameters\n",
      "    ----------\n",
      "    X : array_like, shape (n, m) or (n, m, 3) or (n, m, 4)\n",
      "        Display the image in `X` to current axes.  `X` may be an\n",
      "        array or a PIL image. If `X` is an array, it\n",
      "        can have the following shapes and types:\n",
      "    \n",
      "        - MxN -- values to be mapped (float or int)\n",
      "        - MxNx3 -- RGB (float or uint8)\n",
      "        - MxNx4 -- RGBA (float or uint8)\n",
      "    \n",
      "        The value for each component of MxNx3 and MxNx4 float arrays\n",
      "        should be in the range 0.0 to 1.0. MxN arrays are mapped\n",
      "        to colors based on the `norm` (mapping scalar to scalar)\n",
      "        and the `cmap` (mapping the normed scalar to a color).\n",
      "    \n",
      "    cmap : `~matplotlib.colors.Colormap`, optional, default: None\n",
      "        If None, default to rc `image.cmap` value. `cmap` is ignored\n",
      "        if `X` is 3-D, directly specifying RGB(A) values.\n",
      "    \n",
      "    aspect : ['auto' | 'equal' | scalar], optional, default: None\n",
      "        If 'auto', changes the image aspect ratio to match that of the\n",
      "        axes.\n",
      "    \n",
      "        If 'equal', and `extent` is None, changes the axes aspect ratio to\n",
      "        match that of the image. If `extent` is not `None`, the axes\n",
      "        aspect ratio is changed to match that of the extent.\n",
      "    \n",
      "        If None, default to rc ``image.aspect`` value.\n",
      "    \n",
      "    interpolation : string, optional, default: None\n",
      "        Acceptable values are 'none', 'nearest', 'bilinear', 'bicubic',\n",
      "        'spline16', 'spline36', 'hanning', 'hamming', 'hermite', 'kaiser',\n",
      "        'quadric', 'catrom', 'gaussian', 'bessel', 'mitchell', 'sinc',\n",
      "        'lanczos'\n",
      "    \n",
      "        If `interpolation` is None, default to rc `image.interpolation`.\n",
      "        See also the `filternorm` and `filterrad` parameters.\n",
      "        If `interpolation` is 'none', then no interpolation is performed\n",
      "        on the Agg, ps and pdf backends. Other backends will fall back to\n",
      "        'nearest'.\n",
      "    \n",
      "    norm : `~matplotlib.colors.Normalize`, optional, default: None\n",
      "        A `~matplotlib.colors.Normalize` instance is used to scale\n",
      "        a 2-D float `X` input to the (0, 1) range for input to the\n",
      "        `cmap`. If `norm` is None, use the default func:`normalize`.\n",
      "        If `norm` is an instance of `~matplotlib.colors.NoNorm`,\n",
      "        `X` must be an array of integers that index directly into\n",
      "        the lookup table of the `cmap`.\n",
      "    \n",
      "    vmin, vmax : scalar, optional, default: None\n",
      "        `vmin` and `vmax` are used in conjunction with norm to normalize\n",
      "        luminance data.  Note if you pass a `norm` instance, your\n",
      "        settings for `vmin` and `vmax` will be ignored.\n",
      "    \n",
      "    alpha : scalar, optional, default: None\n",
      "        The alpha blending value, between 0 (transparent) and 1 (opaque)\n",
      "    \n",
      "    origin : ['upper' | 'lower'], optional, default: None\n",
      "        Place the [0,0] index of the array in the upper left or lower left\n",
      "        corner of the axes. If None, default to rc `image.origin`.\n",
      "    \n",
      "    extent : scalars (left, right, bottom, top), optional, default: None\n",
      "        The location, in data-coordinates, of the lower-left and\n",
      "        upper-right corners. If `None`, the image is positioned such that\n",
      "        the pixel centers fall on zero-based (row, column) indices.\n",
      "    \n",
      "    shape : scalars (columns, rows), optional, default: None\n",
      "        For raw buffer images\n",
      "    \n",
      "    filternorm : scalar, optional, default: 1\n",
      "        A parameter for the antigrain image resize filter.  From the\n",
      "        antigrain documentation, if `filternorm` = 1, the filter\n",
      "        normalizes integer values and corrects the rounding errors. It\n",
      "        doesn't do anything with the source floating point values, it\n",
      "        corrects only integers according to the rule of 1.0 which means\n",
      "        that any sum of pixel weights must be equal to 1.0.  So, the\n",
      "        filter function must produce a graph of the proper shape.\n",
      "    \n",
      "    filterrad : scalar, optional, default: 4.0\n",
      "        The filter radius for filters that have a radius parameter, i.e.\n",
      "        when interpolation is one of: 'sinc', 'lanczos' or 'blackman'\n",
      "    \n",
      "    Returns\n",
      "    -------\n",
      "    image : `~matplotlib.image.AxesImage`\n",
      "    \n",
      "    Other parameters\n",
      "    ----------------\n",
      "    kwargs : `~matplotlib.artist.Artist` properties.\n",
      "    \n",
      "    See also\n",
      "    --------\n",
      "    matshow : Plot a matrix or an array as an image.\n",
      "    \n",
      "    Notes\n",
      "    -----\n",
      "    Unless *extent* is used, pixel centers will be located at integer\n",
      "    coordinates. In other words: the origin will coincide with the center\n",
      "    of pixel (0, 0).\n",
      "    \n",
      "    Examples\n",
      "    --------\n",
      "    \n",
      "    .. plot:: mpl_examples/pylab_examples/image_demo.py\n",
      "    \n",
      "    .. note::\n",
      "        In addition to the above described arguments, this function can take a\n",
      "        **data** keyword argument. If such a **data** argument is given, the\n",
      "        following arguments are replaced by **data[<arg>]**:\n",
      "    \n",
      "        * All positional and all keyword arguments.\n",
      "\n"
     ]
    }
   ],
   "source": [
    "help(ax.imshow)"
   ]
  },
  {
   "cell_type": "code",
   "execution_count": 60,
   "metadata": {
    "collapsed": false
   },
   "outputs": [
    {
     "data": {
      "text/plain": [
       "<matplotlib.image.AxesImage at 0x2e3b1668>"
      ]
     },
     "execution_count": 60,
     "metadata": {},
     "output_type": "execute_result"
    },
    {
     "data": {
      "text/plain": [
       "<matplotlib.image.AxesImage at 0x2e3eb080>"
      ]
     },
     "execution_count": 60,
     "metadata": {},
     "output_type": "execute_result"
    },
    {
     "data": {
      "text/plain": [
       "<matplotlib.image.AxesImage at 0x2e3ebd68>"
      ]
     },
     "execution_count": 60,
     "metadata": {},
     "output_type": "execute_result"
    },
    {
     "data": {
      "text/plain": [
       "<matplotlib.image.AxesImage at 0x2e3eb748>"
      ]
     },
     "execution_count": 60,
     "metadata": {},
     "output_type": "execute_result"
    },
    {
     "data": {
      "text/plain": [
       "<matplotlib.image.AxesImage at 0x2e34f390>"
      ]
     },
     "execution_count": 60,
     "metadata": {},
     "output_type": "execute_result"
    },
    {
     "data": {
      "text/plain": [
       "<matplotlib.image.AxesImage at 0x2e21ef98>"
      ]
     },
     "execution_count": 60,
     "metadata": {},
     "output_type": "execute_result"
    },
    {
     "data": {
      "text/plain": [
       "<matplotlib.image.AxesImage at 0x2e3fbac8>"
      ]
     },
     "execution_count": 60,
     "metadata": {},
     "output_type": "execute_result"
    },
    {
     "data": {
      "text/plain": [
       "<matplotlib.image.AxesImage at 0x2e3fbb70>"
      ]
     },
     "execution_count": 60,
     "metadata": {},
     "output_type": "execute_result"
    },
    {
     "data": {
      "text/plain": [
       "<matplotlib.image.AxesImage at 0x2e3f26d8>"
      ]
     },
     "execution_count": 60,
     "metadata": {},
     "output_type": "execute_result"
    },
    {
     "data": {
      "text/plain": [
       "<matplotlib.image.AxesImage at 0x2e3f2cc0>"
      ]
     },
     "execution_count": 60,
     "metadata": {},
     "output_type": "execute_result"
    },
    {
     "data": {
      "text/plain": [
       "<matplotlib.image.AxesImage at 0x2e3fe240>"
      ]
     },
     "execution_count": 60,
     "metadata": {},
     "output_type": "execute_result"
    },
    {
     "data": {
      "text/plain": [
       "<matplotlib.image.AxesImage at 0x2e3fe8d0>"
      ]
     },
     "execution_count": 60,
     "metadata": {},
     "output_type": "execute_result"
    },
    {
     "data": {
      "text/plain": [
       "<matplotlib.image.AxesImage at 0x2e3fee48>"
      ]
     },
     "execution_count": 60,
     "metadata": {},
     "output_type": "execute_result"
    },
    {
     "data": {
      "text/plain": [
       "<matplotlib.image.AxesImage at 0x2e40a358>"
      ]
     },
     "execution_count": 60,
     "metadata": {},
     "output_type": "execute_result"
    },
    {
     "data": {
      "text/plain": [
       "<matplotlib.image.AxesImage at 0x2e40aa20>"
      ]
     },
     "execution_count": 60,
     "metadata": {},
     "output_type": "execute_result"
    },
    {
     "data": {
      "text/plain": [
       "<matplotlib.image.AxesImage at 0x2e40ae48>"
      ]
     },
     "execution_count": 60,
     "metadata": {},
     "output_type": "execute_result"
    },
    {
     "data": {
      "image/png": "[encoded data removed]",
      "text/plain": [
       "<matplotlib.figure.Figure at 0x2cd766a0>"
      ]
     },
     "metadata": {},
     "output_type": "display_data"
    }
   ],
   "source": [
    "#Get random indexes from the whole batch\n",
    "idx = np.random.randint(0,trainset['X'].shape[3],16)\n",
    "#Create 4 * 4 subplots\n",
    "fig,axes = plt.subplots(nrows=4,ncols=4, sharex=True,sharey=True,figsize=(8,8))\n",
    "for i, ax in zip(idx, axes.flatten()):\n",
    "    #Show images in each subplot\n",
    "    ax.imshow(trainset['X'][:,:,:,i],aspect='equal')\n",
    "    \n",
    "    #Remove axes\n",
    "    ax.xaxis.set_visible(False)\n",
    "    ax.yaxis.set_visible(False)\n",
    "    \n",
    "#Remove spaces\n",
    "plt.subplots_adjust(wspace=0,hspace=0)\n"
   ]
  },
  {
   "cell_type": "code",
   "execution_count": 61,
   "metadata": {
    "collapsed": true
   },
   "outputs": [
    {
     "data": {
      "text/plain": [
       "<matplotlib.image.AxesImage at 0x2ee54320>"
      ]
     },
     "execution_count": 61,
     "metadata": {},
     "output_type": "execute_result"
    },
    {
     "data": {
      "text/plain": [
       "<matplotlib.image.AxesImage at 0x2ed8d828>"
      ]
     },
     "execution_count": 61,
     "metadata": {},
     "output_type": "execute_result"
    },
    {
     "data": {
      "text/plain": [
       "<matplotlib.image.AxesImage at 0x2edec7b8>"
      ]
     },
     "execution_count": 61,
     "metadata": {},
     "output_type": "execute_result"
    },
    {
     "data": {
      "text/plain": [
       "<matplotlib.image.AxesImage at 0x2edc2940>"
      ]
     },
     "execution_count": 61,
     "metadata": {},
     "output_type": "execute_result"
    },
    {
     "data": {
      "text/plain": [
       "<matplotlib.image.AxesImage at 0x2eca3278>"
      ]
     },
     "execution_count": 61,
     "metadata": {},
     "output_type": "execute_result"
    },
    {
     "data": {
      "text/plain": [
       "<matplotlib.image.AxesImage at 0x2ec170f0>"
      ]
     },
     "execution_count": 61,
     "metadata": {},
     "output_type": "execute_result"
    },
    {
     "data": {
      "text/plain": [
       "<matplotlib.image.AxesImage at 0x2e8f96d8>"
      ]
     },
     "execution_count": 61,
     "metadata": {},
     "output_type": "execute_result"
    },
    {
     "data": {
      "text/plain": [
       "<matplotlib.image.AxesImage at 0x2edec278>"
      ]
     },
     "execution_count": 61,
     "metadata": {},
     "output_type": "execute_result"
    },
    {
     "data": {
      "text/plain": [
       "<matplotlib.image.AxesImage at 0x2ed52c50>"
      ]
     },
     "execution_count": 61,
     "metadata": {},
     "output_type": "execute_result"
    },
    {
     "data": {
      "text/plain": [
       "<matplotlib.image.AxesImage at 0x2eca3358>"
      ]
     },
     "execution_count": 61,
     "metadata": {},
     "output_type": "execute_result"
    },
    {
     "data": {
      "text/plain": [
       "<matplotlib.image.AxesImage at 0x2ebc3f28>"
      ]
     },
     "execution_count": 61,
     "metadata": {},
     "output_type": "execute_result"
    },
    {
     "data": {
      "text/plain": [
       "<matplotlib.image.AxesImage at 0x2ead1c50>"
      ]
     },
     "execution_count": 61,
     "metadata": {},
     "output_type": "execute_result"
    },
    {
     "data": {
      "text/plain": [
       "<matplotlib.image.AxesImage at 0x2ea18630>"
      ]
     },
     "execution_count": 61,
     "metadata": {},
     "output_type": "execute_result"
    },
    {
     "data": {
      "text/plain": [
       "<matplotlib.image.AxesImage at 0x2e9cc390>"
      ]
     },
     "execution_count": 61,
     "metadata": {},
     "output_type": "execute_result"
    },
    {
     "data": {
      "text/plain": [
       "<matplotlib.image.AxesImage at 0x2e867eb8>"
      ]
     },
     "execution_count": 61,
     "metadata": {},
     "output_type": "execute_result"
    },
    {
     "data": {
      "text/plain": [
       "<matplotlib.image.AxesImage at 0x2e8ac470>"
      ]
     },
     "execution_count": 61,
     "metadata": {},
     "output_type": "execute_result"
    },
    {
     "data": {
      "text/plain": [
       "<matplotlib.image.AxesImage at 0x2e86b0b8>"
      ]
     },
     "execution_count": 61,
     "metadata": {},
     "output_type": "execute_result"
    },
    {
     "data": {
      "text/plain": [
       "<matplotlib.image.AxesImage at 0x2e8200b8>"
      ]
     },
     "execution_count": 61,
     "metadata": {},
     "output_type": "execute_result"
    },
    {
     "data": {
      "text/plain": [
       "<matplotlib.image.AxesImage at 0x2e69b208>"
      ]
     },
     "execution_count": 61,
     "metadata": {},
     "output_type": "execute_result"
    },
    {
     "data": {
      "text/plain": [
       "<matplotlib.image.AxesImage at 0x2e522080>"
      ]
     },
     "execution_count": 61,
     "metadata": {},
     "output_type": "execute_result"
    },
    {
     "data": {
      "text/plain": [
       "<matplotlib.image.AxesImage at 0x2e4b0eb8>"
      ]
     },
     "execution_count": 61,
     "metadata": {},
     "output_type": "execute_result"
    },
    {
     "data": {
      "text/plain": [
       "<matplotlib.image.AxesImage at 0x2ec3e208>"
      ]
     },
     "execution_count": 61,
     "metadata": {},
     "output_type": "execute_result"
    },
    {
     "data": {
      "text/plain": [
       "<matplotlib.image.AxesImage at 0x2eb6c7b8>"
      ]
     },
     "execution_count": 61,
     "metadata": {},
     "output_type": "execute_result"
    },
    {
     "data": {
      "text/plain": [
       "<matplotlib.image.AxesImage at 0x2ea4b0f0>"
      ]
     },
     "execution_count": 61,
     "metadata": {},
     "output_type": "execute_result"
    },
    {
     "data": {
      "text/plain": [
       "<matplotlib.image.AxesImage at 0x2e9a39e8>"
      ]
     },
     "execution_count": 61,
     "metadata": {},
     "output_type": "execute_result"
    },
    {
     "data": {
      "text/plain": [
       "<matplotlib.image.AxesImage at 0x2e775400>"
      ]
     },
     "execution_count": 61,
     "metadata": {},
     "output_type": "execute_result"
    },
    {
     "data": {
      "text/plain": [
       "<matplotlib.image.AxesImage at 0x2e60d828>"
      ]
     },
     "execution_count": 61,
     "metadata": {},
     "output_type": "execute_result"
    },
    {
     "data": {
      "text/plain": [
       "<matplotlib.image.AxesImage at 0x2e488278>"
      ]
     },
     "execution_count": 61,
     "metadata": {},
     "output_type": "execute_result"
    },
    {
     "data": {
      "text/plain": [
       "<matplotlib.image.AxesImage at 0x2e4859e8>"
      ]
     },
     "execution_count": 61,
     "metadata": {},
     "output_type": "execute_result"
    },
    {
     "data": {
      "text/plain": [
       "<matplotlib.image.AxesImage at 0x2e6faa90>"
      ]
     },
     "execution_count": 61,
     "metadata": {},
     "output_type": "execute_result"
    },
    {
     "data": {
      "text/plain": [
       "<matplotlib.image.AxesImage at 0x2e5dc6d8>"
      ]
     },
     "execution_count": 61,
     "metadata": {},
     "output_type": "execute_result"
    },
    {
     "data": {
      "text/plain": [
       "<matplotlib.image.AxesImage at 0x2e6a9908>"
      ]
     },
     "execution_count": 61,
     "metadata": {},
     "output_type": "execute_result"
    },
    {
     "data": {
      "text/plain": [
       "<matplotlib.image.AxesImage at 0x2e503240>"
      ]
     },
     "execution_count": 61,
     "metadata": {},
     "output_type": "execute_result"
    },
    {
     "data": {
      "text/plain": [
       "<matplotlib.image.AxesImage at 0x2ec91b38>"
      ]
     },
     "execution_count": 61,
     "metadata": {},
     "output_type": "execute_result"
    },
    {
     "data": {
      "text/plain": [
       "<matplotlib.image.AxesImage at 0x2ec43a90>"
      ]
     },
     "execution_count": 61,
     "metadata": {},
     "output_type": "execute_result"
    },
    {
     "data": {
      "text/plain": [
       "<matplotlib.image.AxesImage at 0x2ebdcbe0>"
      ]
     },
     "execution_count": 61,
     "metadata": {},
     "output_type": "execute_result"
    },
    {
     "data": {
      "image/png": "[encoded data removed]",
      "text/plain": [
       "<matplotlib.figure.Figure at 0x2cd96908>"
      ]
     },
     "metadata": {},
     "output_type": "display_data"
    }
   ],
   "source": [
    "idx = np.random.randint(0, trainset['X'].shape[3], size=36)\n",
    "fig, axes = plt.subplots(6, 6, sharex=True, sharey=True, figsize=(5,5),)\n",
    "for ii, ax in zip(idx, axes.flatten()):\n",
    "    ax.imshow(trainset['X'][:,:,:,ii], aspect='equal')\n",
    "    ax.xaxis.set_visible(False)\n",
    "    ax.yaxis.set_visible(False)\n",
    "plt.subplots_adjust(wspace=0, hspace=0)"
   ]
  },
  {
   "cell_type": "markdown",
   "metadata": {},
   "source": [
    "Here we need to do a bit of preprocessing and getting the images into a form where we can pass batches to the network. First off, we need to rescale the images to a range of -1 to 1, since the output of our generator is also in that range. We also have a set of test and validation images which could be used if we're trying to identify the numbers in the images."
   ]
  },
  {
   "cell_type": "code",
   "execution_count": 128,
   "metadata": {
    "collapsed": true
   },
   "outputs": [
    {
     "data": {
      "text/plain": [
       "array([[ 8, 15, 13,  8],\n",
       "       [11, 18, 11,  8],\n",
       "       [ 7,  2, 17, 11],\n",
       "       [15,  5,  7,  3],\n",
       "       [ 6,  4, 10, 11]])"
      ]
     },
     "execution_count": 128,
     "metadata": {},
     "output_type": "execute_result"
    },
    {
     "data": {
      "text/plain": [
       "(5, 4)"
      ]
     },
     "execution_count": 128,
     "metadata": {},
     "output_type": "execute_result"
    },
    {
     "name": "stdout",
     "output_type": "stream",
     "text": [
      "Taking the max of axis = 0 :\n"
     ]
    },
    {
     "data": {
      "text/plain": [
       "array([15, 18, 17, 11])"
      ]
     },
     "execution_count": 128,
     "metadata": {},
     "output_type": "execute_result"
    },
    {
     "data": {
      "text/plain": [
       "(4,)"
      ]
     },
     "execution_count": 128,
     "metadata": {},
     "output_type": "execute_result"
    },
    {
     "name": "stdout",
     "output_type": "stream",
     "text": [
      "Taking max of axis = 1\n"
     ]
    },
    {
     "data": {
      "text/plain": [
       "array([15, 18, 17, 15, 11])"
      ]
     },
     "execution_count": 128,
     "metadata": {},
     "output_type": "execute_result"
    },
    {
     "data": {
      "text/plain": [
       "(5,)"
      ]
     },
     "execution_count": 128,
     "metadata": {},
     "output_type": "execute_result"
    },
    {
     "data": {
      "text/plain": [
       "array([ 8, 15, 13,  8])"
      ]
     },
     "execution_count": 128,
     "metadata": {},
     "output_type": "execute_result"
    },
    {
     "data": {
      "text/plain": [
       "array([11, 18, 11,  8])"
      ]
     },
     "execution_count": 128,
     "metadata": {},
     "output_type": "execute_result"
    },
    {
     "data": {
      "text/plain": [
       "array([ 7,  2, 17, 11])"
      ]
     },
     "execution_count": 128,
     "metadata": {},
     "output_type": "execute_result"
    }
   ],
   "source": [
    "np.random.seed(2)\n",
    "test_x = np.random.randint(0,20,20)\n",
    "test_x = np.reshape(test_x, [5,4])\n",
    "\n",
    "test_x\n",
    "test_x.shape\n",
    "print(\"Taking the max of axis = 0 :\")\n",
    "max_0 = np.max(test_x, axis = 0)\n",
    "max_0\n",
    "max_0.shape\n",
    "\n",
    "print(\"Taking max of axis = 1\")\n",
    "max_1 = np.max(test_x, axis = 1 )\n",
    "max_1\n",
    "max_1.shape\n",
    "\n",
    "test_x[0,:]\n",
    "test_x[1,:]\n",
    "test_x[2,:]\n",
    "\n"
   ]
  },
  {
   "cell_type": "code",
   "execution_count": 131,
   "metadata": {
    "collapsed": true
   },
   "outputs": [
    {
     "data": {
      "text/plain": [
       "array([ 5, 11, 12,  8,  9, 11,  5, 15,  0, 16,  1, 12,  7, 13,  6, 18, 20,\n",
       "        5, 18, 20, 11, 10, 14, 18])"
      ]
     },
     "execution_count": 131,
     "metadata": {},
     "output_type": "execute_result"
    },
    {
     "data": {
      "text/plain": [
       "array([[[ 5, 11],\n",
       "        [12,  8],\n",
       "        [ 9, 11],\n",
       "        [ 5, 15]],\n",
       "\n",
       "       [[ 0, 16],\n",
       "        [ 1, 12],\n",
       "        [ 7, 13],\n",
       "        [ 6, 18]],\n",
       "\n",
       "       [[20,  5],\n",
       "        [18, 20],\n",
       "        [11, 10],\n",
       "        [14, 18]]])"
      ]
     },
     "execution_count": 131,
     "metadata": {},
     "output_type": "execute_result"
    },
    {
     "data": {
      "text/plain": [
       "array([ 5,  0, 20])"
      ]
     },
     "execution_count": 131,
     "metadata": {},
     "output_type": "execute_result"
    },
    {
     "data": {
      "text/plain": [
       "array([11, 16,  5])"
      ]
     },
     "execution_count": 131,
     "metadata": {},
     "output_type": "execute_result"
    },
    {
     "data": {
      "text/plain": [
       "array([12,  1, 18])"
      ]
     },
     "execution_count": 131,
     "metadata": {},
     "output_type": "execute_result"
    },
    {
     "data": {
      "text/plain": [
       "array([ 8, 12, 20])"
      ]
     },
     "execution_count": 131,
     "metadata": {},
     "output_type": "execute_result"
    },
    {
     "name": "stdout",
     "output_type": "stream",
     "text": [
      "test x[0]\n"
     ]
    },
    {
     "data": {
      "text/plain": [
       "array([[ 5, 11],\n",
       "       [12,  8],\n",
       "       [ 9, 11],\n",
       "       [ 5, 15]])"
      ]
     },
     "execution_count": 131,
     "metadata": {},
     "output_type": "execute_result"
    },
    {
     "data": {
      "text/plain": [
       "array([[ 0, 16],\n",
       "       [ 1, 12],\n",
       "       [ 7, 13],\n",
       "       [ 6, 18]])"
      ]
     },
     "execution_count": 131,
     "metadata": {},
     "output_type": "execute_result"
    },
    {
     "data": {
      "text/plain": [
       "array([[20,  5],\n",
       "       [18, 20],\n",
       "       [11, 10],\n",
       "       [14, 18]])"
      ]
     },
     "execution_count": 131,
     "metadata": {},
     "output_type": "execute_result"
    },
    {
     "data": {
      "text/plain": [
       "array([[20, 16],\n",
       "       [18, 20],\n",
       "       [11, 13],\n",
       "       [14, 18]])"
      ]
     },
     "execution_count": 131,
     "metadata": {},
     "output_type": "execute_result"
    },
    {
     "data": {
      "text/plain": [
       "array([[11, 12, 11, 15],\n",
       "       [16, 12, 13, 18],\n",
       "       [20, 20, 11, 18]])"
      ]
     },
     "execution_count": 131,
     "metadata": {},
     "output_type": "execute_result"
    },
    {
     "data": {
      "text/plain": [
       "array([[ 5, 11],\n",
       "       [ 0, 16],\n",
       "       [20,  5]])"
      ]
     },
     "execution_count": 131,
     "metadata": {},
     "output_type": "execute_result"
    },
    {
     "data": {
      "text/plain": [
       "array([[12,  8],\n",
       "       [ 1, 12],\n",
       "       [18, 20]])"
      ]
     },
     "execution_count": 131,
     "metadata": {},
     "output_type": "execute_result"
    }
   ],
   "source": [
    "np.random.seed(1)\n",
    "test_x = np.random.randint(0,24,24)\n",
    "test_x\n",
    "test_x = np.reshape(test_x,(3,4,2))\n",
    "test_x\n",
    "# np.max(test_x, axis=0)\n",
    "test_x[:,0,0]\n",
    "test_x[:,0,1]\n",
    "test_x[:,1,0]\n",
    "test_x[:,1,1]\n",
    "print(\"test x[0]\")\n",
    "test_x[0,:,:]\n",
    "test_x[1,:,:]\n",
    "test_x[2,:,:]\n",
    "np.max(test_x,axis=0)\n",
    "\n",
    "np.max(test_x, axis=2)\n",
    "\n",
    "test_x[:,0,:]\n",
    "test_x[:,1,:]"
   ]
  },
  {
   "cell_type": "code",
   "execution_count": 145,
   "metadata": {
    "collapsed": true
   },
   "outputs": [
    {
     "data": {
      "text/plain": [
       "array([44, 47, 64, 67, 67,  9, 83, 21, 36, 87, 70, 88, 88, 12, 58, 65, 39,\n",
       "       87, 46, 88, 81, 37, 25, 77])"
      ]
     },
     "execution_count": 145,
     "metadata": {},
     "output_type": "execute_result"
    },
    {
     "data": {
      "text/plain": [
       "array([[[44, 47],\n",
       "        [64, 67],\n",
       "        [67,  9]],\n",
       "\n",
       "       [[83, 21],\n",
       "        [36, 87],\n",
       "        [70, 88]],\n",
       "\n",
       "       [[88, 12],\n",
       "        [58, 65],\n",
       "        [39, 87]],\n",
       "\n",
       "       [[46, 88],\n",
       "        [81, 37],\n",
       "        [25, 77]]])"
      ]
     },
     "execution_count": 145,
     "metadata": {},
     "output_type": "execute_result"
    },
    {
     "name": "stdout",
     "output_type": "stream",
     "text": [
      "max axis 0\n"
     ]
    },
    {
     "data": {
      "text/plain": [
       "array([[88, 88],\n",
       "       [81, 87],\n",
       "       [70, 88]])"
      ]
     },
     "execution_count": 145,
     "metadata": {},
     "output_type": "execute_result"
    },
    {
     "name": "stdout",
     "output_type": "stream",
     "text": [
      "max axis 1\n"
     ]
    },
    {
     "data": {
      "text/plain": [
       "array([[67, 67],\n",
       "       [83, 88],\n",
       "       [88, 87],\n",
       "       [81, 88]])"
      ]
     },
     "execution_count": 145,
     "metadata": {},
     "output_type": "execute_result"
    },
    {
     "name": "stdout",
     "output_type": "stream",
     "text": [
      "Max axis 2\n"
     ]
    },
    {
     "data": {
      "text/plain": [
       "array([[47, 67, 67],\n",
       "       [83, 87, 88],\n",
       "       [88, 65, 87],\n",
       "       [88, 81, 77]])"
      ]
     },
     "execution_count": 145,
     "metadata": {},
     "output_type": "execute_result"
    },
    {
     "data": {
      "text/plain": [
       "array([[44, 64, 67],\n",
       "       [83, 36, 70],\n",
       "       [88, 58, 39],\n",
       "       [46, 81, 25]])"
      ]
     },
     "execution_count": 145,
     "metadata": {},
     "output_type": "execute_result"
    }
   ],
   "source": [
    "np.random.seed(0)\n",
    "test_x = np.random.randint(0,100,24)\n",
    "test_x\n",
    "test_x = np.reshape(test_x, [4,3,2])\n",
    "test_x\n",
    "print(\"max axis 0\")\n",
    "np.max(test_x,axis=0)\n",
    "print(\"max axis 1\")\n",
    "np.max(test_x,axis=1)\n",
    "print(\"Max axis 2\")\n",
    "np.max(test_x,axis=2)\n",
    "test_x[:,:,0]"
   ]
  },
  {
   "cell_type": "code",
   "execution_count": 149,
   "metadata": {
    "collapsed": false
   },
   "outputs": [
    {
     "data": {
      "text/plain": [
       "(32, 32, 3, 100)"
      ]
     },
     "execution_count": 149,
     "metadata": {},
     "output_type": "execute_result"
    },
    {
     "data": {
      "text/plain": [
       "(0, 255)"
      ]
     },
     "execution_count": 149,
     "metadata": {},
     "output_type": "execute_result"
    }
   ],
   "source": [
    "example = trainset['X'][:,:,:,:100]\n",
    "example.shape\n",
    "# np.max(example,axis=(2))\n",
    "# np.max(example,axis=(2)).shape\n",
    "np.min(example),np.max(example)"
   ]
  },
  {
   "cell_type": "code",
   "execution_count": 150,
   "metadata": {
    "collapsed": true
   },
   "outputs": [],
   "source": [
    "def scale(x, feature_range=(-1, 1)):\n",
    "    # scale to (0, 1)\n",
    "    x = ((x - x.min())/(255 - x.min()))\n",
    "    \n",
    "    # scale to feature_range\n",
    "    min, max = feature_range\n",
    "    x = x * (max - min) + min\n",
    "    return x"
   ]
  },
  {
   "cell_type": "code",
   "execution_count": 152,
   "metadata": {
    "collapsed": true
   },
   "outputs": [],
   "source": [
    "class Dataset:\n",
    "    def __init__(self, train, test, val_frac=0.5, shuffle=False, scale_func=None):\n",
    "        split_idx = int(len(test['y'])*(1 - val_frac))\n",
    "        self.test_x, self.valid_x = test['X'][:,:,:,:split_idx], test['X'][:,:,:,split_idx:]\n",
    "        self.test_y, self.valid_y = test['y'][:split_idx], test['y'][split_idx:]\n",
    "        self.train_x, self.train_y = train['X'], train['y']\n",
    "        \n",
    "        self.train_x = np.rollaxis(self.train_x, 3)\n",
    "        self.valid_x = np.rollaxis(self.valid_x, 3)\n",
    "        self.test_x = np.rollaxis(self.test_x, 3)\n",
    "        \n",
    "        if scale_func is None:\n",
    "            self.scaler = scale\n",
    "        else:\n",
    "            self.scaler = scale_func\n",
    "        self.shuffle = shuffle\n",
    "        \n",
    "    def batches(self, batch_size):\n",
    "        if self.shuffle:\n",
    "            idx = np.arange(len(dataset.train_x))\n",
    "            np.random.shuffle(idx)\n",
    "            self.train_x = self.train_x[idx]\n",
    "            self.train_y = self.train_y[idx]\n",
    "        \n",
    "        n_batches = len(self.train_y)//batch_size\n",
    "        for ii in range(0, len(self.train_y), batch_size):\n",
    "            x = self.train_x[ii:ii+batch_size]\n",
    "            y = self.train_y[ii:ii+batch_size]\n",
    "            \n",
    "            yield self.scaler(x), y"
   ]
  },
  {
   "cell_type": "markdown",
   "metadata": {},
   "source": [
    "## Network Inputs\n",
    "\n",
    "Here, just creating some placeholders like normal."
   ]
  },
  {
   "cell_type": "code",
   "execution_count": 151,
   "metadata": {
    "collapsed": true
   },
   "outputs": [],
   "source": [
    "def model_inputs(real_dim, z_dim):\n",
    "    inputs_real = tf.placeholder(tf.float32, (None, *real_dim), name='input_real')\n",
    "    inputs_z = tf.placeholder(tf.float32, (None, z_dim), name='input_z')\n",
    "    \n",
    "    return inputs_real, inputs_z"
   ]
  },
  {
   "cell_type": "markdown",
   "metadata": {},
   "source": [
    "## Generator\n",
    "\n",
    "Here you'll build the generator network. The input will be our noise vector `z` as before. Also as before, the output will be a $tanh$ output, but this time with size 32x32 which is the size of our SVHN images.\n",
    "\n",
    "What's new here is we'll use convolutional layers to create our new images. The first layer is a fully connected layer which is reshaped into a deep and narrow layer, something like 4x4x1024 as in the original DCGAN paper. Then we use batch normalization and a leaky ReLU activation. Next is a transposed convolution where typically you'd halve the depth and double the width and height of the previous layer. Again, we use batch normalization and leaky ReLU. For each of these layers, the general scheme is convolution > batch norm > leaky ReLU.\n",
    "\n",
    "You keep stacking layers up like this until you get the final transposed convolution layer with shape 32x32x3. Below is the archicture used in the original DCGAN paper:\n",
    "\n",
    "![DCGAN Generator](assets/dcgan.png)\n",
    "\n",
    "Note that the final layer here is 64x64x3, while for our SVHN dataset, we only want it to be 32x32x3. \n",
    "\n",
    ">**Exercise:** Build the transposed convolutional network for the generator in the function below. Be sure to use leaky ReLUs on all the layers except for the last tanh layer, as well as batch normalization on all the transposed convolutional layers except the last one."
   ]
  },
  {
   "cell_type": "code",
   "execution_count": 220,
   "metadata": {
    "collapsed": true
   },
   "outputs": [],
   "source": [
    "def generator(z, output_dim, reuse=False, alpha=0.2, training=True):\n",
    "    with tf.variable_scope('generator', reuse=reuse):\n",
    "        # First fully connected layer\n",
    "        x1 = tf.layers.dense(z,4*4*512)\n",
    "        x1 = tf.reshape(x1, (-1,4,4,512))\n",
    "        # 4 x 4 x 512 now\n",
    "\n",
    "        x1 = tf.layers.batch_normalization(x1, training=training)\n",
    "        x1 = tf.maximum(alpha*x1,x1)\n",
    "        \n",
    "        #Deconvo layer2\n",
    "        x2 = tf.layers.conv2d_transpose(x1,256,5,2,padding='same')\n",
    "        x2 = tf.layers.batch_normalization(x2,training=training)\n",
    "        x2 = tf.maximum(alpha*x2,x2)\n",
    "        # 8 x 8 x 256 now because stride = 2\n",
    "        \n",
    "        #Deconvo layer 3\n",
    "        \n",
    "        x3= tf.layers.conv2d_transpose(x2, 128, 5, 2, padding='same')\n",
    "        x3 = tf.layers.batch_normalization(x3,training=training)\n",
    "        x3 = tf.maximum(alpha*x3,x3)\n",
    "        # 16 x16 x 128 now\n",
    "        \n",
    "        \n",
    "        # Output layer, 32x32x3\n",
    "        logits = tf.layers.conv2d_transpose(x3, 3, 5, 2,padding='same')\n",
    "            \n",
    "        out = tf.tanh(logits)\n",
    "        \n",
    "        return out"
   ]
  },
  {
   "cell_type": "markdown",
   "metadata": {},
   "source": [
    "## Discriminator\n",
    "\n",
    "Here you'll build the discriminator. This is basically just a convolutional classifier like you've built before. The input to the discriminator are 32x32x3 tensors/images. You'll want a few convolutional layers, then a fully connected layer for the output. As before, we want a sigmoid output, and you'll need to return the logits as well. For the depths of the convolutional layers I suggest starting with 16, 32, 64 filters in the first layer, then double the depth as you add layers. Note that in the DCGAN paper, they did all the downsampling using only strided convolutional layers with no maxpool layers.\n",
    "\n",
    "You'll also want to use batch normalization with `tf.layers.batch_normalization` on each layer except the first convolutional and output layers. Again, each layer should look something like convolution > batch norm > leaky ReLU.\n",
    "\n",
    "Note: in this project, your batch normalization layers will always use batch statistics. (That is, always set `training` to `True`.) That's because we are only interested in using the discriminator to help train the generator. However, if you wanted to use the discriminator for inference later, then you would need to set the `training` parameter appropriately.\n",
    "\n",
    ">**Exercise:** Build the convolutional network for the discriminator. The input is a 32x32x3 images, the output is a sigmoid plus the logits. Again, use Leaky ReLU activations and batch normalization on all the layers except the first."
   ]
  },
  {
   "cell_type": "code",
   "execution_count": 224,
   "metadata": {
    "collapsed": true
   },
   "outputs": [],
   "source": [
    "def discriminator(x, reuse=False, alpha=0.2):\n",
    "    with tf.variable_scope('discriminator', reuse=reuse):\n",
    "        # Input layer is 32x32x3\n",
    "        x1 = tf.layers.conv2d(x, 64, 5, 2, padding='same')\n",
    "#         x1 = tf.layers.batch_normalization(x1,training=True)\n",
    "        x1 = tf.maximum(alpha*x1,x1)\n",
    "        \n",
    "        #If Padding = 'same', the output shape \n",
    "        # depends only on the stride; 32/2 = 16 for stride=2, conv2d\n",
    "        # if padding = 'valid' ,\n",
    "        # output shape = ( oldwidth - kernel size + 2 * padding ) /2 + 1\n",
    "        \n",
    "        # 16 x 16 x 16 now\n",
    "#         print(x1.get_shape())\n",
    "        x2 = tf.layers.conv2d(x1, 128, 5 ,2, padding='same')\n",
    "        x2 = tf.layers.batch_normalization(x2, training=True)\n",
    "        x2 = tf.maximum(alpha*x2, x2)\n",
    "        # 8 x 8 x 128 now\n",
    "        \n",
    "        x3 = tf.layers.conv2d(x2, 256, 5, 2, padding='same')\n",
    "        x3 = tf.layers.batch_normalization(x3, training=True)\n",
    "        x3 = tf.maximum(alpha*x3, x3)\n",
    "        # 4 x 4 x 256 now\n",
    "        \n",
    "        x3 = tf.reshape(x3,(-1, 4*4*256))\n",
    "        \n",
    "        logits = tf.layers.dense(x3, 1)\n",
    "#         print(\"Logis shape:{}\".format(logits.get_shape()))\n",
    "        out = tf.sigmoid(logits)\n",
    "        \n",
    "        return out, logits"
   ]
  },
  {
   "cell_type": "code",
   "execution_count": 213,
   "metadata": {
    "collapsed": false
   },
   "outputs": [
    {
     "data": {
      "text/plain": [
       "(2, 32, 32, 3)"
      ]
     },
     "execution_count": 213,
     "metadata": {},
     "output_type": "execute_result"
    },
    {
     "name": "stdout",
     "output_type": "stream",
     "text": [
      "(2, 16, 16, 64)\n",
      "Logis shape:(2, 1)\n"
     ]
    },
    {
     "data": {
      "text/plain": [
       "TensorShape([Dimension(2), Dimension(1)])"
      ]
     },
     "execution_count": 213,
     "metadata": {},
     "output_type": "execute_result"
    }
   ],
   "source": [
    "# Test discriminator\n",
    "tf.reset_default_graph()\n",
    "test_x_input = np.random.randint(0,255, (2,32,32,3))\n",
    "test_x_input.shape\n",
    "\n",
    "test_x = tf.placeholder(tf.float32,test_x_input.shape)\n",
    "out,logits = discriminator(test_x)\n",
    "logits.get_shape()\n",
    "# test_x.get_shape()\n",
    "\n",
    "# with tf.Session() as sess:\n",
    "#     sess.run(tf.global_variables_initializer())\n",
    "#     sess.run(dis, feed_dict={test_x:test_x_input})\n",
    "    "
   ]
  },
  {
   "cell_type": "markdown",
   "metadata": {},
   "source": [
    "## Model Loss\n",
    "\n",
    "Calculating the loss like before, nothing new here."
   ]
  },
  {
   "cell_type": "code",
   "execution_count": 214,
   "metadata": {
    "collapsed": true
   },
   "outputs": [],
   "source": [
    "def model_loss(input_real, input_z, output_dim, alpha=0.2):\n",
    "    \"\"\"\n",
    "    Get the loss for the discriminator and generator\n",
    "    :param input_real: Images from the real dataset\n",
    "    :param input_z: Z input\n",
    "    :param out_channel_dim: The number of channels in the output image\n",
    "    :return: A tuple of (discriminator loss, generator loss)\n",
    "    \"\"\"\n",
    "    \n",
    "    # g_model is a tanh output that is of shape same as input_real\n",
    "    g_model = generator(input_z, output_dim, alpha=alpha)\n",
    "    d_model_real, d_logits_real = discriminator(input_real, alpha=alpha)\n",
    "    d_model_fake, d_logits_fake = discriminator(g_model, reuse=True, alpha=alpha)\n",
    "\n",
    "    d_loss_real = tf.reduce_mean(\n",
    "        tf.nn.sigmoid_cross_entropy_with_logits(logits=d_logits_real, labels=tf.ones_like(d_model_real)))\n",
    "    d_loss_fake = tf.reduce_mean(\n",
    "        tf.nn.sigmoid_cross_entropy_with_logits(logits=d_logits_fake, labels=tf.zeros_like(d_model_fake)))\n",
    "    g_loss = tf.reduce_mean(\n",
    "        tf.nn.sigmoid_cross_entropy_with_logits(logits=d_logits_fake, labels=tf.ones_like(d_model_fake)))\n",
    "\n",
    "    d_loss = d_loss_real + d_loss_fake\n",
    "\n",
    "    return d_loss, g_loss"
   ]
  },
  {
   "cell_type": "markdown",
   "metadata": {},
   "source": [
    "## Optimizers\n",
    "\n",
    "Not much new here, but notice how the train operations are wrapped in a `with tf.control_dependencies` block so the batch normalization layers can update their population statistics."
   ]
  },
  {
   "cell_type": "code",
   "execution_count": 215,
   "metadata": {
    "collapsed": true
   },
   "outputs": [],
   "source": [
    "def model_opt(d_loss, g_loss, learning_rate, beta1):\n",
    "    \"\"\"\n",
    "    Get optimization operations\n",
    "    :param d_loss: Discriminator loss Tensor\n",
    "    :param g_loss: Generator loss Tensor\n",
    "    :param learning_rate: Learning Rate Placeholder\n",
    "    :param beta1: The exponential decay rate for the 1st moment in the optimizer\n",
    "    :return: A tuple of (discriminator training operation, generator training operation)\n",
    "    \"\"\"\n",
    "    # Get weights and bias to update\n",
    "    t_vars = tf.trainable_variables()\n",
    "    d_vars = [var for var in t_vars if var.name.startswith('discriminator')]\n",
    "    g_vars = [var for var in t_vars if var.name.startswith('generator')]\n",
    "\n",
    "    # Optimize\n",
    "    with tf.control_dependencies(tf.get_collection(tf.GraphKeys.UPDATE_OPS)):\n",
    "        d_train_opt = tf.train.AdamOptimizer(learning_rate, beta1=beta1).minimize(d_loss, var_list=d_vars)\n",
    "        g_train_opt = tf.train.AdamOptimizer(learning_rate, beta1=beta1).minimize(g_loss, var_list=g_vars)\n",
    "\n",
    "    return d_train_opt, g_train_opt"
   ]
  },
  {
   "cell_type": "markdown",
   "metadata": {},
   "source": [
    "## Building the model\n",
    "\n",
    "Here we can use the functions we defined about to build the model as a class. This will make it easier to move the network around in our code since the nodes and operations in the graph are packaged in one object."
   ]
  },
  {
   "cell_type": "code",
   "execution_count": 216,
   "metadata": {
    "collapsed": true
   },
   "outputs": [],
   "source": [
    "class GAN:\n",
    "    def __init__(self, real_size, z_size, learning_rate, alpha=0.2, beta1=0.5):\n",
    "        tf.reset_default_graph()\n",
    "        \n",
    "        self.input_real, self.input_z = model_inputs(real_size, z_size)\n",
    "        \n",
    "        self.d_loss, self.g_loss = model_loss(self.input_real, self.input_z,\n",
    "                                              real_size[2], alpha=alpha)\n",
    "        \n",
    "        self.d_opt, self.g_opt = model_opt(self.d_loss, self.g_loss, learning_rate, beta1)"
   ]
  },
  {
   "cell_type": "markdown",
   "metadata": {},
   "source": [
    "Here is a function for displaying generated images."
   ]
  },
  {
   "cell_type": "code",
   "execution_count": 217,
   "metadata": {
    "collapsed": true
   },
   "outputs": [],
   "source": [
    "def view_samples(epoch, samples, nrows, ncols, figsize=(5,5)):\n",
    "    fig, axes = plt.subplots(figsize=figsize, nrows=nrows, ncols=ncols, \n",
    "                             sharey=True, sharex=True)\n",
    "    for ax, img in zip(axes.flatten(), samples[epoch]):\n",
    "        ax.axis('off')\n",
    "        img = ((img - img.min())*255 / (img.max() - img.min())).astype(np.uint8)\n",
    "        ax.set_adjustable('box-forced')\n",
    "        im = ax.imshow(img, aspect='equal')\n",
    "   \n",
    "    plt.subplots_adjust(wspace=0, hspace=0)\n",
    "    return fig, axes"
   ]
  },
  {
   "cell_type": "markdown",
   "metadata": {},
   "source": [
    "And another function we can use to train our network. Notice when we call `generator` to create the samples to display, we set `training` to `False`. That's so the batch normalization layers will use the population statistics rather than the batch statistics. Also notice that we set the `net.input_real` placeholder when we run the generator's optimizer. The generator doesn't actually use it, but we'd get an error without it because of the `tf.control_dependencies` block we created in `model_opt`. "
   ]
  },
  {
   "cell_type": "code",
   "execution_count": 218,
   "metadata": {
    "collapsed": true
   },
   "outputs": [],
   "source": [
    "def train(net, dataset, epochs, batch_size, print_every=10, show_every=100, figsize=(5,5)):\n",
    "    saver = tf.train.Saver()\n",
    "    sample_z = np.random.uniform(-1, 1, size=(72, z_size))\n",
    "\n",
    "    samples, losses = [], []\n",
    "    steps = 0\n",
    "\n",
    "    with tf.Session() as sess:\n",
    "        sess.run(tf.global_variables_initializer())\n",
    "        for e in range(epochs):\n",
    "            for x, y in dataset.batches(batch_size):\n",
    "                steps += 1\n",
    "\n",
    "                # Sample random noise for G\n",
    "                batch_z = np.random.uniform(-1, 1, size=(batch_size, z_size))\n",
    "\n",
    "                # Run optimizers\n",
    "                _ = sess.run(net.d_opt, feed_dict={net.input_real: x, net.input_z: batch_z})\n",
    "                _ = sess.run(net.g_opt, feed_dict={net.input_z: batch_z, net.input_real: x})\n",
    "\n",
    "                if steps % print_every == 0:\n",
    "                    # At the end of each epoch, get the losses and print them out\n",
    "                    train_loss_d = net.d_loss.eval({net.input_z: batch_z, net.input_real: x})\n",
    "                    train_loss_g = net.g_loss.eval({net.input_z: batch_z})\n",
    "\n",
    "                    print(\"Epoch {}/{}...\".format(e+1, epochs),\n",
    "                          \"Discriminator Loss: {:.4f}...\".format(train_loss_d),\n",
    "                          \"Generator Loss: {:.4f}\".format(train_loss_g))\n",
    "                    # Save losses to view after training\n",
    "                    losses.append((train_loss_d, train_loss_g))\n",
    "\n",
    "                if steps % show_every == 0:\n",
    "                    gen_samples = sess.run(\n",
    "                                   generator(net.input_z, 3, reuse=True, training=False),\n",
    "                                   feed_dict={net.input_z: sample_z})\n",
    "                    samples.append(gen_samples)\n",
    "                    _ = view_samples(-1, samples, 6, 12, figsize=figsize)\n",
    "                    plt.show()\n",
    "\n",
    "        saver.save(sess, './checkpoints/generator.ckpt')\n",
    "\n",
    "    with open('samples.pkl', 'wb') as f:\n",
    "        pkl.dump(samples, f)\n",
    "    \n",
    "    return losses, samples"
   ]
  },
  {
   "cell_type": "markdown",
   "metadata": {},
   "source": [
    "## Hyperparameters\n",
    "\n",
    "GANs are very sensitive to hyperparameters. A lot of experimentation goes into finding the best hyperparameters such that the generator and discriminator don't overpower each other. Try out your own hyperparameters or read [the DCGAN paper](https://arxiv.org/pdf/1511.06434.pdf) to see what worked for them.\n",
    "\n",
    ">**Exercise:** Find hyperparameters to train this GAN. The values found in the DCGAN paper work well, or you can experiment on your own. In general, you want the discriminator loss to be around 0.3, this means it is correctly classifying images as fake or real about 50% of the time."
   ]
  },
  {
   "cell_type": "code",
   "execution_count": 225,
   "metadata": {
    "collapsed": false
   },
   "outputs": [],
   "source": [
    "real_size = (32,32,3)\n",
    "z_size = 100\n",
    "learning_rate = 0.001\n",
    "batch_size = 64\n",
    "epochs = 1\n",
    "alpha = 0.01\n",
    "beta1 = 0.9\n",
    "\n",
    "# Create the network\n",
    "net = GAN(real_size, z_size, learning_rate, alpha=alpha, beta1=beta1)"
   ]
  },
  {
   "cell_type": "code",
   "execution_count": 226,
   "metadata": {
    "collapsed": true
   },
   "outputs": [
    {
     "name": "stdout",
     "output_type": "stream",
     "text": [
      "Epoch 1/1... Discriminator Loss: 0.0430... Generator Loss: 14.5043\n",
      "Epoch 1/1... Discriminator Loss: 0.0495... Generator Loss: 15.8509\n",
      "Epoch 1/1... Discriminator Loss: 0.0225... Generator Loss: 10.4140\n",
      "Epoch 1/1... Discriminator Loss: 0.0594... Generator Loss: 2.9815\n",
      "Epoch 1/1... Discriminator Loss: 0.0315... Generator Loss: 6.3872\n",
      "Epoch 1/1... Discriminator Loss: 0.0152... Generator Loss: 5.7218\n"
     ]
    },
    {
     "ename": "KeyboardInterrupt",
     "evalue": "",
     "output_type": "error",
     "traceback": [
      "\u001b[0;31m---------------------------------------------------------------------------\u001b[0m",
      "\u001b[0;31mKeyboardInterrupt\u001b[0m                         Traceback (most recent call last)",
      "\u001b[0;32m<ipython-input-226-44f7f3b1a182>\u001b[0m in \u001b[0;36m<module>\u001b[0;34m()\u001b[0m\n\u001b[1;32m      1\u001b[0m \u001b[1;31m# Load the data and train the network here\u001b[0m\u001b[1;33m\u001b[0m\u001b[1;33m\u001b[0m\u001b[0m\n\u001b[1;32m      2\u001b[0m \u001b[0mdataset\u001b[0m \u001b[1;33m=\u001b[0m \u001b[0mDataset\u001b[0m\u001b[1;33m(\u001b[0m\u001b[0mtrainset\u001b[0m\u001b[1;33m,\u001b[0m \u001b[0mtestset\u001b[0m\u001b[1;33m)\u001b[0m\u001b[1;33m\u001b[0m\u001b[0m\n\u001b[0;32m----> 3\u001b[0;31m \u001b[0mlosses\u001b[0m\u001b[1;33m,\u001b[0m \u001b[0msamples\u001b[0m \u001b[1;33m=\u001b[0m \u001b[0mtrain\u001b[0m\u001b[1;33m(\u001b[0m\u001b[0mnet\u001b[0m\u001b[1;33m,\u001b[0m \u001b[0mdataset\u001b[0m\u001b[1;33m,\u001b[0m \u001b[0mepochs\u001b[0m\u001b[1;33m,\u001b[0m \u001b[0mbatch_size\u001b[0m\u001b[1;33m,\u001b[0m \u001b[0mfigsize\u001b[0m\u001b[1;33m=\u001b[0m\u001b[1;33m(\u001b[0m\u001b[1;36m10\u001b[0m\u001b[1;33m,\u001b[0m\u001b[1;36m5\u001b[0m\u001b[1;33m)\u001b[0m\u001b[1;33m)\u001b[0m\u001b[1;33m\u001b[0m\u001b[0m\n\u001b[0m",
      "\u001b[0;32m<ipython-input-218-e173767cd948>\u001b[0m in \u001b[0;36mtrain\u001b[0;34m(net, dataset, epochs, batch_size, print_every, show_every, figsize)\u001b[0m\n\u001b[1;32m     17\u001b[0m                 \u001b[1;31m# Run optimizers\u001b[0m\u001b[1;33m\u001b[0m\u001b[1;33m\u001b[0m\u001b[0m\n\u001b[1;32m     18\u001b[0m                 \u001b[0m_\u001b[0m \u001b[1;33m=\u001b[0m \u001b[0msess\u001b[0m\u001b[1;33m.\u001b[0m\u001b[0mrun\u001b[0m\u001b[1;33m(\u001b[0m\u001b[0mnet\u001b[0m\u001b[1;33m.\u001b[0m\u001b[0md_opt\u001b[0m\u001b[1;33m,\u001b[0m \u001b[0mfeed_dict\u001b[0m\u001b[1;33m=\u001b[0m\u001b[1;33m{\u001b[0m\u001b[0mnet\u001b[0m\u001b[1;33m.\u001b[0m\u001b[0minput_real\u001b[0m\u001b[1;33m:\u001b[0m \u001b[0mx\u001b[0m\u001b[1;33m,\u001b[0m \u001b[0mnet\u001b[0m\u001b[1;33m.\u001b[0m\u001b[0minput_z\u001b[0m\u001b[1;33m:\u001b[0m \u001b[0mbatch_z\u001b[0m\u001b[1;33m}\u001b[0m\u001b[1;33m)\u001b[0m\u001b[1;33m\u001b[0m\u001b[0m\n\u001b[0;32m---> 19\u001b[0;31m                 \u001b[0m_\u001b[0m \u001b[1;33m=\u001b[0m \u001b[0msess\u001b[0m\u001b[1;33m.\u001b[0m\u001b[0mrun\u001b[0m\u001b[1;33m(\u001b[0m\u001b[0mnet\u001b[0m\u001b[1;33m.\u001b[0m\u001b[0mg_opt\u001b[0m\u001b[1;33m,\u001b[0m \u001b[0mfeed_dict\u001b[0m\u001b[1;33m=\u001b[0m\u001b[1;33m{\u001b[0m\u001b[0mnet\u001b[0m\u001b[1;33m.\u001b[0m\u001b[0minput_z\u001b[0m\u001b[1;33m:\u001b[0m \u001b[0mbatch_z\u001b[0m\u001b[1;33m,\u001b[0m \u001b[0mnet\u001b[0m\u001b[1;33m.\u001b[0m\u001b[0minput_real\u001b[0m\u001b[1;33m:\u001b[0m \u001b[0mx\u001b[0m\u001b[1;33m}\u001b[0m\u001b[1;33m)\u001b[0m\u001b[1;33m\u001b[0m\u001b[0m\n\u001b[0m\u001b[1;32m     20\u001b[0m \u001b[1;33m\u001b[0m\u001b[0m\n\u001b[1;32m     21\u001b[0m                 \u001b[1;32mif\u001b[0m \u001b[0msteps\u001b[0m \u001b[1;33m%\u001b[0m \u001b[0mprint_every\u001b[0m \u001b[1;33m==\u001b[0m \u001b[1;36m0\u001b[0m\u001b[1;33m:\u001b[0m\u001b[1;33m\u001b[0m\u001b[0m\n",
      "\u001b[0;32mD:\\kelvin\\anaconda3\\envs\\dlnd-tf-lab\\lib\\site-packages\\tensorflow\\python\\client\\session.py\u001b[0m in \u001b[0;36mrun\u001b[0;34m(self, fetches, feed_dict, options, run_metadata)\u001b[0m\n\u001b[1;32m    893\u001b[0m     \u001b[1;32mtry\u001b[0m\u001b[1;33m:\u001b[0m\u001b[1;33m\u001b[0m\u001b[0m\n\u001b[1;32m    894\u001b[0m       result = self._run(None, fetches, feed_dict, options_ptr,\n\u001b[0;32m--> 895\u001b[0;31m                          run_metadata_ptr)\n\u001b[0m\u001b[1;32m    896\u001b[0m       \u001b[1;32mif\u001b[0m \u001b[0mrun_metadata\u001b[0m\u001b[1;33m:\u001b[0m\u001b[1;33m\u001b[0m\u001b[0m\n\u001b[1;32m    897\u001b[0m         \u001b[0mproto_data\u001b[0m \u001b[1;33m=\u001b[0m \u001b[0mtf_session\u001b[0m\u001b[1;33m.\u001b[0m\u001b[0mTF_GetBuffer\u001b[0m\u001b[1;33m(\u001b[0m\u001b[0mrun_metadata_ptr\u001b[0m\u001b[1;33m)\u001b[0m\u001b[1;33m\u001b[0m\u001b[0m\n",
      "\u001b[0;32mD:\\kelvin\\anaconda3\\envs\\dlnd-tf-lab\\lib\\site-packages\\tensorflow\\python\\client\\session.py\u001b[0m in \u001b[0;36m_run\u001b[0;34m(self, handle, fetches, feed_dict, options, run_metadata)\u001b[0m\n\u001b[1;32m   1122\u001b[0m     \u001b[1;32mif\u001b[0m \u001b[0mfinal_fetches\u001b[0m \u001b[1;32mor\u001b[0m \u001b[0mfinal_targets\u001b[0m \u001b[1;32mor\u001b[0m \u001b[1;33m(\u001b[0m\u001b[0mhandle\u001b[0m \u001b[1;32mand\u001b[0m \u001b[0mfeed_dict_tensor\u001b[0m\u001b[1;33m)\u001b[0m\u001b[1;33m:\u001b[0m\u001b[1;33m\u001b[0m\u001b[0m\n\u001b[1;32m   1123\u001b[0m       results = self._do_run(handle, final_targets, final_fetches,\n\u001b[0;32m-> 1124\u001b[0;31m                              feed_dict_tensor, options, run_metadata)\n\u001b[0m\u001b[1;32m   1125\u001b[0m     \u001b[1;32melse\u001b[0m\u001b[1;33m:\u001b[0m\u001b[1;33m\u001b[0m\u001b[0m\n\u001b[1;32m   1126\u001b[0m       \u001b[0mresults\u001b[0m \u001b[1;33m=\u001b[0m \u001b[1;33m[\u001b[0m\u001b[1;33m]\u001b[0m\u001b[1;33m\u001b[0m\u001b[0m\n",
      "\u001b[0;32mD:\\kelvin\\anaconda3\\envs\\dlnd-tf-lab\\lib\\site-packages\\tensorflow\\python\\client\\session.py\u001b[0m in \u001b[0;36m_do_run\u001b[0;34m(self, handle, target_list, fetch_list, feed_dict, options, run_metadata)\u001b[0m\n\u001b[1;32m   1319\u001b[0m     \u001b[1;32mif\u001b[0m \u001b[0mhandle\u001b[0m \u001b[1;32mis\u001b[0m \u001b[1;32mNone\u001b[0m\u001b[1;33m:\u001b[0m\u001b[1;33m\u001b[0m\u001b[0m\n\u001b[1;32m   1320\u001b[0m       return self._do_call(_run_fn, self._session, feeds, fetches, targets,\n\u001b[0;32m-> 1321\u001b[0;31m                            options, run_metadata)\n\u001b[0m\u001b[1;32m   1322\u001b[0m     \u001b[1;32melse\u001b[0m\u001b[1;33m:\u001b[0m\u001b[1;33m\u001b[0m\u001b[0m\n\u001b[1;32m   1323\u001b[0m       \u001b[1;32mreturn\u001b[0m \u001b[0mself\u001b[0m\u001b[1;33m.\u001b[0m\u001b[0m_do_call\u001b[0m\u001b[1;33m(\u001b[0m\u001b[0m_prun_fn\u001b[0m\u001b[1;33m,\u001b[0m \u001b[0mself\u001b[0m\u001b[1;33m.\u001b[0m\u001b[0m_session\u001b[0m\u001b[1;33m,\u001b[0m \u001b[0mhandle\u001b[0m\u001b[1;33m,\u001b[0m \u001b[0mfeeds\u001b[0m\u001b[1;33m,\u001b[0m \u001b[0mfetches\u001b[0m\u001b[1;33m)\u001b[0m\u001b[1;33m\u001b[0m\u001b[0m\n",
      "\u001b[0;32mD:\\kelvin\\anaconda3\\envs\\dlnd-tf-lab\\lib\\site-packages\\tensorflow\\python\\client\\session.py\u001b[0m in \u001b[0;36m_do_call\u001b[0;34m(self, fn, *args)\u001b[0m\n\u001b[1;32m   1325\u001b[0m   \u001b[1;32mdef\u001b[0m \u001b[0m_do_call\u001b[0m\u001b[1;33m(\u001b[0m\u001b[0mself\u001b[0m\u001b[1;33m,\u001b[0m \u001b[0mfn\u001b[0m\u001b[1;33m,\u001b[0m \u001b[1;33m*\u001b[0m\u001b[0margs\u001b[0m\u001b[1;33m)\u001b[0m\u001b[1;33m:\u001b[0m\u001b[1;33m\u001b[0m\u001b[0m\n\u001b[1;32m   1326\u001b[0m     \u001b[1;32mtry\u001b[0m\u001b[1;33m:\u001b[0m\u001b[1;33m\u001b[0m\u001b[0m\n\u001b[0;32m-> 1327\u001b[0;31m       \u001b[1;32mreturn\u001b[0m \u001b[0mfn\u001b[0m\u001b[1;33m(\u001b[0m\u001b[1;33m*\u001b[0m\u001b[0margs\u001b[0m\u001b[1;33m)\u001b[0m\u001b[1;33m\u001b[0m\u001b[0m\n\u001b[0m\u001b[1;32m   1328\u001b[0m     \u001b[1;32mexcept\u001b[0m \u001b[0merrors\u001b[0m\u001b[1;33m.\u001b[0m\u001b[0mOpError\u001b[0m \u001b[1;32mas\u001b[0m \u001b[0me\u001b[0m\u001b[1;33m:\u001b[0m\u001b[1;33m\u001b[0m\u001b[0m\n\u001b[1;32m   1329\u001b[0m       \u001b[0mmessage\u001b[0m \u001b[1;33m=\u001b[0m \u001b[0mcompat\u001b[0m\u001b[1;33m.\u001b[0m\u001b[0mas_text\u001b[0m\u001b[1;33m(\u001b[0m\u001b[0me\u001b[0m\u001b[1;33m.\u001b[0m\u001b[0mmessage\u001b[0m\u001b[1;33m)\u001b[0m\u001b[1;33m\u001b[0m\u001b[0m\n",
      "\u001b[0;32mD:\\kelvin\\anaconda3\\envs\\dlnd-tf-lab\\lib\\site-packages\\tensorflow\\python\\client\\session.py\u001b[0m in \u001b[0;36m_run_fn\u001b[0;34m(session, feed_dict, fetch_list, target_list, options, run_metadata)\u001b[0m\n\u001b[1;32m   1304\u001b[0m           return tf_session.TF_Run(session, options,\n\u001b[1;32m   1305\u001b[0m                                    \u001b[0mfeed_dict\u001b[0m\u001b[1;33m,\u001b[0m \u001b[0mfetch_list\u001b[0m\u001b[1;33m,\u001b[0m \u001b[0mtarget_list\u001b[0m\u001b[1;33m,\u001b[0m\u001b[1;33m\u001b[0m\u001b[0m\n\u001b[0;32m-> 1306\u001b[0;31m                                    status, run_metadata)\n\u001b[0m\u001b[1;32m   1307\u001b[0m \u001b[1;33m\u001b[0m\u001b[0m\n\u001b[1;32m   1308\u001b[0m     \u001b[1;32mdef\u001b[0m \u001b[0m_prun_fn\u001b[0m\u001b[1;33m(\u001b[0m\u001b[0msession\u001b[0m\u001b[1;33m,\u001b[0m \u001b[0mhandle\u001b[0m\u001b[1;33m,\u001b[0m \u001b[0mfeed_dict\u001b[0m\u001b[1;33m,\u001b[0m \u001b[0mfetch_list\u001b[0m\u001b[1;33m)\u001b[0m\u001b[1;33m:\u001b[0m\u001b[1;33m\u001b[0m\u001b[0m\n",
      "\u001b[0;31mKeyboardInterrupt\u001b[0m: "
     ]
    }
   ],
   "source": [
    "# Load the data and train the network here\n",
    "dataset = Dataset(trainset, testset)\n",
    "losses, samples = train(net, dataset, epochs, batch_size, figsize=(10,5))"
   ]
  },
  {
   "cell_type": "code",
   "execution_count": null,
   "metadata": {
    "collapsed": true
   },
   "outputs": [],
   "source": [
    "fig, ax = plt.subplots()\n",
    "losses = np.array(losses)\n",
    "plt.plot(losses.T[0], label='Discriminator', alpha=0.5)\n",
    "plt.plot(losses.T[1], label='Generator', alpha=0.5)\n",
    "plt.title(\"Training Losses\")\n",
    "plt.legend()"
   ]
  },
  {
   "cell_type": "code",
   "execution_count": null,
   "metadata": {
    "collapsed": true,
    "scrolled": true
   },
   "outputs": [],
   "source": [
    "_ = view_samples(-1, samples, 6, 12, figsize=(10,5))"
   ]
  }
 ],
 "metadata": {
  "kernelspec": {
   "display_name": "Python [default]",
   "language": "python",
   "name": "python3"
  },
  "language_info": {
   "codemirror_mode": {
    "name": "ipython",
    "version": 3
   },
   "file_extension": ".py",
   "mimetype": "text/x-python",
   "name": "python",
   "nbconvert_exporter": "python",
   "pygments_lexer": "ipython3",
   "version": "3.5.2"
  }
 },
 "nbformat": 4,
 "nbformat_minor": 2
}
